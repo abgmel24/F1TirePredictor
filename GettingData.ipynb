{
 "cells": [
  {
   "cell_type": "code",
   "execution_count": 1,
   "id": "19585095-51f6-4a48-9c91-4ae752b5f3d1",
   "metadata": {},
   "outputs": [],
   "source": [
    "import fastf1\n",
    "from fastf1 import get_session\n",
    "from fastf1.core import InvalidSessionError\n",
    "from datetime import datetime"
   ]
  },
  {
   "cell_type": "code",
   "execution_count": 2,
   "id": "aaf2abb6-27f3-4a10-b9bd-818ef64611a5",
   "metadata": {},
   "outputs": [],
   "source": [
    "import pandas as pd\n",
    "import numpy as np"
   ]
  },
  {
   "cell_type": "code",
   "execution_count": 3,
   "id": "64e4a823-9e86-4731-80d8-d9dd4adc3cb2",
   "metadata": {},
   "outputs": [],
   "source": [
    "def get_race_data(year, num_races):\n",
    "    races = []\n",
    "    for race in range(1, num_races):  # Maximum of 22 races in a season\n",
    "        try:\n",
    "            session = fastf1.get_session(year, race, 'R')\n",
    "            session.load(telemetry=False)\n",
    "            print(session.session_info)\n",
    "            weather_data = session.laps.get_weather_data()\n",
    "            #print(weather_data)\n",
    "            laps = session.laps\n",
    "            laps = laps.reset_index(drop=True)\n",
    "            weather_data = weather_data.reset_index(drop=True)\n",
    "    \n",
    "            # exclude the 'Time' column from weather data when joining\n",
    "            race_data = pd.concat([laps, weather_data.loc[:, ~(weather_data.columns == 'Time')]], axis=1)\n",
    "            race_data['Year'] = year\n",
    "            race_data['Event'] = session.session_info['Meeting']['Name']\n",
    "            races.append(race_data)\n",
    "        except InvalidSessionError:\n",
    "            # No such race found for the given year\n",
    "            # Could be because there was no race held in that place in that year\n",
    "            break\n",
    "    return races"
   ]
  },
  {
   "cell_type": "code",
   "execution_count": 4,
   "id": "6192bbc5-b3de-475f-be54-db38c5f1782c",
   "metadata": {},
   "outputs": [],
   "source": [
    "#https://stackoverflow.com/questions/21414639/convert-timedelta-to-floating-point\n",
    "def convert_timedelta_to_seconds(df):\n",
    "    for column in df.select_dtypes(include=['timedelta64']):\n",
    "        df[column] = df[column].dt.total_seconds()\n",
    "    return df"
   ]
  },
  {
   "cell_type": "code",
   "execution_count": 5,
   "id": "8597db47-a3db-4a3e-8692-1aa441a5895a",
   "metadata": {},
   "outputs": [],
   "source": [
    "def clean_data(races_data):\n",
    "    races_data = races_data.loc[races_data['IsAccurate'] == True]\n",
    "    races_data = races_data.loc[races_data['FastF1Generated'] == False]\n",
    "    races_data = races_data.loc[races_data['Deleted'] == False]\n",
    "    #https://pandas.pydata.org/docs/reference/api/pandas.DataFrame.drop.html\n",
    "    races_data = races_data.drop(columns=['LapStartDate','PitInTime', 'PitOutTime','DeletedReason','IsAccurate','FastF1Generated',\n",
    "                                          'Deleted','Sector1SessionTime','Sector2SessionTime','Sector3SessionTime','LapStartTime'])\n",
    "    #https://stackoverflow.com/questions/15891038/change-column-type-in-pandas\n",
    "    races_data[['AirTemp', 'Humidity','Pressure','TrackTemp','WindDirection','WindSpeed']] = races_data[['AirTemp', 'Humidity','Pressure','TrackTemp','WindDirection','WindSpeed']].apply(pd.to_numeric)\n",
    "    races_data = races_data.astype({'Rainfall': bool})\n",
    "    \n",
    "    races_data.dropna(inplace = True)\n",
    "    \n",
    "    # Convert timedelta64 columns to seconds\n",
    "    races_data = convert_timedelta_to_seconds(races_data)\n",
    "    return races_data"
   ]
  },
  {
   "cell_type": "code",
   "execution_count": 6,
   "id": "4b673a83-74ba-448e-91f3-926de5237d23",
   "metadata": {},
   "outputs": [
    {
     "name": "stderr",
     "output_type": "stream",
     "text": [
      "req         WARNING \tDEFAULT CACHE ENABLED! (599.4 MB) C:\\Users\\abhir\\AppData\\Local\\Temp\\fastf1\n",
      "core           INFO \tLoading data for Austrian Grand Prix - Race [v3.4.4]\n",
      "req            INFO \tUsing cached data for session_info\n",
      "req            INFO \tUsing cached data for driver_info\n",
      "req            INFO \tUsing cached data for session_status_data\n",
      "req            INFO \tUsing cached data for lap_count\n",
      "req            INFO \tUsing cached data for track_status_data\n",
      "req            INFO \tUsing cached data for _extended_timing_data\n",
      "req            INFO \tUsing cached data for timing_app_data\n",
      "core           INFO \tProcessing timing data...\n",
      "core        WARNING \tDriver 77: Lap timing integrity check failed for 1 lap(s)\n",
      "core        WARNING \tDriver 16: Lap timing integrity check failed for 1 lap(s)\n",
      "core        WARNING \tDriver  4: Lap timing integrity check failed for 1 lap(s)\n",
      "core        WARNING \tDriver 44: Lap timing integrity check failed for 1 lap(s)\n",
      "core        WARNING \tDriver 55: Lap timing integrity check failed for 1 lap(s)\n",
      "core        WARNING \tDriver 11: Lap timing integrity check failed for 1 lap(s)\n",
      "core        WARNING \tDriver 10: Lap timing integrity check failed for 1 lap(s)\n",
      "core        WARNING \tDriver 31: Lap timing integrity check failed for 1 lap(s)\n",
      "core        WARNING \tDriver 99: Lap timing integrity check failed for 1 lap(s)\n",
      "core        WARNING \tDriver  5: Lap timing integrity check failed for 1 lap(s)\n",
      "core        WARNING \tDriver 26: Lap timing integrity check failed for 1 lap(s)\n",
      "core        WARNING \tDriver 23: Lap timing integrity check failed for 1 lap(s)\n",
      "core        WARNING \tDriver  8: Lap timing integrity check failed for 1 lap(s)\n",
      "core        WARNING \tDriver 20: Lap timing integrity check failed for 1 lap(s)\n",
      "core        WARNING \tDriver 18: Lap timing integrity check failed for 1 lap(s)\n",
      "core        WARNING \tDriver  3: Lap timing integrity check failed for 1 lap(s)\n",
      "req            INFO \tUsing cached data for weather_data\n",
      "req            INFO \tUsing cached data for race_control_messages\n",
      "core           INFO \tFinished loading data for 20 drivers: ['77', '16', '4', '44', '55', '11', '10', '31', '99', '5', '6', '26', '23', '7', '63', '8', '20', '18', '3', '33']\n"
     ]
    },
    {
     "name": "stdout",
     "output_type": "stream",
     "text": [
      "{'Meeting': {'Key': 1045, 'Name': 'Austrian Grand Prix', 'Location': 'Spielberg', 'Country': {'Key': 17, 'Code': 'AUT', 'Name': 'Austria'}, 'Circuit': {'Key': 19, 'ShortName': 'Spielberg'}}, 'ArchiveStatus': {'Status': 'Generating'}, 'Key': 5744, 'Type': 'Race', 'Name': 'Race', 'StartDate': datetime.datetime(2020, 7, 5, 15, 10), 'EndDate': datetime.datetime(2020, 7, 5, 17, 10), 'GmtOffset': datetime.timedelta(seconds=7200), 'Path': '2020/2020-07-05_Austrian_Grand_Prix/2020-07-05_Race/'}\n"
     ]
    },
    {
     "name": "stderr",
     "output_type": "stream",
     "text": [
      "core           INFO \tLoading data for Styrian Grand Prix - Race [v3.4.4]\n",
      "req            INFO \tUsing cached data for session_info\n",
      "req            INFO \tUsing cached data for driver_info\n",
      "req            INFO \tUsing cached data for session_status_data\n",
      "req            INFO \tUsing cached data for lap_count\n",
      "req            INFO \tUsing cached data for track_status_data\n",
      "req            INFO \tUsing cached data for _extended_timing_data\n",
      "req            INFO \tUsing cached data for timing_app_data\n",
      "core           INFO \tProcessing timing data...\n",
      "req            INFO \tUsing cached data for weather_data\n",
      "req            INFO \tUsing cached data for race_control_messages\n",
      "core           INFO \tFinished loading data for 20 drivers: ['44', '77', '33', '23', '4', '11', '18', '3', '55', '26', '7', '20', '8', '99', '10', '63', '6', '31', '16', '5']\n"
     ]
    },
    {
     "name": "stdout",
     "output_type": "stream",
     "text": [
      "{'Meeting': {'Key': 1046, 'Name': 'Styrian Grand Prix', 'Location': 'Spielberg', 'Country': {'Key': 17, 'Code': 'AUT', 'Name': 'Austria'}, 'Circuit': {'Key': 19, 'ShortName': 'Spielberg'}}, 'ArchiveStatus': {'Status': 'Generating'}, 'Key': 5752, 'Type': 'Race', 'Name': 'Race', 'StartDate': datetime.datetime(2020, 7, 12, 15, 10), 'EndDate': datetime.datetime(2020, 7, 12, 17, 10), 'GmtOffset': datetime.timedelta(seconds=7200), 'Path': '2020/2020-07-12_Styrian_Grand_Prix/2020-07-12_Race/'}\n"
     ]
    },
    {
     "name": "stderr",
     "output_type": "stream",
     "text": [
      "core           INFO \tLoading data for Hungarian Grand Prix - Race [v3.4.4]\n",
      "req            INFO \tUsing cached data for session_info\n",
      "req            INFO \tUsing cached data for driver_info\n",
      "req            INFO \tUsing cached data for session_status_data\n",
      "req            INFO \tUsing cached data for lap_count\n",
      "req            INFO \tUsing cached data for track_status_data\n",
      "req            INFO \tUsing cached data for _extended_timing_data\n",
      "req            INFO \tUsing cached data for timing_app_data\n",
      "core           INFO \tProcessing timing data...\n",
      "req            INFO \tUsing cached data for weather_data\n",
      "req            INFO \tUsing cached data for race_control_messages\n",
      "core           INFO \tFinished loading data for 20 drivers: ['44', '33', '77', '18', '23', '5', '11', '3', '55', '20', '16', '26', '4', '31', '7', '8', '99', '63', '6', '10']\n"
     ]
    },
    {
     "name": "stdout",
     "output_type": "stream",
     "text": [
      "{'Meeting': {'Key': 1047, 'Name': 'Hungarian Grand Prix', 'Location': 'Budapest', 'Country': {'Key': 14, 'Code': 'HUN', 'Name': 'Hungary'}, 'Circuit': {'Key': 4, 'ShortName': 'Hungaroring'}}, 'ArchiveStatus': {'Status': 'Generating'}, 'Key': 5760, 'Type': 'Race', 'Name': 'Race', 'StartDate': datetime.datetime(2020, 7, 19, 15, 10), 'EndDate': datetime.datetime(2020, 7, 19, 17, 10), 'GmtOffset': datetime.timedelta(seconds=7200), 'Path': '2020/2020-07-19_Hungarian_Grand_Prix/2020-07-19_Race/'}\n"
     ]
    },
    {
     "name": "stderr",
     "output_type": "stream",
     "text": [
      "core           INFO \tLoading data for British Grand Prix - Race [v3.4.4]\n",
      "req            INFO \tUsing cached data for session_info\n",
      "req            INFO \tUsing cached data for driver_info\n",
      "req            INFO \tUsing cached data for session_status_data\n",
      "req            INFO \tUsing cached data for lap_count\n",
      "req            INFO \tUsing cached data for track_status_data\n",
      "req            INFO \tUsing cached data for _extended_timing_data\n",
      "req            INFO \tUsing cached data for timing_app_data\n",
      "core           INFO \tProcessing timing data...\n",
      "req            INFO \tUsing cached data for weather_data\n",
      "req            INFO \tUsing cached data for race_control_messages\n",
      "core           INFO \tFinished loading data for 20 drivers: ['44', '33', '16', '3', '4', '31', '10', '23', '18', '5', '77', '63', '55', '99', '6', '8', '7', '26', '20', '27']\n"
     ]
    },
    {
     "name": "stdout",
     "output_type": "stream",
     "text": [
      "{'Meeting': {'Key': 1048, 'Name': 'British Grand Prix', 'Location': 'Silverstone', 'Country': {'Key': 2, 'Code': 'GBR', 'Name': 'Great Britain'}, 'Circuit': {'Key': 2, 'ShortName': 'Silverstone'}}, 'ArchiveStatus': {'Status': 'Generating'}, 'Key': 5768, 'Type': 'Race', 'Name': 'Race', 'StartDate': datetime.datetime(2020, 8, 2, 14, 10), 'EndDate': datetime.datetime(2020, 8, 2, 16, 10), 'GmtOffset': datetime.timedelta(seconds=3600), 'Path': '2020/2020-08-02_British_Grand_Prix/2020-08-02_Race/'}\n"
     ]
    },
    {
     "name": "stderr",
     "output_type": "stream",
     "text": [
      "core           INFO \tLoading data for 70th Anniversary Grand Prix - Race [v3.4.4]\n",
      "req            INFO \tUsing cached data for session_info\n",
      "req            INFO \tUsing cached data for driver_info\n",
      "req            INFO \tUsing cached data for session_status_data\n",
      "req            INFO \tUsing cached data for lap_count\n",
      "req            INFO \tUsing cached data for track_status_data\n",
      "req            INFO \tUsing cached data for _extended_timing_data\n",
      "req            INFO \tUsing cached data for timing_app_data\n",
      "core           INFO \tProcessing timing data...\n",
      "req            INFO \tUsing cached data for weather_data\n",
      "req            INFO \tUsing cached data for race_control_messages\n",
      "core           INFO \tFinished loading data for 20 drivers: ['33', '44', '77', '16', '23', '18', '27', '31', '4', '26', '10', '5', '55', '3', '7', '8', '99', '63', '6', '20']\n"
     ]
    },
    {
     "name": "stdout",
     "output_type": "stream",
     "text": [
      "{'Meeting': {'Key': 1049, 'Name': '70th Anniversary Grand Prix', 'Location': 'Silverstone', 'Country': {'Key': 2, 'Code': 'GBR', 'Name': 'Great Britain'}, 'Circuit': {'Key': 2, 'ShortName': 'Silverstone'}}, 'ArchiveStatus': {'Status': 'Generating'}, 'Key': 5776, 'Type': 'Race', 'Name': 'Race', 'StartDate': datetime.datetime(2020, 8, 9, 14, 10), 'EndDate': datetime.datetime(2020, 8, 9, 16, 10), 'GmtOffset': datetime.timedelta(seconds=3600), 'Path': '2020/2020-08-09_70th_Anniversary_Grand_Prix/2020-08-09_Race/'}\n"
     ]
    },
    {
     "name": "stderr",
     "output_type": "stream",
     "text": [
      "core           INFO \tLoading data for Spanish Grand Prix - Race [v3.4.4]\n",
      "req            INFO \tUsing cached data for session_info\n",
      "req            INFO \tUsing cached data for driver_info\n",
      "req            INFO \tUsing cached data for session_status_data\n",
      "req            INFO \tUsing cached data for lap_count\n",
      "req            INFO \tUsing cached data for track_status_data\n",
      "req            INFO \tUsing cached data for _extended_timing_data\n",
      "req            INFO \tUsing cached data for timing_app_data\n",
      "core           INFO \tProcessing timing data...\n",
      "req            INFO \tUsing cached data for weather_data\n",
      "req            INFO \tUsing cached data for race_control_messages\n",
      "core           INFO \tFinished loading data for 20 drivers: ['44', '33', '77', '18', '11', '55', '5', '23', '10', '4', '3', '26', '31', '7', '20', '99', '63', '6', '8', '16']\n"
     ]
    },
    {
     "name": "stdout",
     "output_type": "stream",
     "text": [
      "{'Meeting': {'Key': 1050, 'Name': 'Spanish Grand Prix', 'Location': 'Barcelona', 'Country': {'Key': 1, 'Code': 'ESP', 'Name': 'Spain'}, 'Circuit': {'Key': 15, 'ShortName': 'Catalunya'}}, 'ArchiveStatus': {'Status': 'Generating'}, 'Key': 5784, 'Type': 'Race', 'Name': 'Race', 'StartDate': datetime.datetime(2020, 8, 16, 15, 10), 'EndDate': datetime.datetime(2020, 8, 16, 17, 10), 'GmtOffset': datetime.timedelta(seconds=7200), 'Path': '2020/2020-08-16_Spanish_Grand_Prix/2020-08-16_Race/'}\n"
     ]
    },
    {
     "name": "stderr",
     "output_type": "stream",
     "text": [
      "core           INFO \tLoading data for Belgian Grand Prix - Race [v3.4.4]\n",
      "req            INFO \tUsing cached data for session_info\n",
      "req            INFO \tUsing cached data for driver_info\n",
      "req            INFO \tUsing cached data for session_status_data\n",
      "req            INFO \tUsing cached data for lap_count\n",
      "req            INFO \tUsing cached data for track_status_data\n",
      "req            INFO \tUsing cached data for _extended_timing_data\n",
      "req            INFO \tUsing cached data for timing_app_data\n",
      "core           INFO \tProcessing timing data...\n",
      "req            INFO \tUsing cached data for weather_data\n",
      "req            INFO \tUsing cached data for race_control_messages\n",
      "core           INFO \tFinished loading data for 20 drivers: ['44', '77', '33', '3', '31', '23', '4', '10', '18', '11', '26', '7', '5', '16', '8', '6', '20', '99', '63', '55']\n"
     ]
    },
    {
     "name": "stdout",
     "output_type": "stream",
     "text": [
      "{'Meeting': {'Key': 1051, 'Name': 'Belgian Grand Prix', 'Location': 'Spa-Francorchamps', 'Country': {'Key': 16, 'Code': 'BEL', 'Name': 'Belgium'}, 'Circuit': {'Key': 7, 'ShortName': 'Spa-Francorchamps'}}, 'ArchiveStatus': {'Status': 'Generating'}, 'Key': 5792, 'Type': 'Race', 'Name': 'Race', 'StartDate': datetime.datetime(2020, 8, 30, 15, 10), 'EndDate': datetime.datetime(2020, 8, 30, 17, 10), 'GmtOffset': datetime.timedelta(seconds=7200), 'Path': '2020/2020-08-30_Belgian_Grand_Prix/2020-08-30_Race/'}\n"
     ]
    },
    {
     "name": "stderr",
     "output_type": "stream",
     "text": [
      "core           INFO \tLoading data for Italian Grand Prix - Race [v3.4.4]\n",
      "req            INFO \tUsing cached data for session_info\n",
      "req            INFO \tUsing cached data for driver_info\n",
      "req            INFO \tUsing cached data for session_status_data\n",
      "req            INFO \tUsing cached data for lap_count\n",
      "req            INFO \tUsing cached data for track_status_data\n",
      "req            INFO \tUsing cached data for _extended_timing_data\n",
      "req            INFO \tUsing cached data for timing_app_data\n",
      "core           INFO \tProcessing timing data...\n",
      "req            INFO \tUsing cached data for weather_data\n",
      "req            INFO \tUsing cached data for race_control_messages\n",
      "core           INFO \tFinished loading data for 20 drivers: ['10', '55', '18', '4', '77', '3', '44', '31', '26', '11', '6', '8', '7', '63', '23', '99', '33', '16', '20', '5']\n"
     ]
    },
    {
     "name": "stdout",
     "output_type": "stream",
     "text": [
      "{'Meeting': {'Key': 1052, 'Name': 'Italian Grand Prix', 'Location': 'Monza', 'Country': {'Key': 13, 'Code': 'ITA', 'Name': 'Italy'}, 'Circuit': {'Key': 39, 'ShortName': 'Monza'}}, 'ArchiveStatus': {'Status': 'Generating'}, 'Key': 5800, 'Type': 'Race', 'Name': 'Race', 'StartDate': datetime.datetime(2020, 9, 6, 15, 10), 'EndDate': datetime.datetime(2020, 9, 6, 17, 10), 'GmtOffset': datetime.timedelta(seconds=7200), 'Path': '2020/2020-09-06_Italian_Grand_Prix/2020-09-06_Race/'}\n"
     ]
    },
    {
     "name": "stderr",
     "output_type": "stream",
     "text": [
      "core           INFO \tLoading data for Tuscan Grand Prix - Race [v3.4.4]\n",
      "req            INFO \tUsing cached data for session_info\n",
      "req            INFO \tUsing cached data for driver_info\n",
      "req            INFO \tUsing cached data for session_status_data\n",
      "req            INFO \tUsing cached data for lap_count\n",
      "req            INFO \tUsing cached data for track_status_data\n",
      "req            INFO \tUsing cached data for _extended_timing_data\n",
      "req            INFO \tUsing cached data for timing_app_data\n",
      "core           INFO \tProcessing timing data...\n",
      "req            INFO \tUsing cached data for weather_data\n",
      "req            INFO \tUsing cached data for race_control_messages\n",
      "core           INFO \tFinished loading data for 20 drivers: ['44', '77', '23', '3', '11', '4', '26', '16', '7', '5', '63', '8', '18', '31', '6', '20', '99', '55', '33', '10']\n"
     ]
    },
    {
     "name": "stdout",
     "output_type": "stream",
     "text": [
      "{'Meeting': {'Key': 1053, 'Name': 'Tuscan Grand Prix', 'Location': 'Mugello', 'Country': {'Key': 13, 'Code': 'ITA', 'Name': 'Italy'}, 'Circuit': {'Key': 149, 'ShortName': 'Mugello'}}, 'ArchiveStatus': {'Status': 'Generating'}, 'Key': 5872, 'Type': 'Race', 'Name': 'Race', 'StartDate': datetime.datetime(2020, 9, 13, 15, 10), 'EndDate': datetime.datetime(2020, 9, 13, 17, 10), 'GmtOffset': datetime.timedelta(seconds=7200), 'Path': '2020/2020-09-13_Tuscan_Grand_Prix/2020-09-13_Race/'}\n"
     ]
    },
    {
     "name": "stderr",
     "output_type": "stream",
     "text": [
      "core           INFO \tLoading data for Russian Grand Prix - Race [v3.4.4]\n",
      "req            INFO \tUsing cached data for session_info\n",
      "req            INFO \tUsing cached data for driver_info\n",
      "req            INFO \tUsing cached data for session_status_data\n",
      "req            INFO \tUsing cached data for lap_count\n",
      "req            INFO \tUsing cached data for track_status_data\n",
      "req            INFO \tUsing cached data for _extended_timing_data\n",
      "req            INFO \tUsing cached data for timing_app_data\n",
      "core           INFO \tProcessing timing data...\n",
      "req            INFO \tUsing cached data for weather_data\n",
      "req            INFO \tUsing cached data for race_control_messages\n",
      "core           INFO \tFinished loading data for 20 drivers: ['77', '33', '44', '11', '3', '16', '31', '26', '10', '23', '99', '20', '5', '7', '4', '6', '8', '63', '55', '18']\n"
     ]
    },
    {
     "name": "stdout",
     "output_type": "stream",
     "text": [
      "{'Meeting': {'Key': 1054, 'Name': 'Russian Grand Prix', 'Location': 'Sochi', 'Country': {'Key': 12, 'Code': 'RUS', 'Name': 'Russia'}, 'Circuit': {'Key': 79, 'ShortName': 'Sochi'}}, 'ArchiveStatus': {'Status': 'Generating'}, 'Key': 5880, 'Type': 'Race', 'Name': 'Race', 'StartDate': datetime.datetime(2020, 9, 27, 14, 10), 'EndDate': datetime.datetime(2020, 9, 27, 16, 10), 'GmtOffset': datetime.timedelta(seconds=10800), 'Path': '2020/2020-09-27_Russian_Grand_Prix/2020-09-27_Race/'}\n"
     ]
    },
    {
     "name": "stderr",
     "output_type": "stream",
     "text": [
      "core           INFO \tLoading data for Eifel Grand Prix - Race [v3.4.4]\n",
      "req            INFO \tUsing cached data for session_info\n",
      "req            INFO \tUsing cached data for driver_info\n",
      "req            INFO \tUsing cached data for session_status_data\n",
      "req            INFO \tUsing cached data for lap_count\n",
      "req            INFO \tUsing cached data for track_status_data\n",
      "req            INFO \tUsing cached data for _extended_timing_data\n",
      "req            INFO \tUsing cached data for timing_app_data\n",
      "core           INFO \tProcessing timing data...\n",
      "req            INFO \tUsing cached data for weather_data\n",
      "req            INFO \tUsing cached data for race_control_messages\n",
      "core           INFO \tFinished loading data for 20 drivers: ['44', '33', '3', '11', '55', '10', '16', '27', '8', '99', '5', '7', '20', '6', '26', '4', '23', '31', '77', '63']\n"
     ]
    },
    {
     "name": "stdout",
     "output_type": "stream",
     "text": [
      "{'Meeting': {'Key': 1055, 'Name': 'Eifel Grand Prix', 'Location': 'Nürburgring', 'Country': {'Key': 3, 'Code': 'GER', 'Name': 'Germany'}, 'Circuit': {'Key': 72, 'ShortName': 'Nürburgring'}}, 'ArchiveStatus': {'Status': 'Generating'}, 'Key': 5888, 'Type': 'Race', 'Name': 'Race', 'StartDate': datetime.datetime(2020, 10, 11, 15, 10), 'EndDate': datetime.datetime(2020, 10, 11, 17, 10), 'GmtOffset': datetime.timedelta(seconds=7200), 'Path': '2020/2020-10-11_Eifel_Grand_Prix/2020-10-11_Race/'}\n"
     ]
    },
    {
     "name": "stderr",
     "output_type": "stream",
     "text": [
      "core           INFO \tLoading data for Portuguese Grand Prix - Race [v3.4.4]\n",
      "req            INFO \tUsing cached data for session_info\n",
      "req            INFO \tUsing cached data for driver_info\n",
      "req            INFO \tUsing cached data for session_status_data\n",
      "req            INFO \tUsing cached data for lap_count\n",
      "req            INFO \tUsing cached data for track_status_data\n",
      "req            INFO \tUsing cached data for _extended_timing_data\n",
      "req            INFO \tUsing cached data for timing_app_data\n",
      "core           INFO \tProcessing timing data...\n",
      "req            INFO \tUsing cached data for weather_data\n",
      "req            INFO \tUsing cached data for race_control_messages\n",
      "core           INFO \tFinished loading data for 20 drivers: ['44', '77', '33', '16', '10', '55', '11', '31', '3', '5', '7', '23', '4', '63', '99', '20', '8', '6', '26', '18']\n"
     ]
    },
    {
     "name": "stdout",
     "output_type": "stream",
     "text": [
      "{'Meeting': {'Key': 1056, 'Name': 'Portuguese Grand Prix', 'Location': 'Portimão', 'Country': {'Key': 146, 'Code': 'POR', 'Name': 'Portugal'}, 'Circuit': {'Key': 147, 'ShortName': 'Algarve International Circuit'}}, 'ArchiveStatus': {'Status': 'Generating'}, 'Key': 5896, 'Type': 'Race', 'Name': 'Race', 'StartDate': datetime.datetime(2020, 10, 25, 13, 10), 'EndDate': datetime.datetime(2020, 10, 25, 15, 10), 'GmtOffset': datetime.timedelta(0), 'Path': '2020/2020-10-25_Portuguese_Grand_Prix/2020-10-25_Race/'}\n"
     ]
    },
    {
     "name": "stderr",
     "output_type": "stream",
     "text": [
      "core           INFO \tLoading data for Emilia Romagna Grand Prix - Race [v3.4.4]\n",
      "req            INFO \tUsing cached data for session_info\n",
      "req            INFO \tUsing cached data for driver_info\n",
      "req            INFO \tUsing cached data for session_status_data\n",
      "req            INFO \tUsing cached data for lap_count\n",
      "req            INFO \tUsing cached data for track_status_data\n",
      "req            INFO \tUsing cached data for _extended_timing_data\n",
      "req            INFO \tUsing cached data for timing_app_data\n",
      "core           INFO \tProcessing timing data...\n",
      "core        WARNING \tDriver 23: Lap timing integrity check failed for 1 lap(s)\n",
      "req            INFO \tUsing cached data for weather_data\n",
      "req            INFO \tUsing cached data for race_control_messages\n",
      "core           INFO \tFinished loading data for 20 drivers: ['44', '77', '3', '26', '16', '11', '55', '4', '7', '99', '6', '5', '18', '8', '23', '63', '33', '20', '31', '10']\n"
     ]
    },
    {
     "name": "stdout",
     "output_type": "stream",
     "text": [
      "{'Meeting': {'Key': 1057, 'Name': 'Emilia Romagna Grand Prix', 'Location': 'Imola', 'Country': {'Key': 13, 'Code': 'ITA', 'Name': 'Italy'}, 'Circuit': {'Key': 6, 'ShortName': 'Imola'}}, 'ArchiveStatus': {'Status': 'Generating'}, 'Key': 5904, 'Type': 'Race', 'Name': 'Race', 'StartDate': datetime.datetime(2020, 11, 1, 13, 10), 'EndDate': datetime.datetime(2020, 11, 1, 15, 10), 'GmtOffset': datetime.timedelta(seconds=3600), 'Path': '2020/2020-11-01_Emilia_Romagna_Grand_Prix/2020-11-01_Race/'}\n"
     ]
    },
    {
     "name": "stderr",
     "output_type": "stream",
     "text": [
      "core           INFO \tLoading data for Turkish Grand Prix - Race [v3.4.4]\n",
      "req            INFO \tUsing cached data for session_info\n",
      "req            INFO \tUsing cached data for driver_info\n",
      "req            INFO \tUsing cached data for session_status_data\n",
      "req            INFO \tUsing cached data for lap_count\n",
      "req            INFO \tUsing cached data for track_status_data\n",
      "req            INFO \tUsing cached data for _extended_timing_data\n",
      "req            INFO \tUsing cached data for timing_app_data\n",
      "core           INFO \tProcessing timing data...\n",
      "req            INFO \tUsing cached data for weather_data\n",
      "req            INFO \tUsing cached data for race_control_messages\n",
      "core           INFO \tFinished loading data for 20 drivers: ['44', '11', '5', '16', '55', '33', '23', '4', '18', '3', '31', '26', '10', '77', '7', '63', '20', '8', '6', '99']\n"
     ]
    },
    {
     "name": "stdout",
     "output_type": "stream",
     "text": [
      "{'Meeting': {'Key': 1058, 'Name': 'Turkish Grand Prix', 'Location': 'Istanbul', 'Country': {'Key': 175, 'Code': 'TUR', 'Name': 'Turkey'}, 'Circuit': {'Key': 59, 'ShortName': 'Istanbul'}}, 'ArchiveStatus': {'Status': 'Generating'}, 'Key': 5910, 'Type': 'Race', 'Name': 'Race', 'StartDate': datetime.datetime(2020, 11, 15, 13, 10), 'EndDate': datetime.datetime(2020, 11, 15, 15, 10), 'GmtOffset': datetime.timedelta(seconds=10800), 'Path': '2020/2020-11-15_Turkish_Grand_Prix/2020-11-15_Race/'}\n"
     ]
    },
    {
     "name": "stderr",
     "output_type": "stream",
     "text": [
      "core           INFO \tLoading data for Bahrain Grand Prix - Race [v3.4.4]\n",
      "req            INFO \tUsing cached data for session_info\n",
      "req            INFO \tUsing cached data for driver_info\n",
      "req            INFO \tUsing cached data for session_status_data\n",
      "req            INFO \tUsing cached data for lap_count\n",
      "req            INFO \tUsing cached data for track_status_data\n",
      "req            INFO \tUsing cached data for _extended_timing_data\n",
      "req            INFO \tUsing cached data for timing_app_data\n",
      "core           INFO \tProcessing timing data...\n",
      "req            INFO \tUsing cached data for weather_data\n",
      "req            INFO \tUsing cached data for race_control_messages\n",
      "core           INFO \tFinished loading data for 20 drivers: ['44', '33', '23', '4', '55', '10', '3', '77', '31', '16', '26', '63', '5', '6', '7', '99', '20', '11', '18', '8']\n"
     ]
    },
    {
     "name": "stdout",
     "output_type": "stream",
     "text": [
      "{'Meeting': {'Key': 1059, 'Name': 'Bahrain Grand Prix', 'Location': 'Sakhir', 'Country': {'Key': 36, 'Code': 'BRN', 'Name': 'Bahrain'}, 'Circuit': {'Key': 63, 'ShortName': 'Sakhir'}}, 'ArchiveStatus': {'Status': 'Generating'}, 'Key': 5918, 'Type': 'Race', 'Name': 'Race', 'StartDate': datetime.datetime(2020, 11, 29, 17, 10), 'EndDate': datetime.datetime(2020, 11, 29, 19, 10), 'GmtOffset': datetime.timedelta(seconds=10800), 'Path': '2020/2020-11-29_Bahrain_Grand_Prix/2020-11-29_Race/'}\n"
     ]
    },
    {
     "name": "stderr",
     "output_type": "stream",
     "text": [
      "core           INFO \tLoading data for Sakhir Grand Prix - Race [v3.4.4]\n",
      "req            INFO \tUsing cached data for session_info\n",
      "req            INFO \tUsing cached data for driver_info\n",
      "req            INFO \tUsing cached data for session_status_data\n",
      "req            INFO \tUsing cached data for lap_count\n",
      "req            INFO \tUsing cached data for track_status_data\n",
      "req            INFO \tUsing cached data for _extended_timing_data\n",
      "req            INFO \tUsing cached data for timing_app_data\n",
      "core           INFO \tProcessing timing data...\n",
      "req            INFO \tUsing cached data for weather_data\n",
      "req            INFO \tUsing cached data for race_control_messages\n",
      "core           INFO \tFinished loading data for 20 drivers: ['11', '31', '18', '55', '3', '23', '26', '77', '63', '4', '10', '5', '99', '7', '20', '89', '51', '6', '33', '16']\n"
     ]
    },
    {
     "name": "stdout",
     "output_type": "stream",
     "text": [
      "{'Meeting': {'Key': 1060, 'Name': 'Sakhir Grand Prix', 'Location': 'Sakhir', 'Country': {'Key': 36, 'Code': 'BRN', 'Name': 'Bahrain'}, 'Circuit': {'Key': 148, 'ShortName': 'Sakhir Outer Track'}}, 'ArchiveStatus': {'Status': 'Generating'}, 'Key': 5926, 'Type': 'Race', 'Name': 'Race', 'StartDate': datetime.datetime(2020, 12, 6, 20, 10), 'EndDate': datetime.datetime(2020, 12, 6, 22, 10), 'GmtOffset': datetime.timedelta(seconds=10800), 'Path': '2020/2020-12-06_Sakhir_Grand_Prix/2020-12-06_Race/'}\n"
     ]
    },
    {
     "name": "stderr",
     "output_type": "stream",
     "text": [
      "core           INFO \tLoading data for Bahrain Grand Prix - Race [v3.4.4]\n",
      "req            INFO \tUsing cached data for session_info\n",
      "req            INFO \tUsing cached data for driver_info\n",
      "req            INFO \tUsing cached data for session_status_data\n",
      "req            INFO \tUsing cached data for lap_count\n",
      "req            INFO \tUsing cached data for track_status_data\n",
      "req            INFO \tUsing cached data for _extended_timing_data\n",
      "req            INFO \tUsing cached data for timing_app_data\n",
      "core           INFO \tProcessing timing data...\n",
      "req            INFO \tUsing cached data for weather_data\n",
      "req            INFO \tUsing cached data for race_control_messages\n",
      "core           INFO \tFinished loading data for 20 drivers: ['44', '33', '77', '4', '11', '16', '3', '55', '22', '18', '7', '99', '31', '63', '5', '47', '10', '6', '14', '9']\n"
     ]
    },
    {
     "name": "stdout",
     "output_type": "stream",
     "text": [
      "{'Meeting': {'Key': 1064, 'Name': 'Bahrain Grand Prix', 'Location': 'Sakhir', 'Country': {'Key': 36, 'Code': 'BRN', 'Name': 'Bahrain'}, 'Circuit': {'Key': 63, 'ShortName': 'Sakhir'}}, 'ArchiveStatus': {'Status': 'Generating'}, 'Key': 6214, 'Type': 'Race', 'Name': 'Race', 'StartDate': datetime.datetime(2021, 3, 28, 18, 0), 'EndDate': datetime.datetime(2021, 3, 28, 20, 0), 'GmtOffset': datetime.timedelta(seconds=10800), 'Path': '2021/2021-03-28_Bahrain_Grand_Prix/2021-03-28_Race/'}\n"
     ]
    },
    {
     "name": "stderr",
     "output_type": "stream",
     "text": [
      "core           INFO \tLoading data for Emilia Romagna Grand Prix - Race [v3.4.4]\n",
      "req            INFO \tUsing cached data for session_info\n",
      "req            INFO \tUsing cached data for driver_info\n",
      "req            INFO \tUsing cached data for session_status_data\n",
      "req            INFO \tUsing cached data for lap_count\n",
      "req            INFO \tUsing cached data for track_status_data\n",
      "req            INFO \tUsing cached data for _extended_timing_data\n",
      "req            INFO \tUsing cached data for timing_app_data\n",
      "core           INFO \tProcessing timing data...\n",
      "req            INFO \tUsing cached data for weather_data\n",
      "req            INFO \tUsing cached data for race_control_messages\n",
      "core           INFO \tFinished loading data for 20 drivers: ['33', '44', '4', '16', '55', '3', '10', '18', '31', '14', '11', '22', '7', '99', '5', '47', '9', '77', '63', '6']\n"
     ]
    },
    {
     "name": "stdout",
     "output_type": "stream",
     "text": [
      "{'Meeting': {'Key': 1065, 'Name': 'Emilia Romagna Grand Prix', 'Location': 'Imola', 'Country': {'Key': 13, 'Code': 'ITA', 'Name': 'Italy'}, 'Circuit': {'Key': 6, 'ShortName': 'Imola'}}, 'ArchiveStatus': {'Status': 'Generating'}, 'Key': 6219, 'Type': 'Race', 'Name': 'Race', 'StartDate': datetime.datetime(2021, 4, 18, 15, 0), 'EndDate': datetime.datetime(2021, 4, 18, 17, 0), 'GmtOffset': datetime.timedelta(seconds=7200), 'Path': '2021/2021-04-18_Emilia_Romagna_Grand_Prix/2021-04-18_Race/'}\n"
     ]
    },
    {
     "name": "stderr",
     "output_type": "stream",
     "text": [
      "core           INFO \tLoading data for Portuguese Grand Prix - Race [v3.4.4]\n",
      "req            INFO \tUsing cached data for session_info\n",
      "req            INFO \tUsing cached data for driver_info\n",
      "req            INFO \tUsing cached data for session_status_data\n",
      "req            INFO \tUsing cached data for lap_count\n",
      "req            INFO \tUsing cached data for track_status_data\n",
      "req            INFO \tUsing cached data for _extended_timing_data\n",
      "req            INFO \tUsing cached data for timing_app_data\n",
      "core           INFO \tProcessing timing data...\n",
      "req            INFO \tUsing cached data for weather_data\n",
      "req            INFO \tUsing cached data for race_control_messages\n",
      "core           INFO \tFinished loading data for 20 drivers: ['44', '33', '77', '11', '4', '16', '31', '14', '3', '10', '55', '99', '5', '18', '22', '63', '47', '6', '9', '7']\n"
     ]
    },
    {
     "name": "stdout",
     "output_type": "stream",
     "text": [
      "{'Meeting': {'Key': 1066, 'Name': 'Portuguese Grand Prix', 'Location': 'Portimão', 'Country': {'Key': 146, 'Code': 'POR', 'Name': 'Portugal'}, 'Circuit': {'Key': 147, 'ShortName': 'Algarve International Circuit'}}, 'ArchiveStatus': {'Status': 'Generating'}, 'Key': 6397, 'Type': 'Race', 'Name': 'Race', 'StartDate': datetime.datetime(2021, 5, 2, 15, 0), 'EndDate': datetime.datetime(2021, 5, 2, 17, 0), 'GmtOffset': datetime.timedelta(seconds=3600), 'Path': '2021/2021-05-02_Portuguese_Grand_Prix/2021-05-02_Race/'}\n"
     ]
    },
    {
     "name": "stderr",
     "output_type": "stream",
     "text": [
      "core           INFO \tLoading data for Spanish Grand Prix - Race [v3.4.4]\n",
      "req            INFO \tUsing cached data for session_info\n",
      "req            INFO \tUsing cached data for driver_info\n",
      "req            INFO \tUsing cached data for session_status_data\n",
      "req            INFO \tUsing cached data for lap_count\n",
      "req            INFO \tUsing cached data for track_status_data\n",
      "req            INFO \tUsing cached data for _extended_timing_data\n",
      "req            INFO \tUsing cached data for timing_app_data\n",
      "core           INFO \tProcessing timing data...\n",
      "req            INFO \tUsing cached data for weather_data\n",
      "req            INFO \tUsing cached data for race_control_messages\n",
      "core           INFO \tFinished loading data for 20 drivers: ['44', '33', '77', '16', '11', '3', '55', '4', '31', '10', '18', '7', '5', '63', '99', '6', '14', '47', '9', '22']\n"
     ]
    },
    {
     "name": "stdout",
     "output_type": "stream",
     "text": [
      "{'Meeting': {'Key': 1086, 'Name': 'Spanish Grand Prix', 'Location': 'Barcelona', 'Country': {'Key': 1, 'Code': 'ESP', 'Name': 'Spain'}, 'Circuit': {'Key': 15, 'ShortName': 'Catalunya'}}, 'ArchiveStatus': {'Status': 'Generating'}, 'Key': 6324, 'Type': 'Race', 'Name': 'Race', 'StartDate': datetime.datetime(2021, 5, 9, 15, 0), 'EndDate': datetime.datetime(2021, 5, 9, 17, 0), 'GmtOffset': datetime.timedelta(seconds=7200), 'Path': '2021/2021-05-09_Spanish_Grand_Prix/2021-05-09_Race/'}\n"
     ]
    },
    {
     "name": "stderr",
     "output_type": "stream",
     "text": [
      "core           INFO \tLoading data for Monaco Grand Prix - Race [v3.4.4]\n",
      "req            INFO \tUsing cached data for session_info\n",
      "req            INFO \tUsing cached data for driver_info\n",
      "req            INFO \tUsing cached data for session_status_data\n",
      "req            INFO \tUsing cached data for lap_count\n",
      "req            INFO \tUsing cached data for track_status_data\n",
      "req            INFO \tUsing cached data for _extended_timing_data\n",
      "req            INFO \tUsing cached data for timing_app_data\n",
      "core           INFO \tProcessing timing data...\n",
      "req            INFO \tUsing cached data for weather_data\n",
      "req            INFO \tUsing cached data for race_control_messages\n",
      "core           INFO \tFinished loading data for 20 drivers: ['33', '55', '4', '11', '5', '10', '44', '18', '31', '99', '7', '3', '14', '63', '6', '22', '9', '47', '77', '16']\n"
     ]
    },
    {
     "name": "stdout",
     "output_type": "stream",
     "text": [
      "{'Meeting': {'Key': 1067, 'Name': 'Monaco Grand Prix', 'Location': 'Monte Carlo', 'Country': {'Key': 114, 'Code': 'MON', 'Name': 'Monaco'}, 'Circuit': {'Key': 22, 'ShortName': 'Monte Carlo'}}, 'ArchiveStatus': {'Status': 'Generating'}, 'Key': 6229, 'Type': 'Race', 'Name': 'Race', 'StartDate': datetime.datetime(2021, 5, 23, 15, 0), 'EndDate': datetime.datetime(2021, 5, 23, 17, 0), 'GmtOffset': datetime.timedelta(seconds=7200), 'Path': '2021/2021-05-23_Monaco_Grand_Prix/2021-05-23_Race/'}\n"
     ]
    },
    {
     "name": "stderr",
     "output_type": "stream",
     "text": [
      "core           INFO \tLoading data for Azerbaijan Grand Prix - Race [v3.4.4]\n",
      "req            INFO \tUsing cached data for session_info\n",
      "req            INFO \tUsing cached data for driver_info\n",
      "req            INFO \tUsing cached data for session_status_data\n",
      "req            INFO \tUsing cached data for lap_count\n",
      "req            INFO \tUsing cached data for track_status_data\n",
      "req            INFO \tUsing cached data for _extended_timing_data\n",
      "req            INFO \tUsing cached data for timing_app_data\n",
      "core           INFO \tProcessing timing data...\n",
      "req            INFO \tUsing cached data for weather_data\n",
      "req            INFO \tUsing cached data for race_control_messages\n",
      "core           INFO \tFinished loading data for 20 drivers: ['11', '5', '10', '16', '4', '14', '22', '55', '3', '7', '99', '77', '47', '9', '44', '6', '63', '33', '18', '31']\n"
     ]
    },
    {
     "name": "stdout",
     "output_type": "stream",
     "text": [
      "{'Meeting': {'Key': 1068, 'Name': 'Azerbaijan Grand Prix', 'Location': 'Baku', 'Country': {'Key': 30, 'Code': 'AZE', 'Name': 'Azerbaijan'}, 'Circuit': {'Key': 144, 'ShortName': 'Baku'}}, 'ArchiveStatus': {'Status': 'Generating'}, 'Key': 6234, 'Type': 'Race', 'Name': 'Race', 'StartDate': datetime.datetime(2021, 6, 6, 16, 0), 'EndDate': datetime.datetime(2021, 6, 6, 18, 0), 'GmtOffset': datetime.timedelta(seconds=14400), 'Path': '2021/2021-06-06_Azerbaijan_Grand_Prix/2021-06-06_Race/'}\n"
     ]
    },
    {
     "name": "stderr",
     "output_type": "stream",
     "text": [
      "core           INFO \tLoading data for French Grand Prix - Race [v3.4.4]\n",
      "req            INFO \tUsing cached data for session_info\n",
      "req            INFO \tUsing cached data for driver_info\n",
      "req            INFO \tUsing cached data for session_status_data\n",
      "req            INFO \tUsing cached data for lap_count\n",
      "req            INFO \tUsing cached data for track_status_data\n",
      "req            INFO \tUsing cached data for _extended_timing_data\n",
      "req            INFO \tUsing cached data for timing_app_data\n",
      "core           INFO \tProcessing timing data...\n",
      "req            INFO \tUsing cached data for weather_data\n",
      "req            INFO \tUsing cached data for race_control_messages\n",
      "core           INFO \tFinished loading data for 20 drivers: ['33', '44', '11', '77', '4', '3', '10', '14', '5', '18', '55', '63', '22', '31', '99', '16', '7', '6', '47', '9']\n"
     ]
    },
    {
     "name": "stdout",
     "output_type": "stream",
     "text": [
      "{'Meeting': {'Key': 1070, 'Name': 'French Grand Prix', 'Location': 'Le Castellet', 'Country': {'Key': 7, 'Code': 'FRA', 'Name': 'France'}, 'Circuit': {'Key': 28, 'ShortName': 'Paul Ricard'}}, 'ArchiveStatus': {'Status': 'Generating'}, 'Key': 6244, 'Type': 'Race', 'Name': 'Race', 'StartDate': datetime.datetime(2021, 6, 20, 15, 0), 'EndDate': datetime.datetime(2021, 6, 20, 17, 0), 'GmtOffset': datetime.timedelta(seconds=7200), 'Path': '2021/2021-06-20_French_Grand_Prix/2021-06-20_Race/'}\n"
     ]
    },
    {
     "name": "stderr",
     "output_type": "stream",
     "text": [
      "core           INFO \tLoading data for Styrian Grand Prix - Race [v3.4.4]\n",
      "req            INFO \tUsing cached data for session_info\n",
      "req            INFO \tUsing cached data for driver_info\n",
      "req            INFO \tUsing cached data for session_status_data\n",
      "req            INFO \tUsing cached data for lap_count\n",
      "req            INFO \tUsing cached data for track_status_data\n",
      "req            INFO \tUsing cached data for _extended_timing_data\n",
      "req            INFO \tUsing cached data for timing_app_data\n",
      "core           INFO \tProcessing timing data...\n",
      "req            INFO \tUsing cached data for weather_data\n",
      "req            INFO \tUsing cached data for race_control_messages\n",
      "core           INFO \tFinished loading data for 20 drivers: ['33', '44', '77', '11', '4', '55', '16', '18', '14', '22', '7', '5', '3', '31', '99', '47', '6', '9', '63', '10']\n"
     ]
    },
    {
     "name": "stdout",
     "output_type": "stream",
     "text": [
      "{'Meeting': {'Key': 1092, 'Name': 'Styrian Grand Prix', 'Location': 'Spielberg', 'Country': {'Key': 17, 'Code': 'AUT', 'Name': 'Austria'}, 'Circuit': {'Key': 19, 'ShortName': 'Spielberg'}}, 'ArchiveStatus': {'Status': 'Generating'}, 'Key': 6417, 'Type': 'Race', 'Name': 'Race', 'StartDate': datetime.datetime(2021, 6, 27, 15, 0), 'EndDate': datetime.datetime(2021, 6, 27, 17, 0), 'GmtOffset': datetime.timedelta(seconds=7200), 'Path': '2021/2021-06-27_Styrian_Grand_Prix/2021-06-27_Race/'}\n"
     ]
    },
    {
     "name": "stderr",
     "output_type": "stream",
     "text": [
      "core           INFO \tLoading data for Austrian Grand Prix - Race [v3.4.4]\n",
      "req            INFO \tUsing cached data for session_info\n",
      "req            INFO \tUsing cached data for driver_info\n",
      "req            INFO \tUsing cached data for session_status_data\n",
      "req            INFO \tUsing cached data for lap_count\n",
      "req            INFO \tUsing cached data for track_status_data\n",
      "req            INFO \tUsing cached data for _extended_timing_data\n",
      "req            INFO \tUsing cached data for timing_app_data\n",
      "core           INFO \tProcessing timing data...\n",
      "req            INFO \tUsing cached data for weather_data\n",
      "req            INFO \tUsing cached data for race_control_messages\n",
      "core           INFO \tFinished loading data for 20 drivers: ['33', '77', '4', '44', '55', '11', '3', '16', '10', '14', '63', '22', '18', '99', '7', '6', '5', '47', '9', '31']\n"
     ]
    },
    {
     "name": "stdout",
     "output_type": "stream",
     "text": [
      "{'Meeting': {'Key': 1071, 'Name': 'Austrian Grand Prix', 'Location': 'Spielberg', 'Country': {'Key': 17, 'Code': 'AUT', 'Name': 'Austria'}, 'Circuit': {'Key': 19, 'ShortName': 'Spielberg'}}, 'ArchiveStatus': {'Status': 'Generating'}, 'Key': 6249, 'Type': 'Race', 'Name': 'Race', 'StartDate': datetime.datetime(2021, 7, 4, 15, 0), 'EndDate': datetime.datetime(2021, 7, 4, 17, 0), 'GmtOffset': datetime.timedelta(seconds=7200), 'Path': '2021/2021-07-04_Austrian_Grand_Prix/2021-07-04_Race/'}\n"
     ]
    },
    {
     "name": "stderr",
     "output_type": "stream",
     "text": [
      "core           INFO \tLoading data for British Grand Prix - Race [v3.4.4]\n",
      "req            INFO \tUsing cached data for session_info\n",
      "req            INFO \tUsing cached data for driver_info\n",
      "req            INFO \tUsing cached data for session_status_data\n",
      "req            INFO \tUsing cached data for lap_count\n",
      "req            INFO \tUsing cached data for track_status_data\n",
      "req            INFO \tUsing cached data for _extended_timing_data\n",
      "req            INFO \tUsing cached data for timing_app_data\n",
      "core           INFO \tProcessing timing data...\n",
      "req            INFO \tUsing cached data for weather_data\n",
      "req            INFO \tUsing cached data for race_control_messages\n",
      "core           INFO \tFinished loading data for 20 drivers: ['44', '16', '77', '4', '3', '55', '14', '18', '31', '22', '10', '63', '99', '6', '7', '11', '9', '47', '5', '33']\n"
     ]
    },
    {
     "name": "stdout",
     "output_type": "stream",
     "text": [
      "{'Meeting': {'Key': 1072, 'Name': 'British Grand Prix', 'Location': 'Silverstone', 'Country': {'Key': 2, 'Code': 'GBR', 'Name': 'Great Britain'}, 'Circuit': {'Key': 2, 'ShortName': 'Silverstone'}}, 'ArchiveStatus': {'Status': 'Generating'}, 'Key': 6254, 'Type': 'Race', 'Name': 'Race', 'StartDate': datetime.datetime(2021, 7, 18, 15, 0), 'EndDate': datetime.datetime(2021, 7, 18, 17, 0), 'GmtOffset': datetime.timedelta(seconds=3600), 'Path': '2021/2021-07-18_British_Grand_Prix/2021-07-18_Race/'}\n"
     ]
    },
    {
     "name": "stderr",
     "output_type": "stream",
     "text": [
      "core           INFO \tLoading data for Hungarian Grand Prix - Race [v3.4.4]\n",
      "req            INFO \tUsing cached data for session_info\n",
      "req            INFO \tUsing cached data for driver_info\n",
      "req            INFO \tUsing cached data for session_status_data\n",
      "req            INFO \tUsing cached data for lap_count\n",
      "req            INFO \tUsing cached data for track_status_data\n",
      "req            INFO \tUsing cached data for _extended_timing_data\n",
      "req            INFO \tUsing cached data for timing_app_data\n",
      "core           INFO \tProcessing timing data...\n",
      "req            INFO \tUsing cached data for weather_data\n",
      "req            INFO \tUsing cached data for race_control_messages\n",
      "core           INFO \tFinished loading data for 20 drivers: ['31', '44', '55', '14', '10', '22', '6', '63', '33', '7', '3', '47', '99', '9', '4', '77', '11', '16', '18', '5']\n"
     ]
    },
    {
     "name": "stdout",
     "output_type": "stream",
     "text": [
      "{'Meeting': {'Key': 1073, 'Name': 'Hungarian Grand Prix', 'Location': 'Budapest', 'Country': {'Key': 14, 'Code': 'HUN', 'Name': 'Hungary'}, 'Circuit': {'Key': 4, 'ShortName': 'Hungaroring'}}, 'ArchiveStatus': {'Status': 'Generating'}, 'Key': 6259, 'Type': 'Race', 'Name': 'Race', 'StartDate': datetime.datetime(2021, 8, 1, 15, 0), 'EndDate': datetime.datetime(2021, 8, 1, 17, 0), 'GmtOffset': datetime.timedelta(seconds=7200), 'Path': '2021/2021-08-01_Hungarian_Grand_Prix/2021-08-01_Race/'}\n"
     ]
    },
    {
     "name": "stderr",
     "output_type": "stream",
     "text": [
      "core           INFO \tLoading data for Belgian Grand Prix - Race [v3.4.4]\n",
      "req            INFO \tUsing cached data for session_info\n",
      "req            INFO \tUsing cached data for driver_info\n",
      "req            INFO \tUsing cached data for session_status_data\n",
      "req            INFO \tUsing cached data for lap_count\n",
      "req            INFO \tUsing cached data for track_status_data\n",
      "req            INFO \tUsing cached data for _extended_timing_data\n",
      "req            INFO \tUsing cached data for timing_app_data\n",
      "core           INFO \tProcessing timing data...\n",
      "req            INFO \tUsing cached data for weather_data\n",
      "req            INFO \tUsing cached data for race_control_messages\n",
      "core           INFO \tFinished loading data for 20 drivers: ['33', '63', '44', '3', '5', '10', '31', '16', '6', '55', '14', '77', '99', '4', '22', '47', '9', '7', '11', '18']\n",
      "core           INFO \tLoading data for Dutch Grand Prix - Race [v3.4.4]\n",
      "req            INFO \tUsing cached data for session_info\n",
      "req            INFO \tUsing cached data for driver_info\n"
     ]
    },
    {
     "name": "stdout",
     "output_type": "stream",
     "text": [
      "{'Meeting': {'Key': 1074, 'Name': 'Belgian Grand Prix', 'Location': 'Spa-Francorchamps', 'Country': {'Key': 16, 'Code': 'BEL', 'Name': 'Belgium'}, 'Circuit': {'Key': 7, 'ShortName': 'Spa-Francorchamps'}}, 'ArchiveStatus': {'Status': 'Generating'}, 'Key': 6264, 'Type': 'Race', 'Name': 'Race', 'StartDate': datetime.datetime(2021, 8, 29, 15, 0), 'EndDate': datetime.datetime(2021, 8, 29, 17, 0), 'GmtOffset': datetime.timedelta(seconds=7200), 'Path': '2021/2021-08-29_Belgian_Grand_Prix/2021-08-29_Race/'}\n"
     ]
    },
    {
     "name": "stderr",
     "output_type": "stream",
     "text": [
      "req            INFO \tUsing cached data for session_status_data\n",
      "req            INFO \tUsing cached data for lap_count\n",
      "req            INFO \tUsing cached data for track_status_data\n",
      "req            INFO \tUsing cached data for _extended_timing_data\n",
      "req            INFO \tUsing cached data for timing_app_data\n",
      "core           INFO \tProcessing timing data...\n",
      "req            INFO \tUsing cached data for weather_data\n",
      "req            INFO \tUsing cached data for race_control_messages\n",
      "core           INFO \tFinished loading data for 20 drivers: ['33', '44', '77', '10', '16', '14', '55', '11', '31', '4', '3', '18', '5', '99', '88', '6', '63', '47', '22', '9']\n"
     ]
    },
    {
     "name": "stdout",
     "output_type": "stream",
     "text": [
      "{'Meeting': {'Key': 1075, 'Name': 'Dutch Grand Prix', 'Location': 'Zandvoort', 'Country': {'Key': 133, 'Code': 'NED', 'Name': 'Netherlands'}, 'Circuit': {'Key': 55, 'ShortName': 'Zandvoort'}}, 'ArchiveStatus': {'Status': 'Generating'}, 'Key': 6269, 'Type': 'Race', 'Name': 'Race', 'StartDate': datetime.datetime(2021, 9, 5, 15, 0), 'EndDate': datetime.datetime(2021, 9, 5, 17, 0), 'GmtOffset': datetime.timedelta(seconds=7200), 'Path': '2021/2021-09-05_Dutch_Grand_Prix/2021-09-05_Race/'}\n"
     ]
    },
    {
     "name": "stderr",
     "output_type": "stream",
     "text": [
      "core           INFO \tLoading data for Italian Grand Prix - Race [v3.4.4]\n",
      "req            INFO \tUsing cached data for session_info\n",
      "req            INFO \tUsing cached data for driver_info\n",
      "req            INFO \tUsing cached data for session_status_data\n",
      "req            INFO \tUsing cached data for lap_count\n",
      "req            INFO \tUsing cached data for track_status_data\n",
      "req            INFO \tUsing cached data for _extended_timing_data\n",
      "req            INFO \tUsing cached data for timing_app_data\n",
      "core           INFO \tProcessing timing data...\n",
      "req            INFO \tUsing cached data for weather_data\n",
      "req            INFO \tUsing cached data for race_control_messages\n",
      "core           INFO \tFinished loading data for 20 drivers: ['3', '4', '77', '16', '11', '55', '18', '14', '63', '31', '6', '5', '99', '88', '47', '9', '44', '33', '10', '22']\n"
     ]
    },
    {
     "name": "stdout",
     "output_type": "stream",
     "text": [
      "{'Meeting': {'Key': 1076, 'Name': 'Italian Grand Prix', 'Location': 'Monza', 'Country': {'Key': 13, 'Code': 'ITA', 'Name': 'Italy'}, 'Circuit': {'Key': 39, 'ShortName': 'Monza'}}, 'ArchiveStatus': {'Status': 'Generating'}, 'Key': 6274, 'Type': 'Race', 'Name': 'Race', 'StartDate': datetime.datetime(2021, 9, 12, 15, 0), 'EndDate': datetime.datetime(2021, 9, 12, 17, 0), 'GmtOffset': datetime.timedelta(seconds=7200), 'Path': '2021/2021-09-12_Italian_Grand_Prix/2021-09-12_Race/'}\n"
     ]
    },
    {
     "name": "stderr",
     "output_type": "stream",
     "text": [
      "core           INFO \tLoading data for Russian Grand Prix - Race [v3.4.4]\n",
      "req            INFO \tUsing cached data for session_info\n",
      "req            INFO \tUsing cached data for driver_info\n",
      "req            INFO \tUsing cached data for session_status_data\n",
      "req            INFO \tUsing cached data for lap_count\n",
      "req            INFO \tUsing cached data for track_status_data\n",
      "req            INFO \tUsing cached data for _extended_timing_data\n",
      "req            INFO \tUsing cached data for timing_app_data\n",
      "core           INFO \tProcessing timing data...\n",
      "req            INFO \tUsing cached data for weather_data\n",
      "req            INFO \tUsing cached data for race_control_messages\n",
      "core           INFO \tFinished loading data for 20 drivers: ['44', '33', '55', '3', '77', '14', '4', '7', '11', '63', '18', '5', '10', '31', '16', '99', '22', '9', '6', '47']\n"
     ]
    },
    {
     "name": "stdout",
     "output_type": "stream",
     "text": [
      "{'Meeting': {'Key': 1077, 'Name': 'Russian Grand Prix', 'Location': 'Sochi', 'Country': {'Key': 12, 'Code': 'RUS', 'Name': 'Russia'}, 'Circuit': {'Key': 79, 'ShortName': 'Sochi'}}, 'ArchiveStatus': {'Status': 'Generating'}, 'Key': 6279, 'Type': 'Race', 'Name': 'Race', 'StartDate': datetime.datetime(2021, 9, 26, 15, 0), 'EndDate': datetime.datetime(2021, 9, 26, 17, 0), 'GmtOffset': datetime.timedelta(seconds=10800), 'Path': '2021/2021-09-26_Russian_Grand_Prix/2021-09-26_Race/'}\n"
     ]
    },
    {
     "name": "stderr",
     "output_type": "stream",
     "text": [
      "core           INFO \tLoading data for Turkish Grand Prix - Race [v3.4.4]\n",
      "req            INFO \tUsing cached data for session_info\n",
      "req            INFO \tUsing cached data for driver_info\n",
      "req            INFO \tUsing cached data for session_status_data\n",
      "req            INFO \tUsing cached data for lap_count\n",
      "req            INFO \tUsing cached data for track_status_data\n",
      "req            INFO \tUsing cached data for _extended_timing_data\n",
      "req            INFO \tUsing cached data for timing_app_data\n",
      "core           INFO \tProcessing timing data...\n",
      "req            INFO \tUsing cached data for weather_data\n",
      "req            INFO \tUsing cached data for race_control_messages\n",
      "core           INFO \tFinished loading data for 20 drivers: ['77', '33', '11', '16', '44', '10', '4', '55', '18', '31', '99', '7', '3', '22', '63', '14', '6', '5', '47', '9']\n"
     ]
    },
    {
     "name": "stdout",
     "output_type": "stream",
     "text": [
      "{'Meeting': {'Key': 1078, 'Name': 'Turkish Grand Prix', 'Location': 'Istanbul', 'Country': {'Key': 175, 'Code': 'TUR', 'Name': 'Turkey'}, 'Circuit': {'Key': 59, 'ShortName': 'Istanbul'}}, 'ArchiveStatus': {'Status': 'Generating'}, 'Key': 6659, 'Type': 'Race', 'Name': 'Race', 'StartDate': datetime.datetime(2021, 10, 10, 15, 0), 'EndDate': datetime.datetime(2021, 10, 10, 17, 0), 'GmtOffset': datetime.timedelta(seconds=10800), 'Path': '2021/2021-10-10_Turkish_Grand_Prix/2021-10-10_Race/'}\n"
     ]
    },
    {
     "name": "stderr",
     "output_type": "stream",
     "text": [
      "core           INFO \tLoading data for United States Grand Prix - Race [v3.4.4]\n",
      "req            INFO \tUsing cached data for session_info\n",
      "req            INFO \tUsing cached data for driver_info\n",
      "req            INFO \tUsing cached data for session_status_data\n",
      "req            INFO \tUsing cached data for lap_count\n",
      "req            INFO \tUsing cached data for track_status_data\n",
      "req            INFO \tUsing cached data for _extended_timing_data\n",
      "req            INFO \tUsing cached data for timing_app_data\n",
      "core           INFO \tProcessing timing data...\n",
      "core        WARNING \tDriver  7: Lap timing integrity check failed for 1 lap(s)\n",
      "req            INFO \tUsing cached data for weather_data\n",
      "req            INFO \tUsing cached data for race_control_messages\n",
      "core           INFO \tFinished loading data for 20 drivers: ['33', '44', '11', '16', '3', '77', '55', '4', '22', '5', '99', '18', '7', '63', '6', '47', '9', '14', '31', '10']\n"
     ]
    },
    {
     "name": "stdout",
     "output_type": "stream",
     "text": [
      "{'Meeting': {'Key': 1102, 'Name': 'United States Grand Prix', 'Location': 'Austin', 'Country': {'Key': 19, 'Code': 'USA', 'Name': 'United States'}, 'Circuit': {'Key': 9, 'ShortName': 'Austin'}}, 'ArchiveStatus': {'Status': 'Generating'}, 'Key': 6561, 'Type': 'Race', 'Name': 'Race', 'StartDate': datetime.datetime(2021, 10, 24, 14, 0), 'EndDate': datetime.datetime(2021, 10, 24, 16, 0), 'GmtOffset': datetime.timedelta(days=-1, seconds=68400), 'Path': '2021/2021-10-24_United_States_Grand_Prix/2021-10-24_Race/'}\n"
     ]
    },
    {
     "name": "stderr",
     "output_type": "stream",
     "text": [
      "core           INFO \tLoading data for Mexico City Grand Prix - Race [v3.4.4]\n",
      "req            INFO \tUsing cached data for session_info\n",
      "req            INFO \tUsing cached data for driver_info\n",
      "req            INFO \tUsing cached data for session_status_data\n",
      "req            INFO \tUsing cached data for lap_count\n",
      "req            INFO \tUsing cached data for track_status_data\n",
      "req            INFO \tUsing cached data for _extended_timing_data\n",
      "req            INFO \tUsing cached data for timing_app_data\n",
      "core           INFO \tProcessing timing data...\n",
      "req            INFO \tUsing cached data for weather_data\n",
      "req            INFO \tUsing cached data for race_control_messages\n",
      "core           INFO \tFinished loading data for 20 drivers: ['33', '44', '11', '10', '16', '55', '5', '7', '14', '4', '99', '3', '31', '18', '77', '63', '6', '9', '47', '22']\n"
     ]
    },
    {
     "name": "stdout",
     "output_type": "stream",
     "text": [
      "{'Meeting': {'Key': 1103, 'Name': 'Mexico City Grand Prix', 'Location': 'Mexico City', 'Country': {'Key': 8, 'Code': 'MEX', 'Name': 'Mexico'}, 'Circuit': {'Key': 65, 'ShortName': 'Mexico City'}}, 'ArchiveStatus': {'Status': 'Generating'}, 'Key': 6569, 'Type': 'Race', 'Name': 'Race', 'StartDate': datetime.datetime(2021, 11, 7, 13, 0), 'EndDate': datetime.datetime(2021, 11, 7, 15, 0), 'GmtOffset': datetime.timedelta(days=-1, seconds=64800), 'Path': '2021/2021-11-07_Mexico_City_Grand_Prix/2021-11-07_Race/'}\n"
     ]
    },
    {
     "name": "stderr",
     "output_type": "stream",
     "text": [
      "core           INFO \tLoading data for São Paulo Grand Prix - Race [v3.4.4]\n",
      "req            INFO \tUsing cached data for session_info\n",
      "req            INFO \tUsing cached data for driver_info\n",
      "req            INFO \tUsing cached data for session_status_data\n",
      "req            INFO \tUsing cached data for lap_count\n",
      "req            INFO \tUsing cached data for track_status_data\n",
      "req            INFO \tUsing cached data for _extended_timing_data\n",
      "req            INFO \tUsing cached data for timing_app_data\n",
      "core           INFO \tProcessing timing data...\n",
      "req            INFO \tUsing cached data for weather_data\n",
      "req            INFO \tUsing cached data for race_control_messages\n",
      "core           INFO \tFinished loading data for 20 drivers: ['44', '33', '77', '11', '16', '55', '10', '31', '14', '4', '5', '7', '63', '99', '22', '6', '9', '47', '3', '18']\n"
     ]
    },
    {
     "name": "stdout",
     "output_type": "stream",
     "text": [
      "{'Meeting': {'Key': 1104, 'Name': 'São Paulo Grand Prix', 'Location': 'São Paulo', 'Country': {'Key': 10, 'Code': 'BRA', 'Name': 'Brazil'}, 'Circuit': {'Key': 14, 'ShortName': 'Interlagos'}}, 'ArchiveStatus': {'Status': 'Generating'}, 'Key': 6675, 'Type': 'Race', 'Name': 'Race', 'StartDate': datetime.datetime(2021, 11, 14, 14, 0), 'EndDate': datetime.datetime(2021, 11, 14, 16, 0), 'GmtOffset': datetime.timedelta(days=-1, seconds=75600), 'Path': '2021/2021-11-14_São_Paulo_Grand_Prix/2021-11-14_Race/'}\n"
     ]
    },
    {
     "name": "stderr",
     "output_type": "stream",
     "text": [
      "core           INFO \tLoading data for Qatar Grand Prix - Race [v3.4.4]\n",
      "req            INFO \tUsing cached data for session_info\n",
      "req            INFO \tUsing cached data for driver_info\n",
      "req            INFO \tUsing cached data for session_status_data\n",
      "req            INFO \tUsing cached data for lap_count\n",
      "req            INFO \tUsing cached data for track_status_data\n",
      "req            INFO \tUsing cached data for _extended_timing_data\n",
      "req            INFO \tUsing cached data for timing_app_data\n",
      "core           INFO \tProcessing timing data...\n",
      "req            INFO \tUsing cached data for weather_data\n",
      "req            INFO \tUsing cached data for race_control_messages\n",
      "core           INFO \tFinished loading data for 20 drivers: ['44', '33', '14', '11', '31', '18', '55', '16', '4', '5', '10', '3', '22', '7', '99', '47', '63', '9', '6', '77']\n"
     ]
    },
    {
     "name": "stdout",
     "output_type": "stream",
     "text": [
      "{'Meeting': {'Key': 1105, 'Name': 'Qatar Grand Prix', 'Location': 'Lusail', 'Country': {'Key': 149, 'Code': 'QAT', 'Name': 'Qatar'}, 'Circuit': {'Key': 150, 'ShortName': 'Losail'}}, 'ArchiveStatus': {'Status': 'Generating'}, 'Key': 6714, 'Type': 'Race', 'Name': 'Race', 'StartDate': datetime.datetime(2021, 11, 21, 17, 0), 'EndDate': datetime.datetime(2021, 11, 21, 19, 0), 'GmtOffset': datetime.timedelta(seconds=10800), 'Path': '2021/2021-11-21_Qatar_Grand_Prix/2021-11-21_Race/'}\n"
     ]
    },
    {
     "name": "stderr",
     "output_type": "stream",
     "text": [
      "core           INFO \tLoading data for Saudi Arabian Grand Prix - Race [v3.4.4]\n",
      "req            INFO \tUsing cached data for session_info\n",
      "req            INFO \tUsing cached data for driver_info\n",
      "req            INFO \tUsing cached data for session_status_data\n",
      "req            INFO \tUsing cached data for lap_count\n",
      "req            INFO \tUsing cached data for track_status_data\n",
      "req            INFO \tUsing cached data for _extended_timing_data\n",
      "req            INFO \tUsing cached data for timing_app_data\n",
      "core           INFO \tProcessing timing data...\n",
      "req            INFO \tUsing cached data for weather_data\n",
      "req            INFO \tUsing cached data for race_control_messages\n",
      "core           INFO \tFinished loading data for 20 drivers: ['44', '33', '77', '31', '3', '10', '16', '55', '99', '4', '18', '6', '14', '22', '7', '5', '11', '9', '63', '47']\n"
     ]
    },
    {
     "name": "stdout",
     "output_type": "stream",
     "text": [
      "{'Meeting': {'Key': 1106, 'Name': 'Saudi Arabian Grand Prix', 'Location': 'Jeddah', 'Country': {'Key': 153, 'Code': 'KSA', 'Name': 'Saudi Arabia'}, 'Circuit': {'Key': 149, 'ShortName': 'Jeddah'}}, 'ArchiveStatus': {'Status': 'Generating'}, 'Key': 6821, 'Type': 'Race', 'Name': 'Race', 'StartDate': datetime.datetime(2021, 12, 5, 20, 30), 'EndDate': datetime.datetime(2021, 12, 5, 22, 30), 'GmtOffset': datetime.timedelta(seconds=10800), 'Path': '2021/2021-12-05_Saudi_Arabian_Grand_Prix/2021-12-05_Race/'}\n"
     ]
    },
    {
     "name": "stderr",
     "output_type": "stream",
     "text": [
      "core           INFO \tLoading data for Bahrain Grand Prix - Race [v3.4.4]\n",
      "req            INFO \tUsing cached data for session_info\n",
      "req            INFO \tUsing cached data for driver_info\n",
      "req            INFO \tUsing cached data for session_status_data\n",
      "req            INFO \tUsing cached data for lap_count\n",
      "req            INFO \tUsing cached data for track_status_data\n",
      "req            INFO \tUsing cached data for _extended_timing_data\n",
      "req            INFO \tUsing cached data for timing_app_data\n",
      "core           INFO \tProcessing timing data...\n",
      "req            INFO \tUsing cached data for weather_data\n",
      "req            INFO \tUsing cached data for race_control_messages\n",
      "core           INFO \tFinished loading data for 20 drivers: ['16', '55', '44', '63', '20', '77', '31', '22', '14', '24', '47', '18', '23', '3', '4', '6', '27', '11', '1', '10']\n"
     ]
    },
    {
     "name": "stdout",
     "output_type": "stream",
     "text": [
      "{'Meeting': {'Key': 1124, 'Name': 'Bahrain Grand Prix', 'OfficialName': 'FORMULA 1 GULF AIR BAHRAIN GRAND PRIX 2022', 'Location': 'Sakhir', 'Country': {'Key': 36, 'Code': 'BRN', 'Name': 'Bahrain'}, 'Circuit': {'Key': 63, 'ShortName': 'Sakhir'}}, 'ArchiveStatus': {'Status': 'Generating'}, 'Key': 6993, 'Type': 'Race', 'Name': 'Race', 'StartDate': datetime.datetime(2022, 3, 20, 18, 0), 'EndDate': datetime.datetime(2022, 3, 20, 20, 0), 'GmtOffset': datetime.timedelta(seconds=10800), 'Path': '2022/2022-03-20_Bahrain_Grand_Prix/2022-03-20_Race/'}\n"
     ]
    },
    {
     "name": "stderr",
     "output_type": "stream",
     "text": [
      "core           INFO \tLoading data for Saudi Arabian Grand Prix - Race [v3.4.4]\n",
      "req            INFO \tUsing cached data for session_info\n",
      "req            INFO \tUsing cached data for driver_info\n",
      "req            INFO \tUsing cached data for session_status_data\n",
      "req            INFO \tUsing cached data for lap_count\n",
      "req            INFO \tUsing cached data for track_status_data\n",
      "req            INFO \tUsing cached data for _extended_timing_data\n",
      "req            INFO \tUsing cached data for timing_app_data\n",
      "core           INFO \tProcessing timing data...\n",
      "core        WARNING \tNo lap data for driver 22\n",
      "core        WARNING \tNo lap data for driver 47\n",
      "core        WARNING \tFailed to perform lap accuracy check - all laps marked as inaccurate (driver 22)\n",
      "core        WARNING \tFailed to perform lap accuracy check - all laps marked as inaccurate (driver 47)\n",
      "req            INFO \tUsing cached data for weather_data\n",
      "req            INFO \tUsing cached data for race_control_messages\n",
      "core           INFO \tFinished loading data for 20 drivers: ['1', '16', '55', '11', '63', '31', '4', '10', '20', '44', '24', '27', '18', '23', '77', '14', '3', '6', '22', '47']\n"
     ]
    },
    {
     "name": "stdout",
     "output_type": "stream",
     "text": [
      "{'Meeting': {'Key': 1125, 'Name': 'Saudi Arabian Grand Prix', 'OfficialName': 'FORMULA 1 STC SAUDI ARABIAN GRAND PRIX 2022', 'Location': 'Jeddah', 'Country': {'Key': 153, 'Code': 'KSA', 'Name': 'Saudi Arabia'}, 'Circuit': {'Key': 149, 'ShortName': 'Jeddah'}}, 'ArchiveStatus': {'Status': 'Generating'}, 'Key': 6994, 'Type': 'Race', 'Name': 'Race', 'StartDate': datetime.datetime(2022, 3, 27, 20, 0), 'EndDate': datetime.datetime(2022, 3, 27, 22, 0), 'GmtOffset': datetime.timedelta(seconds=10800), 'Path': '2022/2022-03-27_Saudi_Arabian_Grand_Prix/2022-03-27_Race/'}\n"
     ]
    },
    {
     "name": "stderr",
     "output_type": "stream",
     "text": [
      "core           INFO \tLoading data for Australian Grand Prix - Race [v3.4.4]\n",
      "req            INFO \tUsing cached data for session_info\n",
      "req            INFO \tUsing cached data for driver_info\n",
      "req            INFO \tUsing cached data for session_status_data\n",
      "req            INFO \tUsing cached data for lap_count\n",
      "req            INFO \tUsing cached data for track_status_data\n",
      "req            INFO \tUsing cached data for _extended_timing_data\n",
      "req            INFO \tUsing cached data for timing_app_data\n",
      "core           INFO \tProcessing timing data...\n",
      "req            INFO \tUsing cached data for weather_data\n",
      "req            INFO \tUsing cached data for race_control_messages\n",
      "core           INFO \tFinished loading data for 20 drivers: ['16', '11', '63', '44', '4', '3', '31', '77', '10', '23', '24', '18', '47', '20', '22', '6', '14', '1', '5', '55']\n"
     ]
    },
    {
     "name": "stdout",
     "output_type": "stream",
     "text": [
      "{'Meeting': {'Key': 1108, 'Name': 'Australian Grand Prix', 'OfficialName': 'FORMULA 1 HEINEKEN AUSTRALIAN GRAND PRIX 2022', 'Location': 'Melbourne', 'Country': {'Key': 5, 'Code': 'AUS', 'Name': 'Australia'}, 'Circuit': {'Key': 10, 'ShortName': 'Melbourne'}}, 'ArchiveStatus': {'Status': 'Generating'}, 'Key': 7018, 'Type': 'Race', 'Name': 'Race', 'StartDate': datetime.datetime(2022, 4, 10, 15, 0), 'EndDate': datetime.datetime(2022, 4, 10, 17, 0), 'GmtOffset': datetime.timedelta(seconds=36000), 'Path': '2022/2022-04-10_Australian_Grand_Prix/2022-04-10_Race/'}\n"
     ]
    },
    {
     "name": "stderr",
     "output_type": "stream",
     "text": [
      "core           INFO \tLoading data for Emilia Romagna Grand Prix - Race [v3.4.4]\n",
      "req            INFO \tUsing cached data for session_info\n",
      "req            INFO \tUsing cached data for driver_info\n",
      "req            INFO \tUsing cached data for session_status_data\n",
      "req            INFO \tUsing cached data for lap_count\n",
      "req            INFO \tUsing cached data for track_status_data\n",
      "req            INFO \tUsing cached data for _extended_timing_data\n",
      "req            INFO \tUsing cached data for timing_app_data\n",
      "core           INFO \tProcessing timing data...\n",
      "req            INFO \tUsing cached data for weather_data\n",
      "req            INFO \tUsing cached data for race_control_messages\n",
      "core           INFO \tFinished loading data for 20 drivers: ['1', '11', '4', '63', '77', '16', '22', '5', '20', '18', '23', '10', '44', '31', '24', '6', '47', '3', '14', '55']\n"
     ]
    },
    {
     "name": "stdout",
     "output_type": "stream",
     "text": [
      "{'Meeting': {'Key': 1109, 'Name': 'Emilia Romagna Grand Prix', 'OfficialName': \"FORMULA 1 ROLEX GRAN PREMIO DEL MADE IN ITALY E DELL'EMILIA-ROMAGNA 2022\", 'Location': 'Imola', 'Country': {'Key': 13, 'Code': 'ITA', 'Name': 'Italy'}, 'Circuit': {'Key': 6, 'ShortName': 'Imola'}}, 'ArchiveStatus': {'Status': 'Generating'}, 'Key': 7019, 'Type': 'Race', 'Name': 'Race', 'StartDate': datetime.datetime(2022, 4, 24, 15, 0), 'EndDate': datetime.datetime(2022, 4, 24, 17, 0), 'GmtOffset': datetime.timedelta(seconds=7200), 'Path': '2022/2022-04-24_Emilia_Romagna_Grand_Prix/2022-04-24_Race/'}\n"
     ]
    },
    {
     "name": "stderr",
     "output_type": "stream",
     "text": [
      "core           INFO \tLoading data for Miami Grand Prix - Race [v3.4.4]\n",
      "req            INFO \tUsing cached data for session_info\n",
      "req            INFO \tUsing cached data for driver_info\n",
      "req            INFO \tUsing cached data for session_status_data\n",
      "req            INFO \tUsing cached data for lap_count\n",
      "req            INFO \tUsing cached data for track_status_data\n",
      "req            INFO \tUsing cached data for _extended_timing_data\n",
      "req            INFO \tUsing cached data for timing_app_data\n",
      "core           INFO \tProcessing timing data...\n",
      "req            INFO \tUsing cached data for weather_data\n",
      "req            INFO \tUsing cached data for race_control_messages\n",
      "core           INFO \tFinished loading data for 20 drivers: ['1', '16', '55', '11', '63', '44', '77', '31', '23', '18', '14', '22', '3', '6', '47', '20', '5', '10', '4', '24']\n"
     ]
    },
    {
     "name": "stdout",
     "output_type": "stream",
     "text": [
      "{'Meeting': {'Key': 1110, 'Name': 'Miami Grand Prix', 'OfficialName': 'FORMULA 1 CRYPTO.COM MIAMI GRAND PRIX 2022', 'Location': 'Miami', 'Country': {'Key': 19, 'Code': 'USA', 'Name': 'United States'}, 'Circuit': {'Key': 151, 'ShortName': 'Miami'}}, 'ArchiveStatus': {'Status': 'Generating'}, 'Key': 7027, 'Type': 'Race', 'Name': 'Race', 'StartDate': datetime.datetime(2022, 5, 8, 15, 30), 'EndDate': datetime.datetime(2022, 5, 8, 17, 30), 'GmtOffset': datetime.timedelta(days=-1, seconds=72000), 'Path': '2022/2022-05-08_Miami_Grand_Prix/2022-05-08_Race/'}\n"
     ]
    },
    {
     "name": "stderr",
     "output_type": "stream",
     "text": [
      "core           INFO \tLoading data for Spanish Grand Prix - Race [v3.4.4]\n",
      "req            INFO \tUsing cached data for session_info\n",
      "req            INFO \tUsing cached data for driver_info\n",
      "req            INFO \tUsing cached data for session_status_data\n",
      "req            INFO \tUsing cached data for lap_count\n",
      "req            INFO \tUsing cached data for track_status_data\n",
      "req            INFO \tUsing cached data for _extended_timing_data\n",
      "req            INFO \tUsing cached data for timing_app_data\n",
      "core           INFO \tProcessing timing data...\n",
      "req            INFO \tUsing cached data for weather_data\n",
      "req            INFO \tUsing cached data for race_control_messages\n",
      "core           INFO \tFinished loading data for 20 drivers: ['1', '11', '63', '55', '44', '77', '31', '4', '14', '22', '5', '3', '10', '47', '18', '6', '20', '23', '24', '16']\n"
     ]
    },
    {
     "name": "stdout",
     "output_type": "stream",
     "text": [
      "{'Meeting': {'Key': 1111, 'Name': 'Spanish Grand Prix', 'OfficialName': 'FORMULA 1 PIRELLI GRAN PREMIO DE ESPAÑA 2022', 'Location': 'Barcelona', 'Country': {'Key': 1, 'Code': 'ESP', 'Name': 'Spain'}, 'Circuit': {'Key': 15, 'ShortName': 'Catalunya'}}, 'ArchiveStatus': {'Status': 'Generating'}, 'Key': 7042, 'Type': 'Race', 'Name': 'Race', 'StartDate': datetime.datetime(2022, 5, 22, 15, 0), 'EndDate': datetime.datetime(2022, 5, 22, 17, 0), 'GmtOffset': datetime.timedelta(seconds=7200), 'Path': '2022/2022-05-22_Spanish_Grand_Prix/2022-05-22_Race/'}\n"
     ]
    },
    {
     "name": "stderr",
     "output_type": "stream",
     "text": [
      "core           INFO \tLoading data for Monaco Grand Prix - Race [v3.4.4]\n",
      "req            INFO \tUsing cached data for session_info\n",
      "req            INFO \tUsing cached data for driver_info\n",
      "req            INFO \tUsing cached data for session_status_data\n",
      "req            INFO \tUsing cached data for lap_count\n",
      "req            INFO \tUsing cached data for track_status_data\n",
      "req            INFO \tUsing cached data for _extended_timing_data\n",
      "req            INFO \tUsing cached data for timing_app_data\n",
      "core           INFO \tProcessing timing data...\n",
      "req            INFO \tUsing cached data for weather_data\n",
      "req            INFO \tUsing cached data for race_control_messages\n",
      "core           INFO \tFinished loading data for 20 drivers: ['11', '55', '1', '16', '63', '4', '14', '44', '77', '5', '10', '31', '3', '18', '6', '24', '22', '23', '47', '20']\n"
     ]
    },
    {
     "name": "stdout",
     "output_type": "stream",
     "text": [
      "{'Meeting': {'Key': 1112, 'Name': 'Monaco Grand Prix', 'OfficialName': 'FORMULA 1 GRAND PRIX DE MONACO 2022', 'Location': 'Monaco', 'Country': {'Key': 114, 'Code': 'MON', 'Name': 'Monaco'}, 'Circuit': {'Key': 22, 'ShortName': 'Monte Carlo'}}, 'ArchiveStatus': {'Status': 'Generating'}, 'Key': 7051, 'Type': 'Race', 'Name': 'Race', 'StartDate': datetime.datetime(2022, 5, 29, 15, 0), 'EndDate': datetime.datetime(2022, 5, 29, 17, 0), 'GmtOffset': datetime.timedelta(seconds=7200), 'Path': '2022/2022-05-29_Monaco_Grand_Prix/2022-05-29_Race/'}\n"
     ]
    },
    {
     "name": "stderr",
     "output_type": "stream",
     "text": [
      "core           INFO \tLoading data for Azerbaijan Grand Prix - Race [v3.4.4]\n",
      "req            INFO \tUsing cached data for session_info\n",
      "req            INFO \tUsing cached data for driver_info\n",
      "req            INFO \tUsing cached data for session_status_data\n",
      "req            INFO \tUsing cached data for lap_count\n",
      "req            INFO \tUsing cached data for track_status_data\n",
      "req            INFO \tUsing cached data for _extended_timing_data\n",
      "req            INFO \tUsing cached data for timing_app_data\n",
      "core           INFO \tProcessing timing data...\n",
      "core        WARNING \tDriver 16: Lap timing integrity check failed for 1 lap(s)\n",
      "req            INFO \tUsing cached data for weather_data\n",
      "req            INFO \tUsing cached data for race_control_messages\n",
      "core           INFO \tFinished loading data for 20 drivers: ['1', '11', '63', '44', '10', '5', '14', '3', '4', '31', '77', '23', '22', '47', '6', '18', '20', '24', '16', '55']\n"
     ]
    },
    {
     "name": "stdout",
     "output_type": "stream",
     "text": [
      "{'Meeting': {'Key': 1126, 'Name': 'Azerbaijan Grand Prix', 'OfficialName': 'FORMULA 1 AZERBAIJAN GRAND PRIX 2022', 'Location': 'Baku', 'Country': {'Key': 30, 'Code': 'AZE', 'Name': 'Azerbaijan'}, 'Circuit': {'Key': 144, 'ShortName': 'Baku'}}, 'ArchiveStatus': {'Status': 'Generating'}, 'Key': 7066, 'Type': 'Race', 'Name': 'Race', 'StartDate': datetime.datetime(2022, 6, 12, 15, 0), 'EndDate': datetime.datetime(2022, 6, 12, 17, 0), 'GmtOffset': datetime.timedelta(seconds=14400), 'Path': '2022/2022-06-12_Azerbaijan_Grand_Prix/2022-06-12_Race/'}\n"
     ]
    },
    {
     "name": "stderr",
     "output_type": "stream",
     "text": [
      "core           INFO \tLoading data for Canadian Grand Prix - Race [v3.4.4]\n",
      "req            INFO \tUsing cached data for session_info\n",
      "req            INFO \tUsing cached data for driver_info\n",
      "req            INFO \tUsing cached data for session_status_data\n",
      "req            INFO \tUsing cached data for lap_count\n",
      "req            INFO \tUsing cached data for track_status_data\n",
      "req            INFO \tUsing cached data for _extended_timing_data\n",
      "req            INFO \tUsing cached data for timing_app_data\n",
      "core           INFO \tProcessing timing data...\n",
      "req            INFO \tUsing cached data for weather_data\n",
      "req            INFO \tUsing cached data for race_control_messages\n",
      "core           INFO \tFinished loading data for 20 drivers: ['1', '55', '44', '63', '16', '31', '77', '24', '14', '18', '3', '5', '23', '10', '4', '6', '20', '22', '47', '11']\n"
     ]
    },
    {
     "name": "stdout",
     "output_type": "stream",
     "text": [
      "{'Meeting': {'Key': 1113, 'Name': 'Canadian Grand Prix', 'OfficialName': 'FORMULA 1 AWS GRAND PRIX DU CANADA 2022', 'Location': 'Montréal', 'Country': {'Key': 46, 'Code': 'CAN', 'Name': 'Canada'}, 'Circuit': {'Key': 23, 'ShortName': 'Montreal'}}, 'ArchiveStatus': {'Status': 'Generating'}, 'Key': 7090, 'Type': 'Race', 'Name': 'Race', 'StartDate': datetime.datetime(2022, 6, 19, 14, 0), 'EndDate': datetime.datetime(2022, 6, 19, 16, 0), 'GmtOffset': datetime.timedelta(days=-1, seconds=72000), 'Path': '2022/2022-06-19_Canadian_Grand_Prix/2022-06-19_Race/'}\n"
     ]
    },
    {
     "name": "stderr",
     "output_type": "stream",
     "text": [
      "core           INFO \tLoading data for British Grand Prix - Race [v3.4.4]\n",
      "req            INFO \tUsing cached data for session_info\n",
      "req            INFO \tUsing cached data for driver_info\n",
      "req            INFO \tUsing cached data for session_status_data\n",
      "req            INFO \tUsing cached data for lap_count\n",
      "req            INFO \tUsing cached data for track_status_data\n",
      "req            INFO \tUsing cached data for _extended_timing_data\n",
      "req            INFO \tUsing cached data for timing_app_data\n",
      "core           INFO \tProcessing timing data...\n",
      "req            INFO \tUsing cached data for weather_data\n",
      "req            INFO \tUsing cached data for race_control_messages\n",
      "core           INFO \tFinished loading data for 20 drivers: ['55', '11', '44', '16', '14', '4', '1', '47', '5', '20', '18', '6', '3', '22', '31', '10', '77', '63', '24', '23']\n"
     ]
    },
    {
     "name": "stdout",
     "output_type": "stream",
     "text": [
      "{'Meeting': {'Key': 1114, 'Name': 'British Grand Prix', 'OfficialName': 'FORMULA 1 LENOVO BRITISH GRAND PRIX 2022', 'Location': 'Silverstone', 'Country': {'Key': 2, 'Code': 'GBR', 'Name': 'Great Britain'}, 'Circuit': {'Key': 2, 'ShortName': 'Silverstone'}}, 'ArchiveStatus': {'Status': 'Generating'}, 'Key': 7105, 'Type': 'Race', 'Name': 'Race', 'StartDate': datetime.datetime(2022, 7, 3, 15, 0), 'EndDate': datetime.datetime(2022, 7, 3, 17, 0), 'GmtOffset': datetime.timedelta(seconds=3600), 'Path': '2022/2022-07-03_British_Grand_Prix/2022-07-03_Race/'}\n"
     ]
    },
    {
     "name": "stderr",
     "output_type": "stream",
     "text": [
      "core           INFO \tLoading data for Austrian Grand Prix - Race [v3.4.4]\n",
      "req            INFO \tUsing cached data for session_info\n",
      "req            INFO \tUsing cached data for driver_info\n",
      "req            INFO \tUsing cached data for session_status_data\n",
      "req            INFO \tUsing cached data for lap_count\n",
      "req            INFO \tUsing cached data for track_status_data\n",
      "req            INFO \tUsing cached data for _extended_timing_data\n",
      "req            INFO \tUsing cached data for timing_app_data\n",
      "core           INFO \tProcessing timing data...\n",
      "req            INFO \tUsing cached data for weather_data\n",
      "req            INFO \tUsing cached data for race_control_messages\n",
      "core           INFO \tFinished loading data for 20 drivers: ['16', '1', '44', '63', '31', '47', '4', '20', '3', '14', '77', '23', '18', '24', '10', '22', '5', '55', '6', '11']\n"
     ]
    },
    {
     "name": "stdout",
     "output_type": "stream",
     "text": [
      "{'Meeting': {'Key': 1115, 'Name': 'Austrian Grand Prix', 'OfficialName': 'FORMULA 1 ROLEX GROSSER PREIS VON ÖSTERREICH 2022', 'Location': 'Spielberg', 'Country': {'Key': 17, 'Code': 'AUT', 'Name': 'Austria'}, 'Circuit': {'Key': 19, 'ShortName': 'Spielberg'}}, 'ArchiveStatus': {'Status': 'Generating'}, 'Key': 7115, 'Type': 'Race', 'Name': 'Race', 'StartDate': datetime.datetime(2022, 7, 10, 15, 0), 'EndDate': datetime.datetime(2022, 7, 10, 17, 0), 'GmtOffset': datetime.timedelta(seconds=7200), 'Path': '2022/2022-07-10_Austrian_Grand_Prix/2022-07-10_Race/'}\n"
     ]
    },
    {
     "name": "stderr",
     "output_type": "stream",
     "text": [
      "core           INFO \tLoading data for French Grand Prix - Race [v3.4.4]\n",
      "req            INFO \tUsing cached data for session_info\n",
      "req            INFO \tUsing cached data for driver_info\n",
      "req            INFO \tUsing cached data for session_status_data\n",
      "req            INFO \tUsing cached data for lap_count\n",
      "req            INFO \tUsing cached data for track_status_data\n",
      "req            INFO \tUsing cached data for _extended_timing_data\n",
      "req            INFO \tUsing cached data for timing_app_data\n",
      "core           INFO \tProcessing timing data...\n",
      "req            INFO \tUsing cached data for weather_data\n",
      "req            INFO \tUsing cached data for race_control_messages\n",
      "core           INFO \tFinished loading data for 20 drivers: ['1', '44', '63', '11', '55', '14', '4', '31', '3', '18', '5', '10', '23', '77', '47', '24', '6', '20', '16', '22']\n"
     ]
    },
    {
     "name": "stdout",
     "output_type": "stream",
     "text": [
      "{'Meeting': {'Key': 1116, 'Name': 'French Grand Prix', 'OfficialName': 'FORMULA 1 LENOVO GRAND PRIX DE FRANCE 2022', 'Location': 'Le Castellet', 'Country': {'Key': 7, 'Code': 'FRA', 'Name': 'France'}, 'Circuit': {'Key': 28, 'ShortName': 'Paul Ricard'}}, 'ArchiveStatus': {'Status': 'Generating'}, 'Key': 7139, 'Type': 'Race', 'Name': 'Race', 'StartDate': datetime.datetime(2022, 7, 24, 15, 0), 'EndDate': datetime.datetime(2022, 7, 24, 17, 0), 'GmtOffset': datetime.timedelta(seconds=7200), 'Path': '2022/2022-07-24_French_Grand_Prix/2022-07-24_Race/'}\n"
     ]
    },
    {
     "name": "stderr",
     "output_type": "stream",
     "text": [
      "core           INFO \tLoading data for Hungarian Grand Prix - Race [v3.4.4]\n",
      "req            INFO \tUsing cached data for session_info\n",
      "req            INFO \tUsing cached data for driver_info\n",
      "req            INFO \tUsing cached data for session_status_data\n",
      "req            INFO \tUsing cached data for lap_count\n",
      "req            INFO \tUsing cached data for track_status_data\n",
      "req            INFO \tUsing cached data for _extended_timing_data\n",
      "req            INFO \tUsing cached data for timing_app_data\n",
      "core           INFO \tProcessing timing data...\n",
      "req            INFO \tUsing cached data for weather_data\n",
      "req            INFO \tUsing cached data for race_control_messages\n",
      "core           INFO \tFinished loading data for 20 drivers: ['1', '44', '63', '55', '11', '16', '4', '14', '31', '5', '18', '10', '24', '47', '3', '20', '23', '6', '22', '77']\n"
     ]
    },
    {
     "name": "stdout",
     "output_type": "stream",
     "text": [
      "{'Meeting': {'Key': 1117, 'Name': 'Hungarian Grand Prix', 'OfficialName': 'FORMULA 1 ARAMCO MAGYAR NAGYDÍJ 2022', 'Location': 'Budapest', 'Country': {'Key': 14, 'Code': 'HUN', 'Name': 'Hungary'}, 'Circuit': {'Key': 4, 'ShortName': 'Hungaroring'}}, 'ArchiveStatus': {'Status': 'Generating'}, 'Key': 7149, 'Type': 'Race', 'Name': 'Race', 'StartDate': datetime.datetime(2022, 7, 31, 15, 0), 'EndDate': datetime.datetime(2022, 7, 31, 17, 0), 'GmtOffset': datetime.timedelta(seconds=7200), 'Path': '2022/2022-07-31_Hungarian_Grand_Prix/2022-07-31_Race/'}\n"
     ]
    },
    {
     "name": "stderr",
     "output_type": "stream",
     "text": [
      "core           INFO \tLoading data for Belgian Grand Prix - Race [v3.4.4]\n",
      "req            INFO \tUsing cached data for session_info\n",
      "req            INFO \tUsing cached data for driver_info\n",
      "req            INFO \tUsing cached data for session_status_data\n",
      "req            INFO \tUsing cached data for lap_count\n",
      "req            INFO \tUsing cached data for track_status_data\n",
      "req            INFO \tUsing cached data for _extended_timing_data\n",
      "req            INFO \tUsing cached data for timing_app_data\n",
      "core           INFO \tProcessing timing data...\n",
      "req            INFO \tUsing cached data for weather_data\n",
      "req            INFO \tUsing cached data for race_control_messages\n",
      "core           INFO \tFinished loading data for 20 drivers: ['1', '11', '55', '63', '14', '16', '31', '5', '10', '23', '18', '4', '22', '24', '3', '20', '47', '6', '77', '44']\n"
     ]
    },
    {
     "name": "stdout",
     "output_type": "stream",
     "text": [
      "{'Meeting': {'Key': 1118, 'Name': 'Belgian Grand Prix', 'OfficialName': 'FORMULA 1 ROLEX BELGIAN GRAND PRIX 2022', 'Location': 'Spa-Francorchamps', 'Country': {'Key': 16, 'Code': 'BEL', 'Name': 'Belgium'}, 'Circuit': {'Key': 7, 'ShortName': 'Spa-Francorchamps'}}, 'ArchiveStatus': {'Status': 'Generating'}, 'Key': 7159, 'Type': 'Race', 'Name': 'Race', 'StartDate': datetime.datetime(2022, 8, 28, 15, 0), 'EndDate': datetime.datetime(2022, 8, 28, 17, 0), 'GmtOffset': datetime.timedelta(seconds=7200), 'Path': '2022/2022-08-28_Belgian_Grand_Prix/2022-08-28_Race/'}\n"
     ]
    },
    {
     "name": "stderr",
     "output_type": "stream",
     "text": [
      "core           INFO \tLoading data for Dutch Grand Prix - Race [v3.4.4]\n",
      "req            INFO \tUsing cached data for session_info\n",
      "req            INFO \tUsing cached data for driver_info\n",
      "req            INFO \tUsing cached data for session_status_data\n",
      "req            INFO \tUsing cached data for lap_count\n",
      "req            INFO \tUsing cached data for track_status_data\n",
      "req            INFO \tUsing cached data for _extended_timing_data\n",
      "req            INFO \tUsing cached data for timing_app_data\n",
      "core           INFO \tProcessing timing data...\n",
      "req            INFO \tUsing cached data for weather_data\n",
      "req            INFO \tUsing cached data for race_control_messages\n",
      "core           INFO \tFinished loading data for 20 drivers: ['1', '63', '16', '44', '11', '14', '4', '55', '31', '18', '10', '23', '47', '5', '20', '24', '3', '6', '77', '22']\n"
     ]
    },
    {
     "name": "stdout",
     "output_type": "stream",
     "text": [
      "{'Meeting': {'Key': 1119, 'Name': 'Dutch Grand Prix', 'OfficialName': 'FORMULA 1 HEINEKEN DUTCH GRAND PRIX 2022', 'Location': 'Zandvoort', 'Country': {'Key': 133, 'Code': 'NED', 'Name': 'Netherlands'}, 'Circuit': {'Key': 55, 'ShortName': 'Zandvoort'}}, 'ArchiveStatus': {'Status': 'Generating'}, 'Key': 7137, 'Type': 'Race', 'Name': 'Race', 'StartDate': datetime.datetime(2022, 9, 4, 15, 0), 'EndDate': datetime.datetime(2022, 9, 4, 17, 0), 'GmtOffset': datetime.timedelta(seconds=7200), 'Path': '2022/2022-09-04_Dutch_Grand_Prix/2022-09-04_Race/'}\n"
     ]
    },
    {
     "name": "stderr",
     "output_type": "stream",
     "text": [
      "core           INFO \tLoading data for Italian Grand Prix - Race [v3.4.4]\n",
      "req            INFO \tUsing cached data for session_info\n",
      "req            INFO \tUsing cached data for driver_info\n",
      "req            INFO \tUsing cached data for session_status_data\n",
      "req            INFO \tUsing cached data for lap_count\n",
      "req            INFO \tUsing cached data for track_status_data\n",
      "req            INFO \tUsing cached data for _extended_timing_data\n",
      "req            INFO \tUsing cached data for timing_app_data\n",
      "core           INFO \tProcessing timing data...\n",
      "req            INFO \tUsing cached data for weather_data\n",
      "req            INFO \tUsing cached data for race_control_messages\n",
      "core           INFO \tFinished loading data for 20 drivers: ['1', '16', '63', '55', '44', '11', '4', '10', '45', '24', '31', '47', '77', '22', '6', '20', '3', '18', '14', '5']\n"
     ]
    },
    {
     "name": "stdout",
     "output_type": "stream",
     "text": [
      "{'Meeting': {'Key': 1120, 'Name': 'Italian Grand Prix', 'OfficialName': 'FORMULA 1 PIRELLI GRAN PREMIO D’ITALIA 2022', 'Location': 'Monza', 'Country': {'Key': 13, 'Code': 'ITA', 'Name': 'Italy'}, 'Circuit': {'Key': 39, 'ShortName': 'Monza'}}, 'ArchiveStatus': {'Status': 'Generating'}, 'Key': 7128, 'Type': 'Race', 'Name': 'Race', 'StartDate': datetime.datetime(2022, 9, 11, 15, 0), 'EndDate': datetime.datetime(2022, 9, 11, 17, 0), 'GmtOffset': datetime.timedelta(seconds=7200), 'Path': '2022/2022-09-11_Italian_Grand_Prix/2022-09-11_Race/'}\n"
     ]
    },
    {
     "name": "stderr",
     "output_type": "stream",
     "text": [
      "core           INFO \tLoading data for Singapore Grand Prix - Race [v3.4.4]\n",
      "req            INFO \tUsing cached data for session_info\n",
      "req            INFO \tUsing cached data for driver_info\n",
      "req            INFO \tUsing cached data for session_status_data\n",
      "req            INFO \tUsing cached data for lap_count\n",
      "req            INFO \tUsing cached data for track_status_data\n",
      "req            INFO \tUsing cached data for _extended_timing_data\n",
      "req            INFO \tUsing cached data for timing_app_data\n",
      "core           INFO \tProcessing timing data...\n",
      "req            INFO \tUsing cached data for weather_data\n",
      "req            INFO \tUsing cached data for race_control_messages\n",
      "core           INFO \tFinished loading data for 20 drivers: ['11', '16', '55', '4', '3', '18', '1', '5', '44', '10', '77', '20', '47', '63', '22', '31', '23', '14', '6', '24']\n"
     ]
    },
    {
     "name": "stdout",
     "output_type": "stream",
     "text": [
      "{'Meeting': {'Key': 1133, 'Name': 'Singapore Grand Prix', 'OfficialName': 'FORMULA 1 SINGAPORE AIRLINES SINGAPORE GRAND PRIX 2022', 'Location': 'Marina Bay', 'Country': {'Key': 157, 'Code': 'SGP', 'Name': 'Singapore'}, 'Circuit': {'Key': 61, 'ShortName': 'Singapore'}}, 'ArchiveStatus': {'Status': 'Generating'}, 'Key': 7236, 'Type': 'Race', 'Name': 'Race', 'StartDate': datetime.datetime(2022, 10, 2, 20, 0), 'EndDate': datetime.datetime(2022, 10, 2, 22, 0), 'GmtOffset': datetime.timedelta(seconds=28800), 'Path': '2022/2022-10-02_Singapore_Grand_Prix/2022-10-02_Race/'}\n"
     ]
    },
    {
     "name": "stderr",
     "output_type": "stream",
     "text": [
      "core           INFO \tLoading data for Japanese Grand Prix - Race [v3.4.4]\n",
      "req            INFO \tUsing cached data for session_info\n",
      "req            INFO \tUsing cached data for driver_info\n",
      "req            INFO \tUsing cached data for session_status_data\n",
      "req            INFO \tUsing cached data for lap_count\n",
      "req            INFO \tUsing cached data for track_status_data\n",
      "req            INFO \tUsing cached data for _extended_timing_data\n",
      "req            INFO \tUsing cached data for timing_app_data\n",
      "core           INFO \tProcessing timing data...\n",
      "req            INFO \tUsing cached data for weather_data\n",
      "req            INFO \tUsing cached data for race_control_messages\n",
      "core           INFO \tFinished loading data for 20 drivers: ['1', '11', '16', '31', '44', '5', '14', '63', '6', '4', '3', '18', '22', '20', '77', '24', '47', '10', '55', '23']\n"
     ]
    },
    {
     "name": "stdout",
     "output_type": "stream",
     "text": [
      "{'Meeting': {'Key': 1134, 'Name': 'Japanese Grand Prix', 'OfficialName': 'FORMULA 1 HONDA JAPANESE GRAND PRIX 2022', 'Location': 'Suzuka', 'Country': {'Key': 4, 'Code': 'JPN', 'Name': 'Japan'}, 'Circuit': {'Key': 46, 'ShortName': 'Suzuka'}}, 'ArchiveStatus': {'Status': 'Generating'}, 'Key': 7244, 'Type': 'Race', 'Name': 'Race', 'StartDate': datetime.datetime(2022, 10, 9, 14, 0), 'EndDate': datetime.datetime(2022, 10, 9, 16, 0), 'GmtOffset': datetime.timedelta(seconds=32400), 'Path': '2022/2022-10-09_Japanese_Grand_Prix/2022-10-09_Race/'}\n"
     ]
    },
    {
     "name": "stderr",
     "output_type": "stream",
     "text": [
      "core           INFO \tLoading data for United States Grand Prix - Race [v3.4.4]\n",
      "req            INFO \tUsing cached data for session_info\n",
      "req            INFO \tUsing cached data for driver_info\n",
      "req            INFO \tUsing cached data for session_status_data\n",
      "req            INFO \tUsing cached data for lap_count\n",
      "req            INFO \tUsing cached data for track_status_data\n",
      "req            INFO \tUsing cached data for _extended_timing_data\n",
      "req            INFO \tUsing cached data for timing_app_data\n",
      "core           INFO \tProcessing timing data...\n",
      "req            INFO \tUsing cached data for weather_data\n",
      "req            INFO \tUsing cached data for race_control_messages\n",
      "core           INFO \tFinished loading data for 20 drivers: ['1', '44', '16', '11', '63', '4', '14', '5', '20', '22', '31', '24', '23', '10', '47', '3', '6', '18', '77', '55']\n"
     ]
    },
    {
     "name": "stdout",
     "output_type": "stream",
     "text": [
      "{'Meeting': {'Key': 1135, 'Name': 'United States Grand Prix', 'OfficialName': 'FORMULA 1 ARAMCO UNITED STATES GRAND PRIX 2022', 'Location': 'Austin', 'Country': {'Key': 19, 'Code': 'USA', 'Name': 'United States'}, 'Circuit': {'Key': 9, 'ShortName': 'Austin'}}, 'ArchiveStatus': {'Status': 'Generating'}, 'Key': 7252, 'Type': 'Race', 'Name': 'Race', 'StartDate': datetime.datetime(2022, 10, 23, 14, 0), 'EndDate': datetime.datetime(2022, 10, 23, 16, 0), 'GmtOffset': datetime.timedelta(days=-1, seconds=68400), 'Path': '2022/2022-10-23_United_States_Grand_Prix/2022-10-23_Race/'}\n"
     ]
    },
    {
     "name": "stderr",
     "output_type": "stream",
     "text": [
      "core           INFO \tLoading data for Mexico City Grand Prix - Race [v3.4.4]\n",
      "req            INFO \tUsing cached data for session_info\n",
      "req            INFO \tUsing cached data for driver_info\n",
      "req            INFO \tUsing cached data for session_status_data\n",
      "req            INFO \tUsing cached data for lap_count\n",
      "req            INFO \tUsing cached data for track_status_data\n",
      "req            INFO \tUsing cached data for _extended_timing_data\n",
      "req            INFO \tUsing cached data for timing_app_data\n",
      "core           INFO \tProcessing timing data...\n",
      "req            INFO \tUsing cached data for weather_data\n",
      "req            INFO \tUsing cached data for race_control_messages\n",
      "core           INFO \tFinished loading data for 20 drivers: ['1', '44', '11', '63', '55', '16', '3', '31', '4', '77', '10', '23', '24', '5', '18', '47', '20', '6', '14', '22']\n"
     ]
    },
    {
     "name": "stdout",
     "output_type": "stream",
     "text": [
      "{'Meeting': {'Key': 1136, 'Name': 'Mexico City Grand Prix', 'OfficialName': 'FORMULA 1 HEINEKEN GRAN PREMIO DE LA CIUDAD DE MÉXICO 2022', 'Location': 'Mexico City', 'Country': {'Key': 8, 'Code': 'MEX', 'Name': 'Mexico'}, 'Circuit': {'Key': 65, 'ShortName': 'Mexico City'}}, 'ArchiveStatus': {'Status': 'Generating'}, 'Key': 7260, 'Type': 'Race', 'Name': 'Race', 'StartDate': datetime.datetime(2022, 10, 30, 14, 0), 'EndDate': datetime.datetime(2022, 10, 30, 16, 0), 'GmtOffset': datetime.timedelta(days=-1, seconds=64800), 'Path': '2022/2022-10-30_Mexico_City_Grand_Prix/2022-10-30_Race/'}\n"
     ]
    },
    {
     "name": "stderr",
     "output_type": "stream",
     "text": [
      "core           INFO \tLoading data for São Paulo Grand Prix - Race [v3.4.4]\n",
      "req            INFO \tUsing cached data for session_info\n",
      "req            INFO \tUsing cached data for driver_info\n",
      "req            INFO \tUsing cached data for session_status_data\n",
      "req            INFO \tUsing cached data for lap_count\n",
      "req            INFO \tUsing cached data for track_status_data\n",
      "req            INFO \tUsing cached data for _extended_timing_data\n",
      "req            INFO \tUsing cached data for timing_app_data\n",
      "core           INFO \tProcessing timing data...\n",
      "req            INFO \tUsing cached data for weather_data\n",
      "req            INFO \tUsing cached data for race_control_messages\n",
      "core           INFO \tFinished loading data for 20 drivers: ['63', '44', '55', '16', '14', '1', '11', '31', '77', '18', '5', '24', '47', '10', '23', '6', '22', '4', '20', '3']\n"
     ]
    },
    {
     "name": "stdout",
     "output_type": "stream",
     "text": [
      "{'Meeting': {'Key': 1137, 'Name': 'São Paulo Grand Prix', 'OfficialName': 'FORMULA 1 HEINEKEN GRANDE PRÊMIO DE SÃO PAULO 2022', 'Location': 'São Paulo', 'Country': {'Key': 10, 'Code': 'BRA', 'Name': 'Brazil'}, 'Circuit': {'Key': 14, 'ShortName': 'Interlagos'}}, 'ArchiveStatus': {'Status': 'Generating'}, 'Key': 7268, 'Type': 'Race', 'Name': 'Race', 'StartDate': datetime.datetime(2022, 11, 13, 15, 0), 'EndDate': datetime.datetime(2022, 11, 13, 17, 0), 'GmtOffset': datetime.timedelta(days=-1, seconds=75600), 'Path': '2022/2022-11-13_São_Paulo_Grand_Prix/2022-11-13_Race/'}\n"
     ]
    },
    {
     "name": "stderr",
     "output_type": "stream",
     "text": [
      "core           INFO \tLoading data for Bahrain Grand Prix - Race [v3.4.4]\n",
      "req            INFO \tUsing cached data for session_info\n",
      "req            INFO \tUsing cached data for driver_info\n",
      "req            INFO \tUsing cached data for session_status_data\n",
      "req            INFO \tUsing cached data for lap_count\n",
      "req            INFO \tUsing cached data for track_status_data\n",
      "req            INFO \tUsing cached data for _extended_timing_data\n",
      "req            INFO \tUsing cached data for timing_app_data\n",
      "core           INFO \tProcessing timing data...\n",
      "req            INFO \tUsing cached data for weather_data\n",
      "req            INFO \tUsing cached data for race_control_messages\n",
      "core           INFO \tFinished loading data for 20 drivers: ['1', '11', '14', '55', '44', '18', '63', '77', '10', '23', '22', '2', '20', '21', '27', '24', '4', '31', '16', '81']\n"
     ]
    },
    {
     "name": "stdout",
     "output_type": "stream",
     "text": [
      "{'Meeting': {'Key': 1141, 'Name': 'Bahrain Grand Prix', 'OfficialName': 'FORMULA 1 GULF AIR BAHRAIN GRAND PRIX 2023', 'Location': 'Sakhir', 'Country': {'Key': 36, 'Code': 'BRN', 'Name': 'Bahrain'}, 'Circuit': {'Key': 63, 'ShortName': 'Sakhir'}}, 'ArchiveStatus': {'Status': 'Generating'}, 'Key': 7953, 'Type': 'Race', 'Name': 'Race', 'StartDate': datetime.datetime(2023, 3, 5, 18, 0), 'EndDate': datetime.datetime(2023, 3, 5, 20, 0), 'GmtOffset': datetime.timedelta(seconds=10800), 'Path': '2023/2023-03-05_Bahrain_Grand_Prix/2023-03-05_Race/'}\n"
     ]
    },
    {
     "name": "stderr",
     "output_type": "stream",
     "text": [
      "core           INFO \tLoading data for Saudi Arabian Grand Prix - Race [v3.4.4]\n",
      "req            INFO \tUsing cached data for session_info\n",
      "req            INFO \tUsing cached data for driver_info\n",
      "req            INFO \tUsing cached data for session_status_data\n",
      "req            INFO \tUsing cached data for lap_count\n",
      "req            INFO \tUsing cached data for track_status_data\n",
      "req            INFO \tUsing cached data for _extended_timing_data\n",
      "req            INFO \tUsing cached data for timing_app_data\n",
      "core           INFO \tProcessing timing data...\n",
      "req            INFO \tUsing cached data for weather_data\n",
      "req            INFO \tUsing cached data for race_control_messages\n",
      "core           INFO \tFinished loading data for 20 drivers: ['11', '1', '14', '63', '44', '55', '16', '31', '10', '20', '22', '27', '24', '21', '81', '2', '4', '77', '23', '18']\n"
     ]
    },
    {
     "name": "stdout",
     "output_type": "stream",
     "text": [
      "{'Meeting': {'Key': 1142, 'Name': 'Saudi Arabian Grand Prix', 'OfficialName': 'FORMULA 1 STC SAUDI ARABIAN GRAND PRIX 2023', 'Location': 'Jeddah', 'Country': {'Key': 153, 'Code': 'KSA', 'Name': 'Saudi Arabia'}, 'Circuit': {'Key': 149, 'ShortName': 'Jeddah'}}, 'ArchiveStatus': {'Status': 'Generating'}, 'Key': 7779, 'Type': 'Race', 'Name': 'Race', 'StartDate': datetime.datetime(2023, 3, 19, 20, 0), 'EndDate': datetime.datetime(2023, 3, 19, 22, 0), 'GmtOffset': datetime.timedelta(seconds=10800), 'Path': '2023/2023-03-19_Saudi_Arabian_Grand_Prix/2023-03-19_Race/'}\n"
     ]
    },
    {
     "name": "stderr",
     "output_type": "stream",
     "text": [
      "core           INFO \tLoading data for Australian Grand Prix - Race [v3.4.4]\n",
      "req            INFO \tUsing cached data for session_info\n",
      "req            INFO \tUsing cached data for driver_info\n",
      "req            INFO \tUsing cached data for session_status_data\n",
      "req            INFO \tUsing cached data for lap_count\n",
      "req            INFO \tUsing cached data for track_status_data\n",
      "req            INFO \tUsing cached data for _extended_timing_data\n",
      "req            INFO \tUsing cached data for timing_app_data\n",
      "core           INFO \tProcessing timing data...\n",
      "req            INFO \tUsing cached data for weather_data\n",
      "req            INFO \tUsing cached data for race_control_messages\n",
      "core           INFO \tFinished loading data for 20 drivers: ['1', '44', '14', '18', '11', '4', '27', '81', '24', '22', '77', '55', '10', '31', '21', '2', '20', '63', '23', '16']\n"
     ]
    },
    {
     "name": "stdout",
     "output_type": "stream",
     "text": [
      "{'Meeting': {'Key': 1143, 'Name': 'Australian Grand Prix', 'OfficialName': 'FORMULA 1 ROLEX AUSTRALIAN GRAND PRIX 2023', 'Location': 'Melbourne', 'Country': {'Key': 5, 'Code': 'AUS', 'Name': 'Australia'}, 'Circuit': {'Key': 10, 'ShortName': 'Melbourne'}}, 'ArchiveStatus': {'Status': 'Generating'}, 'Key': 7787, 'Type': 'Race', 'Name': 'Race', 'StartDate': datetime.datetime(2023, 4, 2, 15, 0), 'EndDate': datetime.datetime(2023, 4, 2, 17, 0), 'GmtOffset': datetime.timedelta(seconds=36000), 'Path': '2023/2023-04-02_Australian_Grand_Prix/2023-04-02_Race/'}\n"
     ]
    },
    {
     "name": "stderr",
     "output_type": "stream",
     "text": [
      "core           INFO \tLoading data for Azerbaijan Grand Prix - Race [v3.4.4]\n",
      "req            INFO \tUsing cached data for session_info\n",
      "req            INFO \tUsing cached data for driver_info\n",
      "req            INFO \tUsing cached data for session_status_data\n",
      "req            INFO \tUsing cached data for lap_count\n",
      "req            INFO \tUsing cached data for track_status_data\n",
      "req            INFO \tUsing cached data for _extended_timing_data\n",
      "req            INFO \tUsing cached data for timing_app_data\n",
      "core           INFO \tProcessing timing data...\n",
      "req            INFO \tUsing cached data for weather_data\n",
      "req            INFO \tUsing cached data for race_control_messages\n",
      "core           INFO \tFinished loading data for 20 drivers: ['11', '1', '16', '14', '55', '44', '18', '63', '4', '22', '81', '23', '20', '10', '31', '2', '27', '77', '24', '21']\n"
     ]
    },
    {
     "name": "stdout",
     "output_type": "stream",
     "text": [
      "{'Meeting': {'Key': 1207, 'Name': 'Azerbaijan Grand Prix', 'OfficialName': 'FORMULA 1 AZERBAIJAN GRAND PRIX 2023', 'Location': 'Baku', 'Country': {'Key': 30, 'Code': 'AZE', 'Name': 'Azerbaijan'}, 'Circuit': {'Key': 144, 'ShortName': 'Baku'}}, 'ArchiveStatus': {'Status': 'Generating'}, 'Key': 9070, 'Type': 'Race', 'Name': 'Race', 'StartDate': datetime.datetime(2023, 4, 30, 15, 0), 'EndDate': datetime.datetime(2023, 4, 30, 17, 0), 'GmtOffset': datetime.timedelta(seconds=14400), 'Path': '2023/2023-04-30_Azerbaijan_Grand_Prix/2023-04-30_Race/'}\n"
     ]
    },
    {
     "name": "stderr",
     "output_type": "stream",
     "text": [
      "core           INFO \tLoading data for Miami Grand Prix - Race [v3.4.4]\n",
      "req            INFO \tUsing cached data for session_info\n",
      "req            INFO \tUsing cached data for driver_info\n",
      "req            INFO \tUsing cached data for session_status_data\n",
      "req            INFO \tUsing cached data for lap_count\n",
      "req            INFO \tUsing cached data for track_status_data\n",
      "req            INFO \tUsing cached data for _extended_timing_data\n",
      "req            INFO \tUsing cached data for timing_app_data\n",
      "core           INFO \tProcessing timing data...\n",
      "req            INFO \tUsing cached data for weather_data\n",
      "req            INFO \tUsing cached data for race_control_messages\n",
      "core           INFO \tFinished loading data for 20 drivers: ['1', '11', '14', '63', '55', '44', '16', '10', '31', '20', '22', '18', '77', '23', '27', '24', '4', '21', '81', '2']\n"
     ]
    },
    {
     "name": "stdout",
     "output_type": "stream",
     "text": [
      "{'Meeting': {'Key': 1208, 'Name': 'Miami Grand Prix', 'OfficialName': 'FORMULA 1 CRYPTO.COM MIAMI GRAND PRIX 2023', 'Location': 'Miami', 'Country': {'Key': 19, 'Code': 'USA', 'Name': 'United States'}, 'Circuit': {'Key': 151, 'ShortName': 'Miami'}}, 'ArchiveStatus': {'Status': 'Generating'}, 'Key': 9078, 'Type': 'Race', 'Name': 'Race', 'StartDate': datetime.datetime(2023, 5, 7, 15, 30), 'EndDate': datetime.datetime(2023, 5, 7, 17, 30), 'GmtOffset': datetime.timedelta(days=-1, seconds=72000), 'Path': '2023/2023-05-07_Miami_Grand_Prix/2023-05-07_Race/'}\n"
     ]
    },
    {
     "name": "stderr",
     "output_type": "stream",
     "text": [
      "core           INFO \tLoading data for Monaco Grand Prix - Race [v3.4.4]\n",
      "req            INFO \tUsing cached data for session_info\n",
      "req            INFO \tUsing cached data for driver_info\n",
      "req            INFO \tUsing cached data for session_status_data\n",
      "req            INFO \tUsing cached data for lap_count\n",
      "req            INFO \tUsing cached data for track_status_data\n",
      "req            INFO \tUsing cached data for _extended_timing_data\n",
      "req            INFO \tUsing cached data for timing_app_data\n",
      "core           INFO \tProcessing timing data...\n",
      "req            INFO \tUsing cached data for weather_data\n",
      "req            INFO \tUsing cached data for race_control_messages\n",
      "core           INFO \tFinished loading data for 20 drivers: ['1', '14', '31', '44', '63', '16', '10', '55', '4', '81', '77', '21', '24', '23', '22', '11', '27', '2', '20', '18']\n"
     ]
    },
    {
     "name": "stdout",
     "output_type": "stream",
     "text": [
      "{'Meeting': {'Key': 1210, 'Name': 'Monaco Grand Prix', 'OfficialName': 'FORMULA 1 GRAND PRIX DE MONACO 2023', 'Location': 'Monaco', 'Country': {'Key': 114, 'Code': 'MON', 'Name': 'Monaco'}, 'Circuit': {'Key': 22, 'ShortName': 'Monte Carlo'}}, 'ArchiveStatus': {'Status': 'Generating'}, 'Key': 9094, 'Type': 'Race', 'Name': 'Race', 'StartDate': datetime.datetime(2023, 5, 28, 15, 0), 'EndDate': datetime.datetime(2023, 5, 28, 17, 0), 'GmtOffset': datetime.timedelta(seconds=7200), 'Path': '2023/2023-05-28_Monaco_Grand_Prix/2023-05-28_Race/'}\n"
     ]
    },
    {
     "name": "stderr",
     "output_type": "stream",
     "text": [
      "core           INFO \tLoading data for Spanish Grand Prix - Race [v3.4.4]\n",
      "req            INFO \tUsing cached data for session_info\n",
      "req            INFO \tUsing cached data for driver_info\n",
      "req            INFO \tUsing cached data for session_status_data\n",
      "req            INFO \tUsing cached data for lap_count\n",
      "req            INFO \tUsing cached data for track_status_data\n",
      "req            INFO \tUsing cached data for _extended_timing_data\n",
      "req            INFO \tUsing cached data for timing_app_data\n",
      "core           INFO \tProcessing timing data...\n",
      "req            INFO \tUsing cached data for weather_data\n",
      "req            INFO \tUsing cached data for race_control_messages\n",
      "core           INFO \tFinished loading data for 20 drivers: ['1', '44', '63', '11', '55', '18', '14', '31', '24', '10', '16', '22', '81', '21', '27', '23', '4', '20', '77', '2']\n"
     ]
    },
    {
     "name": "stdout",
     "output_type": "stream",
     "text": [
      "{'Meeting': {'Key': 1211, 'Name': 'Spanish Grand Prix', 'OfficialName': 'FORMULA 1 AWS GRAN PREMIO DE ESPAÑA 2023', 'Location': 'Barcelona', 'Country': {'Key': 1, 'Code': 'ESP', 'Name': 'Spain'}, 'Circuit': {'Key': 15, 'ShortName': 'Catalunya'}}, 'ArchiveStatus': {'Status': 'Generating'}, 'Key': 9102, 'Type': 'Race', 'Name': 'Race', 'StartDate': datetime.datetime(2023, 6, 4, 15, 0), 'EndDate': datetime.datetime(2023, 6, 4, 17, 0), 'GmtOffset': datetime.timedelta(seconds=7200), 'Path': '2023/2023-06-04_Spanish_Grand_Prix/2023-06-04_Race/'}\n"
     ]
    },
    {
     "name": "stderr",
     "output_type": "stream",
     "text": [
      "core           INFO \tLoading data for Canadian Grand Prix - Race [v3.4.4]\n",
      "req            INFO \tUsing cached data for session_info\n",
      "req            INFO \tUsing cached data for driver_info\n",
      "req            INFO \tUsing cached data for session_status_data\n",
      "req            INFO \tUsing cached data for lap_count\n",
      "req            INFO \tUsing cached data for track_status_data\n",
      "req            INFO \tUsing cached data for _extended_timing_data\n",
      "req            INFO \tUsing cached data for timing_app_data\n",
      "core           INFO \tProcessing timing data...\n",
      "req            INFO \tUsing cached data for weather_data\n",
      "req            INFO \tUsing cached data for race_control_messages\n",
      "core           INFO \tFinished loading data for 20 drivers: ['1', '14', '44', '16', '55', '11', '23', '31', '18', '77', '81', '10', '4', '22', '27', '24', '20', '21', '63', '2']\n"
     ]
    },
    {
     "name": "stdout",
     "output_type": "stream",
     "text": [
      "{'Meeting': {'Key': 1212, 'Name': 'Canadian Grand Prix', 'OfficialName': 'FORMULA 1 PIRELLI GRAND PRIX DU CANADA 2023', 'Location': 'Montréal', 'Country': {'Key': 46, 'Code': 'CAN', 'Name': 'Canada'}, 'Circuit': {'Key': 23, 'ShortName': 'Montreal'}}, 'ArchiveStatus': {'Status': 'Generating'}, 'Key': 9110, 'Type': 'Race', 'Name': 'Race', 'StartDate': datetime.datetime(2023, 6, 18, 14, 0), 'EndDate': datetime.datetime(2023, 6, 18, 16, 0), 'GmtOffset': datetime.timedelta(days=-1, seconds=72000), 'Path': '2023/2023-06-18_Canadian_Grand_Prix/2023-06-18_Race/'}\n"
     ]
    },
    {
     "name": "stderr",
     "output_type": "stream",
     "text": [
      "core           INFO \tLoading data for Austrian Grand Prix - Race [v3.4.4]\n",
      "req            INFO \tUsing cached data for session_info\n",
      "req            INFO \tUsing cached data for driver_info\n",
      "req            INFO \tUsing cached data for session_status_data\n",
      "req            INFO \tUsing cached data for lap_count\n",
      "req            INFO \tUsing cached data for track_status_data\n",
      "req            INFO \tUsing cached data for _extended_timing_data\n",
      "req            INFO \tUsing cached data for timing_app_data\n",
      "core           INFO \tProcessing timing data...\n",
      "req            INFO \tUsing cached data for weather_data\n",
      "req            INFO \tUsing cached data for race_control_messages\n",
      "core           INFO \tFinished loading data for 20 drivers: ['1', '16', '11', '4', '14', '55', '63', '44', '18', '10', '23', '24', '2', '31', '77', '81', '21', '20', '22', '27']\n"
     ]
    },
    {
     "name": "stdout",
     "output_type": "stream",
     "text": [
      "{'Meeting': {'Key': 1213, 'Name': 'Austrian Grand Prix', 'OfficialName': 'FORMULA 1 ROLEX GROSSER PREIS VON ÖSTERREICH 2023', 'Location': 'Spielberg', 'Country': {'Key': 17, 'Code': 'AUT', 'Name': 'Austria'}, 'Circuit': {'Key': 19, 'ShortName': 'Spielberg'}}, 'ArchiveStatus': {'Status': 'Generating'}, 'Key': 9118, 'Type': 'Race', 'Name': 'Race', 'StartDate': datetime.datetime(2023, 7, 2, 15, 0), 'EndDate': datetime.datetime(2023, 7, 2, 17, 0), 'GmtOffset': datetime.timedelta(seconds=7200), 'Path': '2023/2023-07-02_Austrian_Grand_Prix/2023-07-02_Race/'}\n"
     ]
    },
    {
     "name": "stderr",
     "output_type": "stream",
     "text": [
      "core           INFO \tLoading data for British Grand Prix - Race [v3.4.4]\n",
      "req            INFO \tUsing cached data for session_info\n",
      "req            INFO \tUsing cached data for driver_info\n",
      "req            INFO \tUsing cached data for session_status_data\n",
      "req            INFO \tUsing cached data for lap_count\n",
      "req            INFO \tUsing cached data for track_status_data\n",
      "req            INFO \tUsing cached data for _extended_timing_data\n",
      "req            INFO \tUsing cached data for timing_app_data\n",
      "core           INFO \tProcessing timing data...\n",
      "req            INFO \tUsing cached data for weather_data\n",
      "req            INFO \tUsing cached data for race_control_messages\n",
      "core           INFO \tFinished loading data for 20 drivers: ['1', '4', '44', '81', '63', '11', '14', '23', '16', '55', '2', '77', '27', '18', '24', '22', '21', '10', '20', '31']\n"
     ]
    },
    {
     "name": "stdout",
     "output_type": "stream",
     "text": [
      "{'Meeting': {'Key': 1214, 'Name': 'British Grand Prix', 'OfficialName': 'FORMULA 1 ARAMCO BRITISH GRAND PRIX 2023', 'Location': 'Silverstone', 'Country': {'Key': 2, 'Code': 'GBR', 'Name': 'Great Britain'}, 'Circuit': {'Key': 2, 'ShortName': 'Silverstone'}}, 'ArchiveStatus': {'Status': 'Generating'}, 'Key': 9126, 'Type': 'Race', 'Name': 'Race', 'StartDate': datetime.datetime(2023, 7, 9, 15, 0), 'EndDate': datetime.datetime(2023, 7, 9, 17, 0), 'GmtOffset': datetime.timedelta(seconds=3600), 'Path': '2023/2023-07-09_British_Grand_Prix/2023-07-09_Race/'}\n"
     ]
    },
    {
     "name": "stderr",
     "output_type": "stream",
     "text": [
      "core           INFO \tLoading data for Hungarian Grand Prix - Race [v3.4.4]\n",
      "req            INFO \tUsing cached data for session_info\n",
      "req            INFO \tUsing cached data for driver_info\n",
      "req            INFO \tNo cached data found for session_status_data. Loading data...\n",
      "_api           INFO \tFetching session status data...\n",
      "req            INFO \tData has been written to cache!\n",
      "req            INFO \tNo cached data found for lap_count. Loading data...\n",
      "_api           INFO \tFetching lap count data...\n",
      "req            INFO \tData has been written to cache!\n",
      "req            INFO \tNo cached data found for track_status_data. Loading data...\n",
      "_api           INFO \tFetching track status data...\n",
      "req            INFO \tData has been written to cache!\n",
      "req            INFO \tNo cached data found for _extended_timing_data. Loading data...\n",
      "_api           INFO \tFetching timing data...\n",
      "_api           INFO \tParsing timing data...\n",
      "_api        WARNING \tSkipping lap alignment (no suitable lap)!\n",
      "req            INFO \tData has been written to cache!\n",
      "req            INFO \tNo cached data found for timing_app_data. Loading data...\n",
      "_api           INFO \tFetching timing app data...\n",
      "req            INFO \tData has been written to cache!\n",
      "core           INFO \tProcessing timing data...\n",
      "req            INFO \tNo cached data found for weather_data. Loading data...\n",
      "_api           INFO \tFetching weather data...\n",
      "req            INFO \tData has been written to cache!\n",
      "req            INFO \tNo cached data found for race_control_messages. Loading data...\n",
      "_api           INFO \tFetching race control messages...\n",
      "req            INFO \tData has been written to cache!\n",
      "core           INFO \tFinished loading data for 20 drivers: ['1', '4', '11', '44', '81', '63', '16', '55', '14', '18', '23', '77', '3', '27', '22', '24', '20', '2', '31', '10']\n"
     ]
    },
    {
     "name": "stdout",
     "output_type": "stream",
     "text": [
      "{'Meeting': {'Key': 1215, 'Name': 'Hungarian Grand Prix', 'OfficialName': 'FORMULA 1 QATAR AIRWAYS HUNGARIAN GRAND PRIX 2023', 'Location': 'Budapest', 'Country': {'Key': 14, 'Code': 'HUN', 'Name': 'Hungary'}, 'Circuit': {'Key': 4, 'ShortName': 'Hungaroring'}}, 'ArchiveStatus': {'Status': 'Generating'}, 'Key': 9133, 'Type': 'Race', 'Name': 'Race', 'StartDate': datetime.datetime(2023, 7, 23, 15, 0), 'EndDate': datetime.datetime(2023, 7, 23, 17, 0), 'GmtOffset': datetime.timedelta(seconds=7200), 'Path': '2023/2023-07-23_Hungarian_Grand_Prix/2023-07-23_Race/'}\n"
     ]
    },
    {
     "name": "stderr",
     "output_type": "stream",
     "text": [
      "core           INFO \tLoading data for Belgian Grand Prix - Race [v3.4.4]\n",
      "req            INFO \tNo cached data found for session_info. Loading data...\n",
      "_api           INFO \tFetching session info data...\n",
      "req            INFO \tData has been written to cache!\n",
      "req            INFO \tNo cached data found for driver_info. Loading data...\n",
      "_api           INFO \tFetching driver list...\n",
      "req            INFO \tData has been written to cache!\n",
      "logger      WARNING \tFailed to load result data from Ergast!\n",
      "core        WARNING \tNo result data for this session available on Ergast! (This is expected for recent sessions)\n",
      "req            INFO \tNo cached data found for session_status_data. Loading data...\n",
      "_api           INFO \tFetching session status data...\n",
      "req            INFO \tData has been written to cache!\n",
      "req            INFO \tNo cached data found for lap_count. Loading data...\n",
      "_api           INFO \tFetching lap count data...\n",
      "req            INFO \tData has been written to cache!\n",
      "req            INFO \tNo cached data found for track_status_data. Loading data...\n",
      "_api           INFO \tFetching track status data...\n",
      "req            INFO \tData has been written to cache!\n",
      "req            INFO \tNo cached data found for _extended_timing_data. Loading data...\n",
      "_api           INFO \tFetching timing data...\n",
      "_api           INFO \tParsing timing data...\n",
      "req            INFO \tData has been written to cache!\n",
      "req            INFO \tNo cached data found for timing_app_data. Loading data...\n",
      "_api           INFO \tFetching timing app data...\n",
      "req            INFO \tData has been written to cache!\n",
      "core           INFO \tProcessing timing data...\n",
      "req            INFO \tNo cached data found for weather_data. Loading data...\n",
      "_api           INFO \tFetching weather data...\n",
      "req            INFO \tData has been written to cache!\n",
      "req            INFO \tNo cached data found for race_control_messages. Loading data...\n",
      "_api           INFO \tFetching race control messages...\n",
      "req            INFO \tData has been written to cache!\n",
      "core           INFO \tFinished loading data for 20 drivers: ['16', '11', '44', '55', '81', '1', '4', '63', '14', '18', '22', '10', '77', '31', '23', '20', '24', '2', '3', '27']\n"
     ]
    },
    {
     "name": "stdout",
     "output_type": "stream",
     "text": [
      "{'Meeting': {'Key': 1216, 'Name': 'Belgian Grand Prix', 'OfficialName': 'FORMULA 1 MSC CRUISES BELGIAN GRAND PRIX 2023', 'Location': 'Spa-Francorchamps', 'Country': {'Key': 16, 'Code': 'BEL', 'Name': 'Belgium'}, 'Circuit': {'Key': 7, 'ShortName': 'Spa-Francorchamps'}}, 'ArchiveStatus': {'Status': 'Generating'}, 'Key': 9141, 'Type': 'Race', 'Name': 'Race', 'StartDate': datetime.datetime(2023, 7, 30, 15, 0), 'EndDate': datetime.datetime(2023, 7, 30, 17, 0), 'GmtOffset': datetime.timedelta(seconds=7200), 'Path': '2023/2023-07-30_Belgian_Grand_Prix/2023-07-30_Race/'}\n"
     ]
    },
    {
     "name": "stderr",
     "output_type": "stream",
     "text": [
      "core           INFO \tLoading data for Dutch Grand Prix - Race [v3.4.4]\n",
      "req            INFO \tNo cached data found for session_info. Loading data...\n",
      "_api           INFO \tFetching session info data...\n",
      "req            INFO \tData has been written to cache!\n",
      "req            INFO \tNo cached data found for driver_info. Loading data...\n",
      "_api           INFO \tFetching driver list...\n",
      "req            INFO \tData has been written to cache!\n",
      "logger      WARNING \tFailed to load result data from Ergast!\n",
      "core        WARNING \tNo result data for this session available on Ergast! (This is expected for recent sessions)\n",
      "req            INFO \tNo cached data found for session_status_data. Loading data...\n",
      "_api           INFO \tFetching session status data...\n",
      "req            INFO \tData has been written to cache!\n",
      "req            INFO \tNo cached data found for lap_count. Loading data...\n",
      "_api           INFO \tFetching lap count data...\n",
      "req            INFO \tData has been written to cache!\n",
      "req            INFO \tNo cached data found for track_status_data. Loading data...\n",
      "_api           INFO \tFetching track status data...\n",
      "req            INFO \tData has been written to cache!\n",
      "req            INFO \tNo cached data found for _extended_timing_data. Loading data...\n",
      "_api           INFO \tFetching timing data...\n",
      "_api           INFO \tParsing timing data...\n",
      "req            INFO \tData has been written to cache!\n",
      "req            INFO \tNo cached data found for timing_app_data. Loading data...\n",
      "_api           INFO \tFetching timing app data...\n",
      "req            INFO \tData has been written to cache!\n",
      "core           INFO \tProcessing timing data...\n",
      "req            INFO \tNo cached data found for weather_data. Loading data...\n",
      "_api           INFO \tFetching weather data...\n",
      "req            INFO \tData has been written to cache!\n",
      "req            INFO \tNo cached data found for race_control_messages. Loading data...\n",
      "_api           INFO \tFetching race control messages...\n",
      "req            INFO \tData has been written to cache!\n",
      "core           INFO \tFinished loading data for 20 drivers: ['1', '4', '63', '23', '14', '55', '11', '81', '16', '2', '18', '10', '44', '27', '24', '31', '22', '77', '40', '20']\n"
     ]
    },
    {
     "name": "stdout",
     "output_type": "stream",
     "text": [
      "{'Meeting': {'Key': 1217, 'Name': 'Dutch Grand Prix', 'OfficialName': 'FORMULA 1 HEINEKEN DUTCH GRAND PRIX 2023', 'Location': 'Zandvoort', 'Country': {'Key': 133, 'Code': 'NED', 'Name': 'Netherlands'}, 'Circuit': {'Key': 55, 'ShortName': 'Zandvoort'}}, 'ArchiveStatus': {'Status': 'Generating'}, 'Key': 9149, 'Type': 'Race', 'Name': 'Race', 'StartDate': datetime.datetime(2023, 8, 27, 15, 0), 'EndDate': datetime.datetime(2023, 8, 27, 17, 0), 'GmtOffset': datetime.timedelta(seconds=7200), 'Path': '2023/2023-08-27_Dutch_Grand_Prix/2023-08-27_Race/'}\n"
     ]
    },
    {
     "name": "stderr",
     "output_type": "stream",
     "text": [
      "core           INFO \tLoading data for Italian Grand Prix - Race [v3.4.4]\n",
      "req            INFO \tNo cached data found for session_info. Loading data...\n",
      "_api           INFO \tFetching session info data...\n",
      "req            INFO \tData has been written to cache!\n",
      "req            INFO \tNo cached data found for driver_info. Loading data...\n",
      "_api           INFO \tFetching driver list...\n",
      "req            INFO \tData has been written to cache!\n",
      "req            INFO \tNo cached data found for session_status_data. Loading data...\n",
      "_api           INFO \tFetching session status data...\n",
      "req            INFO \tData has been written to cache!\n",
      "req            INFO \tNo cached data found for lap_count. Loading data...\n",
      "_api           INFO \tFetching lap count data...\n",
      "req            INFO \tData has been written to cache!\n",
      "req            INFO \tNo cached data found for track_status_data. Loading data...\n",
      "_api           INFO \tFetching track status data...\n",
      "req            INFO \tData has been written to cache!\n",
      "req            INFO \tNo cached data found for _extended_timing_data. Loading data...\n",
      "_api           INFO \tFetching timing data...\n",
      "_api           INFO \tParsing timing data...\n",
      "req            INFO \tData has been written to cache!\n",
      "req            INFO \tNo cached data found for timing_app_data. Loading data...\n",
      "_api           INFO \tFetching timing app data...\n",
      "req            INFO \tData has been written to cache!\n",
      "core           INFO \tProcessing timing data...\n",
      "req            INFO \tNo cached data found for weather_data. Loading data...\n",
      "_api           INFO \tFetching weather data...\n",
      "req            INFO \tData has been written to cache!\n",
      "req            INFO \tNo cached data found for race_control_messages. Loading data...\n",
      "_api           INFO \tFetching race control messages...\n",
      "req            INFO \tData has been written to cache!\n",
      "core           INFO \tFinished loading data for 20 drivers: ['1', '11', '55', '16', '63', '44', '23', '4', '14', '77', '40', '81', '2', '24', '10', '18', '27', '20', '31', '22']\n"
     ]
    },
    {
     "name": "stdout",
     "output_type": "stream",
     "text": [
      "{'Meeting': {'Key': 1218, 'Name': 'Italian Grand Prix', 'OfficialName': 'FORMULA 1 PIRELLI GRAN PREMIO D’ITALIA 2023 ', 'Location': 'Monza', 'Country': {'Key': 13, 'Code': 'ITA', 'Name': 'Italy'}, 'Circuit': {'Key': 39, 'ShortName': 'Monza'}}, 'ArchiveStatus': {'Status': 'Generating'}, 'Key': 9157, 'Type': 'Race', 'Name': 'Race', 'StartDate': datetime.datetime(2023, 9, 3, 15, 0), 'EndDate': datetime.datetime(2023, 9, 3, 17, 0), 'GmtOffset': datetime.timedelta(seconds=7200), 'Path': '2023/2023-09-03_Italian_Grand_Prix/2023-09-03_Race/'}\n"
     ]
    },
    {
     "name": "stderr",
     "output_type": "stream",
     "text": [
      "core           INFO \tLoading data for Singapore Grand Prix - Race [v3.4.4]\n",
      "req            INFO \tNo cached data found for session_info. Loading data...\n",
      "_api           INFO \tFetching session info data...\n",
      "req            INFO \tData has been written to cache!\n",
      "req            INFO \tNo cached data found for driver_info. Loading data...\n",
      "_api           INFO \tFetching driver list...\n",
      "req            INFO \tData has been written to cache!\n",
      "logger      WARNING \tFailed to load result data from Ergast!\n",
      "core        WARNING \tNo result data for this session available on Ergast! (This is expected for recent sessions)\n",
      "req            INFO \tNo cached data found for session_status_data. Loading data...\n",
      "_api           INFO \tFetching session status data...\n",
      "req            INFO \tData has been written to cache!\n",
      "req            INFO \tNo cached data found for lap_count. Loading data...\n",
      "_api           INFO \tFetching lap count data...\n",
      "req            INFO \tData has been written to cache!\n",
      "req            INFO \tNo cached data found for track_status_data. Loading data...\n",
      "_api           INFO \tFetching track status data...\n",
      "req            INFO \tData has been written to cache!\n",
      "req            INFO \tNo cached data found for _extended_timing_data. Loading data...\n",
      "_api           INFO \tFetching timing data...\n",
      "_api           INFO \tParsing timing data...\n",
      "req            INFO \tData has been written to cache!\n",
      "req            INFO \tNo cached data found for timing_app_data. Loading data...\n",
      "_api           INFO \tFetching timing app data...\n",
      "req            INFO \tData has been written to cache!\n",
      "core           INFO \tProcessing timing data...\n",
      "req            INFO \tNo cached data found for weather_data. Loading data...\n",
      "_api           INFO \tFetching weather data...\n",
      "req            INFO \tData has been written to cache!\n",
      "req            INFO \tNo cached data found for race_control_messages. Loading data...\n",
      "_api           INFO \tFetching race control messages...\n",
      "req            INFO \tData has been written to cache!\n",
      "core           INFO \tFinished loading data for 19 drivers: ['55', '63', '16', '4', '44', '20', '14', '31', '27', '40', '1', '10', '11', '23', '22', '77', '81', '2', '24']\n"
     ]
    },
    {
     "name": "stdout",
     "output_type": "stream",
     "text": [
      "{'Meeting': {'Key': 1219, 'Name': 'Singapore Grand Prix', 'OfficialName': 'FORMULA 1 SINGAPORE AIRLINES SINGAPORE GRAND PRIX 2023 ', 'Location': 'Marina Bay', 'Country': {'Key': 157, 'Code': 'SGP', 'Name': 'Singapore'}, 'Circuit': {'Key': 61, 'ShortName': 'Singapore'}}, 'ArchiveStatus': {'Status': 'Generating'}, 'Key': 9165, 'Type': 'Race', 'Name': 'Race', 'StartDate': datetime.datetime(2023, 9, 17, 20, 0), 'EndDate': datetime.datetime(2023, 9, 17, 22, 0), 'GmtOffset': datetime.timedelta(seconds=28800), 'Path': '2023/2023-09-17_Singapore_Grand_Prix/2023-09-17_Race/'}\n"
     ]
    },
    {
     "name": "stderr",
     "output_type": "stream",
     "text": [
      "core           INFO \tLoading data for Japanese Grand Prix - Race [v3.4.4]\n",
      "req            INFO \tNo cached data found for session_info. Loading data...\n",
      "_api           INFO \tFetching session info data...\n",
      "req            INFO \tData has been written to cache!\n",
      "req            INFO \tNo cached data found for driver_info. Loading data...\n",
      "_api           INFO \tFetching driver list...\n",
      "req            INFO \tData has been written to cache!\n",
      "logger      WARNING \tFailed to load result data from Ergast!\n",
      "core        WARNING \tNo result data for this session available on Ergast! (This is expected for recent sessions)\n",
      "req            INFO \tNo cached data found for session_status_data. Loading data...\n",
      "_api           INFO \tFetching session status data...\n",
      "req            INFO \tData has been written to cache!\n",
      "req            INFO \tNo cached data found for lap_count. Loading data...\n",
      "_api           INFO \tFetching lap count data...\n",
      "req            INFO \tData has been written to cache!\n",
      "req            INFO \tNo cached data found for track_status_data. Loading data...\n",
      "_api           INFO \tFetching track status data...\n",
      "req            INFO \tData has been written to cache!\n",
      "req            INFO \tNo cached data found for _extended_timing_data. Loading data...\n",
      "_api           INFO \tFetching timing data...\n",
      "_api           INFO \tParsing timing data...\n",
      "req            INFO \tData has been written to cache!\n",
      "req            INFO \tNo cached data found for timing_app_data. Loading data...\n",
      "_api           INFO \tFetching timing app data...\n",
      "req            INFO \tData has been written to cache!\n",
      "core           INFO \tProcessing timing data...\n",
      "req            INFO \tNo cached data found for weather_data. Loading data...\n",
      "_api           INFO \tFetching weather data...\n",
      "req            INFO \tData has been written to cache!\n",
      "req            INFO \tNo cached data found for race_control_messages. Loading data...\n",
      "_api           INFO \tFetching race control messages...\n",
      "req            INFO \tData has been written to cache!\n",
      "core           INFO \tFinished loading data for 20 drivers: ['1', '81', '4', '16', '11', '55', '44', '63', '22', '14', '40', '10', '23', '31', '20', '77', '18', '27', '24', '2']\n"
     ]
    },
    {
     "name": "stdout",
     "output_type": "stream",
     "text": [
      "{'Meeting': {'Key': 1220, 'Name': 'Japanese Grand Prix', 'OfficialName': 'FORMULA 1 LENOVO JAPANESE GRAND PRIX 2023 ', 'Location': 'Suzuka', 'Country': {'Key': 4, 'Code': 'JPN', 'Name': 'Japan'}, 'Circuit': {'Key': 46, 'ShortName': 'Suzuka'}}, 'ArchiveStatus': {'Status': 'Generating'}, 'Key': 9173, 'Type': 'Race', 'Name': 'Race', 'StartDate': datetime.datetime(2023, 9, 24, 14, 0), 'EndDate': datetime.datetime(2023, 9, 24, 16, 0), 'GmtOffset': datetime.timedelta(seconds=32400), 'Path': '2023/2023-09-24_Japanese_Grand_Prix/2023-09-24_Race/'}\n"
     ]
    },
    {
     "name": "stderr",
     "output_type": "stream",
     "text": [
      "core           INFO \tLoading data for Qatar Grand Prix - Race [v3.4.4]\n",
      "req            INFO \tNo cached data found for session_info. Loading data...\n",
      "_api           INFO \tFetching session info data...\n",
      "req            INFO \tData has been written to cache!\n",
      "req            INFO \tNo cached data found for driver_info. Loading data...\n",
      "_api           INFO \tFetching driver list...\n",
      "req            INFO \tData has been written to cache!\n",
      "req            INFO \tNo cached data found for session_status_data. Loading data...\n",
      "_api           INFO \tFetching session status data...\n",
      "req            INFO \tData has been written to cache!\n",
      "req            INFO \tNo cached data found for lap_count. Loading data...\n",
      "_api           INFO \tFetching lap count data...\n",
      "req            INFO \tData has been written to cache!\n",
      "req            INFO \tNo cached data found for track_status_data. Loading data...\n",
      "_api           INFO \tFetching track status data...\n",
      "req            INFO \tData has been written to cache!\n",
      "req            INFO \tNo cached data found for _extended_timing_data. Loading data...\n",
      "_api           INFO \tFetching timing data...\n",
      "_api           INFO \tParsing timing data...\n",
      "req            INFO \tData has been written to cache!\n",
      "req            INFO \tNo cached data found for timing_app_data. Loading data...\n",
      "_api           INFO \tFetching timing app data...\n",
      "req            INFO \tData has been written to cache!\n",
      "core           INFO \tProcessing timing data...\n",
      "core        WARNING \tNo lap data for driver 55\n",
      "core        WARNING \tFailed to perform lap accuracy check - all laps marked as inaccurate (driver 55)\n",
      "req            INFO \tNo cached data found for weather_data. Loading data...\n",
      "_api           INFO \tFetching weather data...\n",
      "req            INFO \tData has been written to cache!\n",
      "req            INFO \tNo cached data found for race_control_messages. Loading data...\n",
      "_api           INFO \tFetching race control messages...\n",
      "req            INFO \tData has been written to cache!\n",
      "core           INFO \tFinished loading data for 20 drivers: ['1', '81', '4', '63', '16', '14', '31', '77', '24', '11', '18', '10', '23', '20', '22', '27', '40', '2', '44', '55']\n"
     ]
    },
    {
     "name": "stdout",
     "output_type": "stream",
     "text": [
      "{'Meeting': {'Key': 1221, 'Name': 'Qatar Grand Prix', 'OfficialName': 'FORMULA 1 QATAR AIRWAYS QATAR GRAND PRIX 2023', 'Location': 'Lusail', 'Country': {'Key': 149, 'Code': 'QAT', 'Name': 'Qatar'}, 'Circuit': {'Key': 150, 'ShortName': 'Lusail'}}, 'ArchiveStatus': {'Status': 'Generating'}, 'Key': 9221, 'Type': 'Race', 'Name': 'Race', 'StartDate': datetime.datetime(2023, 10, 8, 20, 0), 'EndDate': datetime.datetime(2023, 10, 8, 22, 0), 'GmtOffset': datetime.timedelta(seconds=10800), 'Path': '2023/2023-10-08_Qatar_Grand_Prix/2023-10-08_Race/'}\n"
     ]
    },
    {
     "name": "stderr",
     "output_type": "stream",
     "text": [
      "core           INFO \tLoading data for United States Grand Prix - Race [v3.4.4]\n",
      "req            INFO \tNo cached data found for session_info. Loading data...\n",
      "_api           INFO \tFetching session info data...\n",
      "req            INFO \tData has been written to cache!\n",
      "req            INFO \tNo cached data found for driver_info. Loading data...\n",
      "_api           INFO \tFetching driver list...\n",
      "req            INFO \tData has been written to cache!\n",
      "req            INFO \tNo cached data found for session_status_data. Loading data...\n",
      "_api           INFO \tFetching session status data...\n",
      "req            INFO \tData has been written to cache!\n",
      "req            INFO \tNo cached data found for lap_count. Loading data...\n",
      "_api           INFO \tFetching lap count data...\n",
      "req            INFO \tData has been written to cache!\n",
      "req            INFO \tNo cached data found for track_status_data. Loading data...\n",
      "_api           INFO \tFetching track status data...\n",
      "req            INFO \tData has been written to cache!\n",
      "req            INFO \tNo cached data found for _extended_timing_data. Loading data...\n",
      "_api           INFO \tFetching timing data...\n",
      "_api           INFO \tParsing timing data...\n",
      "req            INFO \tData has been written to cache!\n",
      "req            INFO \tNo cached data found for timing_app_data. Loading data...\n",
      "_api           INFO \tFetching timing app data...\n",
      "req            INFO \tData has been written to cache!\n",
      "core           INFO \tProcessing timing data...\n",
      "req            INFO \tNo cached data found for weather_data. Loading data...\n",
      "_api           INFO \tFetching weather data...\n",
      "req            INFO \tData has been written to cache!\n",
      "req            INFO \tNo cached data found for race_control_messages. Loading data...\n",
      "_api           INFO \tFetching race control messages...\n",
      "req            INFO \tData has been written to cache!\n",
      "core           INFO \tFinished loading data for 20 drivers: ['1', '4', '55', '11', '63', '10', '18', '22', '23', '2', '27', '77', '24', '20', '3', '14', '81', '31', '44', '16']\n"
     ]
    },
    {
     "name": "stdout",
     "output_type": "stream",
     "text": [
      "{'Meeting': {'Key': 1222, 'Name': 'United States Grand Prix', 'OfficialName': 'FORMULA 1 LENOVO UNITED STATES GRAND PRIX 2023', 'Location': 'Austin', 'Country': {'Key': 19, 'Code': 'USA', 'Name': 'United States'}, 'Circuit': {'Key': 9, 'ShortName': 'Austin'}}, 'ArchiveStatus': {'Status': 'Generating'}, 'Key': 9213, 'Type': 'Race', 'Name': 'Race', 'StartDate': datetime.datetime(2023, 10, 22, 14, 0), 'EndDate': datetime.datetime(2023, 10, 22, 16, 0), 'GmtOffset': datetime.timedelta(days=-1, seconds=68400), 'Path': '2023/2023-10-22_United_States_Grand_Prix/2023-10-22_Race/'}\n"
     ]
    },
    {
     "name": "stderr",
     "output_type": "stream",
     "text": [
      "core           INFO \tLoading data for Mexico City Grand Prix - Race [v3.4.4]\n",
      "req            INFO \tNo cached data found for session_info. Loading data...\n",
      "_api           INFO \tFetching session info data...\n",
      "req            INFO \tData has been written to cache!\n",
      "req            INFO \tNo cached data found for driver_info. Loading data...\n",
      "_api           INFO \tFetching driver list...\n",
      "req            INFO \tData has been written to cache!\n",
      "logger      WARNING \tFailed to load result data from Ergast!\n",
      "core        WARNING \tNo result data for this session available on Ergast! (This is expected for recent sessions)\n",
      "req            INFO \tNo cached data found for session_status_data. Loading data...\n",
      "_api           INFO \tFetching session status data...\n",
      "req            INFO \tData has been written to cache!\n",
      "req            INFO \tNo cached data found for lap_count. Loading data...\n",
      "_api           INFO \tFetching lap count data...\n",
      "req            INFO \tData has been written to cache!\n",
      "req            INFO \tNo cached data found for track_status_data. Loading data...\n",
      "_api           INFO \tFetching track status data...\n",
      "req            INFO \tData has been written to cache!\n",
      "req            INFO \tNo cached data found for _extended_timing_data. Loading data...\n",
      "_api           INFO \tFetching timing data...\n",
      "_api           INFO \tParsing timing data...\n",
      "_api        WARNING \tSkipping lap alignment (no suitable lap)!\n",
      "req            INFO \tData has been written to cache!\n",
      "req            INFO \tNo cached data found for timing_app_data. Loading data...\n",
      "_api           INFO \tFetching timing app data...\n",
      "req            INFO \tData has been written to cache!\n",
      "core           INFO \tProcessing timing data...\n",
      "req            INFO \tNo cached data found for weather_data. Loading data...\n",
      "_api           INFO \tFetching weather data...\n",
      "req            INFO \tData has been written to cache!\n",
      "req            INFO \tNo cached data found for race_control_messages. Loading data...\n",
      "_api           INFO \tFetching race control messages...\n",
      "req            INFO \tData has been written to cache!\n",
      "core           INFO \tFinished loading data for 20 drivers: ['16', '55', '1', '3', '11', '44', '81', '63', '77', '24', '10', '27', '14', '23', '31', '20', '4', '22', '2', '18']\n"
     ]
    },
    {
     "name": "stdout",
     "output_type": "stream",
     "text": [
      "{'Meeting': {'Key': 1223, 'Name': 'Mexico City Grand Prix', 'OfficialName': 'FORMULA 1 GRAN PREMIO DE LA CIUDAD DE MÉXICO 2023', 'Location': 'Mexico City', 'Country': {'Key': 8, 'Code': 'MEX', 'Name': 'Mexico'}, 'Circuit': {'Key': 65, 'ShortName': 'Mexico City'}}, 'ArchiveStatus': {'Status': 'Generating'}, 'Key': 9181, 'Type': 'Race', 'Name': 'Race', 'StartDate': datetime.datetime(2023, 10, 29, 14, 0), 'EndDate': datetime.datetime(2023, 10, 29, 16, 0), 'GmtOffset': datetime.timedelta(days=-1, seconds=64800), 'Path': '2023/2023-10-29_Mexico_City_Grand_Prix/2023-10-29_Race/'}\n"
     ]
    },
    {
     "name": "stderr",
     "output_type": "stream",
     "text": [
      "core           INFO \tLoading data for São Paulo Grand Prix - Race [v3.4.4]\n",
      "req            INFO \tNo cached data found for session_info. Loading data...\n",
      "_api           INFO \tFetching session info data...\n",
      "req            INFO \tData has been written to cache!\n",
      "req            INFO \tNo cached data found for driver_info. Loading data...\n",
      "_api           INFO \tFetching driver list...\n",
      "req            INFO \tData has been written to cache!\n",
      "logger      WARNING \tFailed to load result data from Ergast!\n",
      "core        WARNING \tNo result data for this session available on Ergast! (This is expected for recent sessions)\n",
      "req            INFO \tNo cached data found for session_status_data. Loading data...\n",
      "_api           INFO \tFetching session status data...\n",
      "req            INFO \tData has been written to cache!\n",
      "req            INFO \tNo cached data found for lap_count. Loading data...\n",
      "_api           INFO \tFetching lap count data...\n",
      "req            INFO \tData has been written to cache!\n",
      "req            INFO \tNo cached data found for track_status_data. Loading data...\n",
      "_api           INFO \tFetching track status data...\n",
      "req            INFO \tData has been written to cache!\n",
      "req            INFO \tNo cached data found for _extended_timing_data. Loading data...\n",
      "_api           INFO \tFetching timing data...\n",
      "_api           INFO \tParsing timing data...\n",
      "req            INFO \tData has been written to cache!\n",
      "req            INFO \tNo cached data found for timing_app_data. Loading data...\n",
      "_api           INFO \tFetching timing app data...\n",
      "req            INFO \tData has been written to cache!\n",
      "core           INFO \tProcessing timing data...\n",
      "req            INFO \tNo cached data found for weather_data. Loading data...\n",
      "_api           INFO \tFetching weather data...\n",
      "req            INFO \tData has been written to cache!\n",
      "req            INFO \tNo cached data found for race_control_messages. Loading data...\n",
      "_api           INFO \tFetching race control messages...\n",
      "req            INFO \tData has been written to cache!\n",
      "core           INFO \tFinished loading data for 20 drivers: ['1', '16', '18', '14', '44', '4', '55', '63', '11', '81', '27', '20', '23', '31', '10', '22', '3', '77', '2', '24']\n"
     ]
    },
    {
     "name": "stdout",
     "output_type": "stream",
     "text": [
      "{'Meeting': {'Key': 1224, 'Name': 'São Paulo Grand Prix', 'OfficialName': 'FORMULA 1 ROLEX GRANDE PRÊMIO DE SÃO PAULO 2023', 'Location': 'São Paulo', 'Country': {'Key': 10, 'Code': 'BRA', 'Name': 'Brazil'}, 'Circuit': {'Key': 14, 'ShortName': 'Interlagos'}}, 'ArchiveStatus': {'Status': 'Generating'}, 'Key': 9205, 'Type': 'Race', 'Name': 'Race', 'StartDate': datetime.datetime(2023, 11, 5, 14, 0), 'EndDate': datetime.datetime(2023, 11, 5, 16, 0), 'GmtOffset': datetime.timedelta(days=-1, seconds=75600), 'Path': '2023/2023-11-05_São_Paulo_Grand_Prix/2023-11-05_Race/'}\n"
     ]
    },
    {
     "name": "stderr",
     "output_type": "stream",
     "text": [
      "core           INFO \tLoading data for Las Vegas Grand Prix - Race [v3.4.4]\n",
      "req            INFO \tNo cached data found for session_info. Loading data...\n",
      "_api           INFO \tFetching session info data...\n",
      "req            INFO \tData has been written to cache!\n",
      "req            INFO \tNo cached data found for driver_info. Loading data...\n",
      "_api           INFO \tFetching driver list...\n",
      "req            INFO \tData has been written to cache!\n",
      "req            INFO \tNo cached data found for session_status_data. Loading data...\n",
      "_api           INFO \tFetching session status data...\n",
      "req            INFO \tData has been written to cache!\n",
      "req            INFO \tNo cached data found for lap_count. Loading data...\n",
      "_api           INFO \tFetching lap count data...\n",
      "req            INFO \tData has been written to cache!\n",
      "req            INFO \tNo cached data found for track_status_data. Loading data...\n",
      "_api           INFO \tFetching track status data...\n",
      "req            INFO \tData has been written to cache!\n",
      "req            INFO \tNo cached data found for _extended_timing_data. Loading data...\n",
      "_api           INFO \tFetching timing data...\n",
      "_api           INFO \tParsing timing data...\n",
      "_api        WARNING \tSkipping lap alignment (no suitable lap)!\n",
      "req            INFO \tData has been written to cache!\n",
      "req            INFO \tNo cached data found for timing_app_data. Loading data...\n",
      "_api           INFO \tFetching timing app data...\n",
      "req            INFO \tData has been written to cache!\n",
      "core           INFO \tProcessing timing data...\n",
      "req            INFO \tNo cached data found for weather_data. Loading data...\n",
      "_api           INFO \tFetching weather data...\n",
      "req            INFO \tData has been written to cache!\n",
      "req            INFO \tNo cached data found for race_control_messages. Loading data...\n",
      "_api           INFO \tFetching race control messages...\n",
      "req            INFO \tData has been written to cache!\n",
      "core           INFO \tFinished loading data for 20 drivers: ['1', '16', '11', '31', '18', '55', '44', '63', '14', '81', '10', '23', '20', '3', '24', '2', '77', '22', '27', '4']\n"
     ]
    },
    {
     "name": "stdout",
     "output_type": "stream",
     "text": [
      "{'Meeting': {'Key': 1225, 'Name': 'Las Vegas Grand Prix', 'OfficialName': 'FORMULA 1 HEINEKEN SILVER LAS VEGAS GRAND PRIX 2023', 'Location': 'Las Vegas', 'Country': {'Key': 19, 'Code': 'USA', 'Name': 'United States'}, 'Circuit': {'Key': 152, 'ShortName': 'Las Vegas'}}, 'ArchiveStatus': {'Status': 'Generating'}, 'Key': 9189, 'Type': 'Race', 'Name': 'Race', 'StartDate': datetime.datetime(2023, 11, 18, 22, 0), 'EndDate': datetime.datetime(2023, 11, 19, 0, 0), 'GmtOffset': datetime.timedelta(days=-1, seconds=57600), 'Path': '2023/2023-11-18_Las_Vegas_Grand_Prix/2023-11-18_Race/'}\n"
     ]
    },
    {
     "name": "stderr",
     "output_type": "stream",
     "text": [
      "core           INFO \tLoading data for Bahrain Grand Prix - Race [v3.4.4]\n",
      "req            INFO \tNo cached data found for session_info. Loading data...\n",
      "_api           INFO \tFetching session info data...\n",
      "req            INFO \tData has been written to cache!\n",
      "req            INFO \tNo cached data found for driver_info. Loading data...\n",
      "_api           INFO \tFetching driver list...\n",
      "req            INFO \tData has been written to cache!\n",
      "req            INFO \tNo cached data found for session_status_data. Loading data...\n",
      "_api           INFO \tFetching session status data...\n",
      "req            INFO \tData has been written to cache!\n",
      "req            INFO \tNo cached data found for lap_count. Loading data...\n",
      "_api           INFO \tFetching lap count data...\n",
      "req            INFO \tData has been written to cache!\n",
      "req            INFO \tNo cached data found for track_status_data. Loading data...\n",
      "_api           INFO \tFetching track status data...\n",
      "req            INFO \tData has been written to cache!\n",
      "req            INFO \tNo cached data found for _extended_timing_data. Loading data...\n",
      "_api           INFO \tFetching timing data...\n",
      "_api           INFO \tParsing timing data...\n",
      "req            INFO \tData has been written to cache!\n",
      "req            INFO \tNo cached data found for timing_app_data. Loading data...\n",
      "_api           INFO \tFetching timing app data...\n",
      "req            INFO \tData has been written to cache!\n",
      "core           INFO \tProcessing timing data...\n",
      "req            INFO \tNo cached data found for weather_data. Loading data...\n",
      "_api           INFO \tFetching weather data...\n",
      "req            INFO \tData has been written to cache!\n",
      "req            INFO \tNo cached data found for race_control_messages. Loading data...\n",
      "_api           INFO \tFetching race control messages...\n",
      "req            INFO \tData has been written to cache!\n",
      "core           INFO \tFinished loading data for 20 drivers: ['1', '11', '55', '16', '63', '4', '44', '81', '14', '18', '24', '20', '3', '22', '23', '27', '31', '10', '77', '2']\n"
     ]
    },
    {
     "name": "stdout",
     "output_type": "stream",
     "text": [
      "{'Meeting': {'Key': 1229, 'Name': 'Bahrain Grand Prix', 'OfficialName': 'FORMULA 1 GULF AIR BAHRAIN GRAND PRIX 2024', 'Location': 'Sakhir', 'Country': {'Key': 36, 'Code': 'BRN', 'Name': 'Bahrain'}, 'Circuit': {'Key': 63, 'ShortName': 'Sakhir'}}, 'ArchiveStatus': {'Status': 'Generating'}, 'Key': 9472, 'Type': 'Race', 'Name': 'Race', 'StartDate': datetime.datetime(2024, 3, 2, 18, 0), 'EndDate': datetime.datetime(2024, 3, 2, 20, 0), 'GmtOffset': datetime.timedelta(seconds=10800), 'Path': '2024/2024-03-02_Bahrain_Grand_Prix/2024-03-02_Race/'}\n"
     ]
    },
    {
     "name": "stderr",
     "output_type": "stream",
     "text": [
      "core           INFO \tLoading data for Saudi Arabian Grand Prix - Race [v3.4.4]\n",
      "req            INFO \tNo cached data found for session_info. Loading data...\n",
      "_api           INFO \tFetching session info data...\n",
      "req            INFO \tData has been written to cache!\n",
      "req            INFO \tNo cached data found for driver_info. Loading data...\n",
      "_api           INFO \tFetching driver list...\n",
      "req            INFO \tData has been written to cache!\n",
      "req            INFO \tNo cached data found for session_status_data. Loading data...\n",
      "_api           INFO \tFetching session status data...\n",
      "req            INFO \tData has been written to cache!\n",
      "req            INFO \tNo cached data found for lap_count. Loading data...\n",
      "_api           INFO \tFetching lap count data...\n",
      "req            INFO \tData has been written to cache!\n",
      "req            INFO \tNo cached data found for track_status_data. Loading data...\n",
      "_api           INFO \tFetching track status data...\n",
      "req            INFO \tData has been written to cache!\n",
      "req            INFO \tNo cached data found for _extended_timing_data. Loading data...\n",
      "_api           INFO \tFetching timing data...\n",
      "_api           INFO \tParsing timing data...\n",
      "_api        WARNING \tSkipping lap alignment (no suitable lap)!\n",
      "req            INFO \tData has been written to cache!\n",
      "req            INFO \tNo cached data found for timing_app_data. Loading data...\n",
      "_api           INFO \tFetching timing app data...\n",
      "req            INFO \tData has been written to cache!\n",
      "core           INFO \tProcessing timing data...\n",
      "req            INFO \tNo cached data found for weather_data. Loading data...\n",
      "_api           INFO \tFetching weather data...\n",
      "req            INFO \tData has been written to cache!\n",
      "req            INFO \tNo cached data found for race_control_messages. Loading data...\n",
      "_api           INFO \tFetching race control messages...\n",
      "req            INFO \tData has been written to cache!\n",
      "core           INFO \tFinished loading data for 20 drivers: ['1', '11', '16', '81', '14', '63', '38', '4', '44', '27', '23', '20', '31', '2', '22', '3', '77', '24', '18', '10']\n"
     ]
    },
    {
     "name": "stdout",
     "output_type": "stream",
     "text": [
      "{'Meeting': {'Key': 1230, 'Name': 'Saudi Arabian Grand Prix', 'OfficialName': 'FORMULA 1 STC SAUDI ARABIAN GRAND PRIX 2024', 'Location': 'Jeddah', 'Country': {'Key': 153, 'Code': 'KSA', 'Name': 'Saudi Arabia'}, 'Circuit': {'Key': 149, 'ShortName': 'Jeddah'}}, 'ArchiveStatus': {'Status': 'Generating'}, 'Key': 9480, 'Type': 'Race', 'Name': 'Race', 'StartDate': datetime.datetime(2024, 3, 9, 20, 0), 'EndDate': datetime.datetime(2024, 3, 9, 22, 0), 'GmtOffset': datetime.timedelta(seconds=10800), 'Path': '2024/2024-03-09_Saudi_Arabian_Grand_Prix/2024-03-09_Race/'}\n"
     ]
    },
    {
     "name": "stderr",
     "output_type": "stream",
     "text": [
      "core           INFO \tLoading data for Australian Grand Prix - Race [v3.4.4]\n",
      "req            INFO \tNo cached data found for session_info. Loading data...\n",
      "_api           INFO \tFetching session info data...\n",
      "req            INFO \tData has been written to cache!\n",
      "req            INFO \tNo cached data found for driver_info. Loading data...\n",
      "_api           INFO \tFetching driver list...\n",
      "req            INFO \tData has been written to cache!\n",
      "req            INFO \tNo cached data found for session_status_data. Loading data...\n",
      "_api           INFO \tFetching session status data...\n",
      "req            INFO \tData has been written to cache!\n",
      "req            INFO \tNo cached data found for lap_count. Loading data...\n",
      "_api           INFO \tFetching lap count data...\n",
      "req            INFO \tData has been written to cache!\n",
      "req            INFO \tNo cached data found for track_status_data. Loading data...\n",
      "_api           INFO \tFetching track status data...\n",
      "req            INFO \tData has been written to cache!\n",
      "req            INFO \tNo cached data found for _extended_timing_data. Loading data...\n",
      "_api           INFO \tFetching timing data...\n",
      "_api           INFO \tParsing timing data...\n",
      "req            INFO \tData has been written to cache!\n",
      "req            INFO \tNo cached data found for timing_app_data. Loading data...\n",
      "_api           INFO \tFetching timing app data...\n",
      "req            INFO \tData has been written to cache!\n",
      "core           INFO \tProcessing timing data...\n",
      "req            INFO \tNo cached data found for weather_data. Loading data...\n",
      "_api           INFO \tFetching weather data...\n",
      "req            INFO \tData has been written to cache!\n",
      "req            INFO \tNo cached data found for race_control_messages. Loading data...\n",
      "_api           INFO \tFetching race control messages...\n",
      "req            INFO \tData has been written to cache!\n",
      "core           INFO \tFinished loading data for 19 drivers: ['55', '16', '4', '81', '11', '18', '22', '14', '27', '20', '23', '3', '10', '77', '24', '31', '63', '44', '1']\n"
     ]
    },
    {
     "name": "stdout",
     "output_type": "stream",
     "text": [
      "{'Meeting': {'Key': 1231, 'Name': 'Australian Grand Prix', 'OfficialName': 'FORMULA 1 ROLEX AUSTRALIAN GRAND PRIX 2024', 'Location': 'Melbourne', 'Country': {'Key': 5, 'Code': 'AUS', 'Name': 'Australia'}, 'Circuit': {'Key': 10, 'ShortName': 'Melbourne'}}, 'ArchiveStatus': {'Status': 'Generating'}, 'Key': 9488, 'Type': 'Race', 'Name': 'Race', 'StartDate': datetime.datetime(2024, 3, 24, 15, 0), 'EndDate': datetime.datetime(2024, 3, 24, 17, 0), 'GmtOffset': datetime.timedelta(seconds=39600), 'Path': '2024/2024-03-24_Australian_Grand_Prix/2024-03-24_Race/'}\n"
     ]
    },
    {
     "name": "stderr",
     "output_type": "stream",
     "text": [
      "core           INFO \tLoading data for Japanese Grand Prix - Race [v3.4.4]\n",
      "req            INFO \tNo cached data found for session_info. Loading data...\n",
      "_api           INFO \tFetching session info data...\n",
      "req            INFO \tData has been written to cache!\n",
      "req            INFO \tNo cached data found for driver_info. Loading data...\n",
      "_api           INFO \tFetching driver list...\n",
      "req            INFO \tData has been written to cache!\n",
      "req            INFO \tNo cached data found for session_status_data. Loading data...\n",
      "_api           INFO \tFetching session status data...\n",
      "req            INFO \tData has been written to cache!\n",
      "req            INFO \tNo cached data found for lap_count. Loading data...\n",
      "_api           INFO \tFetching lap count data...\n",
      "req            INFO \tData has been written to cache!\n",
      "req            INFO \tNo cached data found for track_status_data. Loading data...\n",
      "_api           INFO \tFetching track status data...\n",
      "req            INFO \tData has been written to cache!\n",
      "req            INFO \tNo cached data found for _extended_timing_data. Loading data...\n",
      "_api           INFO \tFetching timing data...\n",
      "_api           INFO \tParsing timing data...\n",
      "req            INFO \tData has been written to cache!\n",
      "req            INFO \tNo cached data found for timing_app_data. Loading data...\n",
      "_api           INFO \tFetching timing app data...\n",
      "req            INFO \tData has been written to cache!\n",
      "core           INFO \tProcessing timing data...\n",
      "req            INFO \tNo cached data found for weather_data. Loading data...\n",
      "_api           INFO \tFetching weather data...\n",
      "req            INFO \tData has been written to cache!\n",
      "req            INFO \tNo cached data found for race_control_messages. Loading data...\n",
      "_api           INFO \tFetching race control messages...\n",
      "req            INFO \tData has been written to cache!\n",
      "core           INFO \tFinished loading data for 20 drivers: ['1', '11', '55', '16', '4', '14', '63', '81', '44', '22', '27', '18', '20', '77', '31', '10', '2', '24', '3', '23']\n"
     ]
    },
    {
     "name": "stdout",
     "output_type": "stream",
     "text": [
      "{'Meeting': {'Key': 1232, 'Name': 'Japanese Grand Prix', 'OfficialName': 'FORMULA 1 MSC CRUISES JAPANESE GRAND PRIX 2024', 'Location': 'Suzuka', 'Country': {'Key': 4, 'Code': 'JPN', 'Name': 'Japan'}, 'Circuit': {'Key': 46, 'ShortName': 'Suzuka'}}, 'ArchiveStatus': {'Status': 'Generating'}, 'Key': 9496, 'Type': 'Race', 'Name': 'Race', 'StartDate': datetime.datetime(2024, 4, 7, 14, 0), 'EndDate': datetime.datetime(2024, 4, 7, 16, 0), 'GmtOffset': datetime.timedelta(seconds=32400), 'Path': '2024/2024-04-07_Japanese_Grand_Prix/2024-04-07_Race/'}\n"
     ]
    },
    {
     "name": "stderr",
     "output_type": "stream",
     "text": [
      "core           INFO \tLoading data for Chinese Grand Prix - Race [v3.4.4]\n",
      "req            INFO \tNo cached data found for session_info. Loading data...\n",
      "_api           INFO \tFetching session info data...\n",
      "req            INFO \tData has been written to cache!\n",
      "req            INFO \tNo cached data found for driver_info. Loading data...\n",
      "_api           INFO \tFetching driver list...\n",
      "req            INFO \tData has been written to cache!\n",
      "req            INFO \tNo cached data found for session_status_data. Loading data...\n",
      "_api           INFO \tFetching session status data...\n",
      "req            INFO \tData has been written to cache!\n",
      "req            INFO \tNo cached data found for lap_count. Loading data...\n",
      "_api           INFO \tFetching lap count data...\n",
      "req            INFO \tData has been written to cache!\n",
      "req            INFO \tNo cached data found for track_status_data. Loading data...\n",
      "_api           INFO \tFetching track status data...\n",
      "req            INFO \tData has been written to cache!\n",
      "req            INFO \tNo cached data found for _extended_timing_data. Loading data...\n",
      "_api           INFO \tFetching timing data...\n",
      "_api           INFO \tParsing timing data...\n",
      "req            INFO \tData has been written to cache!\n",
      "req            INFO \tNo cached data found for timing_app_data. Loading data...\n",
      "_api           INFO \tFetching timing app data...\n",
      "req            INFO \tData has been written to cache!\n",
      "core           INFO \tProcessing timing data...\n",
      "req            INFO \tNo cached data found for weather_data. Loading data...\n",
      "_api           INFO \tFetching weather data...\n",
      "req            INFO \tData has been written to cache!\n",
      "req            INFO \tNo cached data found for race_control_messages. Loading data...\n",
      "_api           INFO \tFetching race control messages...\n",
      "req            INFO \tData has been written to cache!\n",
      "core           INFO \tFinished loading data for 20 drivers: ['1', '4', '11', '16', '55', '63', '14', '81', '44', '27', '31', '23', '10', '24', '18', '20', '2', '3', '22', '77']\n"
     ]
    },
    {
     "name": "stdout",
     "output_type": "stream",
     "text": [
      "{'Meeting': {'Key': 1233, 'Name': 'Chinese Grand Prix', 'OfficialName': 'FORMULA 1 LENOVO CHINESE GRAND PRIX 2024', 'Location': 'Shanghai', 'Country': {'Key': 53, 'Code': 'CHN', 'Name': 'China'}, 'Circuit': {'Key': 49, 'ShortName': 'Shanghai'}}, 'ArchiveStatus': {'Status': 'Generating'}, 'Key': 9673, 'Type': 'Race', 'Name': 'Race', 'StartDate': datetime.datetime(2024, 4, 21, 15, 0), 'EndDate': datetime.datetime(2024, 4, 21, 17, 0), 'GmtOffset': datetime.timedelta(seconds=28800), 'Path': '2024/2024-04-21_Chinese_Grand_Prix/2024-04-21_Race/'}\n"
     ]
    },
    {
     "name": "stderr",
     "output_type": "stream",
     "text": [
      "core           INFO \tLoading data for Miami Grand Prix - Race [v3.4.4]\n",
      "req            INFO \tNo cached data found for session_info. Loading data...\n",
      "_api           INFO \tFetching session info data...\n",
      "req            INFO \tData has been written to cache!\n",
      "req            INFO \tNo cached data found for driver_info. Loading data...\n",
      "_api           INFO \tFetching driver list...\n",
      "req            INFO \tData has been written to cache!\n",
      "req            INFO \tNo cached data found for session_status_data. Loading data...\n",
      "_api           INFO \tFetching session status data...\n",
      "req            INFO \tData has been written to cache!\n",
      "req            INFO \tNo cached data found for lap_count. Loading data...\n",
      "_api           INFO \tFetching lap count data...\n",
      "req            INFO \tData has been written to cache!\n",
      "req            INFO \tNo cached data found for track_status_data. Loading data...\n",
      "_api           INFO \tFetching track status data...\n",
      "req            INFO \tData has been written to cache!\n",
      "req            INFO \tNo cached data found for _extended_timing_data. Loading data...\n",
      "_api           INFO \tFetching timing data...\n",
      "_api           INFO \tParsing timing data...\n",
      "req            INFO \tData has been written to cache!\n",
      "req            INFO \tNo cached data found for timing_app_data. Loading data...\n",
      "_api           INFO \tFetching timing app data...\n",
      "req            INFO \tData has been written to cache!\n",
      "core           INFO \tProcessing timing data...\n",
      "req            INFO \tNo cached data found for weather_data. Loading data...\n",
      "_api           INFO \tFetching weather data...\n",
      "req            INFO \tData has been written to cache!\n",
      "req            INFO \tNo cached data found for race_control_messages. Loading data...\n",
      "_api           INFO \tFetching race control messages...\n",
      "req            INFO \tData has been written to cache!\n",
      "core           INFO \tFinished loading data for 20 drivers: ['4', '1', '16', '11', '55', '44', '22', '63', '14', '31', '27', '10', '81', '24', '3', '77', '18', '23', '20', '2']\n"
     ]
    },
    {
     "name": "stdout",
     "output_type": "stream",
     "text": [
      "{'Meeting': {'Key': 1234, 'Name': 'Miami Grand Prix', 'OfficialName': 'FORMULA 1 CRYPTO.COM MIAMI GRAND PRIX 2024', 'Location': 'Miami', 'Country': {'Key': 19, 'Code': 'USA', 'Name': 'United States'}, 'Circuit': {'Key': 151, 'ShortName': 'Miami'}}, 'ArchiveStatus': {'Status': 'Generating'}, 'Key': 9507, 'Type': 'Race', 'Name': 'Race', 'StartDate': datetime.datetime(2024, 5, 5, 16, 0), 'EndDate': datetime.datetime(2024, 5, 5, 18, 0), 'GmtOffset': datetime.timedelta(days=-1, seconds=72000), 'Path': '2024/2024-05-05_Miami_Grand_Prix/2024-05-05_Race/'}\n"
     ]
    },
    {
     "name": "stderr",
     "output_type": "stream",
     "text": [
      "core           INFO \tLoading data for Emilia Romagna Grand Prix - Race [v3.4.4]\n",
      "req            INFO \tNo cached data found for session_info. Loading data...\n",
      "_api           INFO \tFetching session info data...\n",
      "req            INFO \tData has been written to cache!\n",
      "req            INFO \tNo cached data found for driver_info. Loading data...\n",
      "_api           INFO \tFetching driver list...\n",
      "req            INFO \tData has been written to cache!\n",
      "logger      WARNING \tFailed to load result data from Ergast!\n",
      "core        WARNING \tNo result data for this session available on Ergast! (This is expected for recent sessions)\n",
      "req            INFO \tNo cached data found for session_status_data. Loading data...\n",
      "_api           INFO \tFetching session status data...\n",
      "req            INFO \tData has been written to cache!\n",
      "req            INFO \tNo cached data found for lap_count. Loading data...\n",
      "_api           INFO \tFetching lap count data...\n",
      "req            INFO \tData has been written to cache!\n",
      "req            INFO \tNo cached data found for track_status_data. Loading data...\n",
      "_api           INFO \tFetching track status data...\n",
      "req            INFO \tData has been written to cache!\n",
      "req            INFO \tNo cached data found for _extended_timing_data. Loading data...\n",
      "_api           INFO \tFetching timing data...\n",
      "_api           INFO \tParsing timing data...\n",
      "req            INFO \tData has been written to cache!\n",
      "req            INFO \tNo cached data found for timing_app_data. Loading data...\n",
      "_api           INFO \tFetching timing app data...\n",
      "req            INFO \tData has been written to cache!\n",
      "core           INFO \tProcessing timing data...\n",
      "req            INFO \tNo cached data found for weather_data. Loading data...\n",
      "_api           INFO \tFetching weather data...\n",
      "req            INFO \tData has been written to cache!\n",
      "req            INFO \tNo cached data found for race_control_messages. Loading data...\n",
      "_api           INFO \tFetching race control messages...\n",
      "req            INFO \tData has been written to cache!\n",
      "core           INFO \tFinished loading data for 20 drivers: ['1', '4', '16', '55', '81', '63', '22', '44', '3', '27', '11', '31', '18', '23', '10', '77', '24', '20', '2', '14']\n"
     ]
    },
    {
     "name": "stdout",
     "output_type": "stream",
     "text": [
      "{'Meeting': {'Key': 1235, 'Name': 'Emilia Romagna Grand Prix', 'OfficialName': \"FORMULA 1 MSC CRUISES GRAN PREMIO DEL MADE IN ITALY E DELL'EMILIA-ROMAGNA 2024\", 'Location': 'Imola', 'Country': {'Key': 13, 'Code': 'ITA', 'Name': 'Italy'}, 'Circuit': {'Key': 6, 'ShortName': 'Imola'}}, 'ArchiveStatus': {'Status': 'Generating'}, 'Key': 9515, 'Type': 'Race', 'Name': 'Race', 'StartDate': datetime.datetime(2024, 5, 19, 15, 0), 'EndDate': datetime.datetime(2024, 5, 19, 17, 0), 'GmtOffset': datetime.timedelta(seconds=7200), 'Path': '2024/2024-05-19_Emilia_Romagna_Grand_Prix/2024-05-19_Race/'}\n"
     ]
    },
    {
     "name": "stderr",
     "output_type": "stream",
     "text": [
      "core           INFO \tLoading data for Monaco Grand Prix - Race [v3.4.4]\n",
      "req            INFO \tNo cached data found for session_info. Loading data...\n",
      "_api           INFO \tFetching session info data...\n",
      "req            INFO \tData has been written to cache!\n",
      "req            INFO \tNo cached data found for driver_info. Loading data...\n",
      "_api           INFO \tFetching driver list...\n",
      "req            INFO \tData has been written to cache!\n",
      "logger      WARNING \tFailed to load result data from Ergast!\n",
      "core        WARNING \tNo result data for this session available on Ergast! (This is expected for recent sessions)\n",
      "req            INFO \tNo cached data found for session_status_data. Loading data...\n",
      "_api           INFO \tFetching session status data...\n",
      "req            INFO \tData has been written to cache!\n",
      "req            INFO \tNo cached data found for lap_count. Loading data...\n",
      "_api           INFO \tFetching lap count data...\n",
      "req            INFO \tData has been written to cache!\n",
      "req            INFO \tNo cached data found for track_status_data. Loading data...\n",
      "_api           INFO \tFetching track status data...\n",
      "req            INFO \tData has been written to cache!\n",
      "req            INFO \tNo cached data found for _extended_timing_data. Loading data...\n",
      "_api           INFO \tFetching timing data...\n",
      "_api           INFO \tParsing timing data...\n",
      "req            INFO \tData has been written to cache!\n",
      "req            INFO \tNo cached data found for timing_app_data. Loading data...\n",
      "_api           INFO \tFetching timing app data...\n",
      "req            INFO \tData has been written to cache!\n",
      "core           INFO \tProcessing timing data...\n",
      "req            INFO \tNo cached data found for weather_data. Loading data...\n",
      "_api           INFO \tFetching weather data...\n",
      "req            INFO \tData has been written to cache!\n",
      "req            INFO \tNo cached data found for race_control_messages. Loading data...\n",
      "_api           INFO \tFetching race control messages...\n",
      "req            INFO \tData has been written to cache!\n",
      "core           INFO \tFinished loading data for 20 drivers: ['16', '81', '55', '4', '63', '1', '44', '22', '23', '10', '31', '3', '18', '14', '2', '11', '77', '24', '27', '20']\n"
     ]
    },
    {
     "name": "stdout",
     "output_type": "stream",
     "text": [
      "{'Meeting': {'Key': 1236, 'Name': 'Monaco Grand Prix', 'OfficialName': 'FORMULA 1 GRAND PRIX DE MONACO 2024', 'Location': 'Monaco', 'Country': {'Key': 114, 'Code': 'MON', 'Name': 'Monaco'}, 'Circuit': {'Key': 22, 'ShortName': 'Monte Carlo'}}, 'ArchiveStatus': {'Status': 'Generating'}, 'Key': 9523, 'Type': 'Race', 'Name': 'Race', 'StartDate': datetime.datetime(2024, 5, 26, 15, 0), 'EndDate': datetime.datetime(2024, 5, 26, 17, 0), 'GmtOffset': datetime.timedelta(seconds=7200), 'Path': '2024/2024-05-26_Monaco_Grand_Prix/2024-05-26_Race/'}\n"
     ]
    },
    {
     "name": "stderr",
     "output_type": "stream",
     "text": [
      "core           INFO \tLoading data for Canadian Grand Prix - Race [v3.4.4]\n",
      "req            INFO \tNo cached data found for session_info. Loading data...\n",
      "_api           INFO \tFetching session info data...\n",
      "req            INFO \tData has been written to cache!\n",
      "req            INFO \tNo cached data found for driver_info. Loading data...\n",
      "_api           INFO \tFetching driver list...\n",
      "req            INFO \tData has been written to cache!\n",
      "logger      WARNING \tFailed to load result data from Ergast!\n",
      "core        WARNING \tNo result data for this session available on Ergast! (This is expected for recent sessions)\n",
      "req            INFO \tNo cached data found for session_status_data. Loading data...\n",
      "_api           INFO \tFetching session status data...\n",
      "req            INFO \tData has been written to cache!\n",
      "req            INFO \tNo cached data found for lap_count. Loading data...\n",
      "_api           INFO \tFetching lap count data...\n",
      "req            INFO \tData has been written to cache!\n",
      "req            INFO \tNo cached data found for track_status_data. Loading data...\n",
      "_api           INFO \tFetching track status data...\n",
      "req            INFO \tData has been written to cache!\n",
      "req            INFO \tNo cached data found for _extended_timing_data. Loading data...\n",
      "_api           INFO \tFetching timing data...\n",
      "_api           INFO \tParsing timing data...\n",
      "req            INFO \tData has been written to cache!\n",
      "req            INFO \tNo cached data found for timing_app_data. Loading data...\n",
      "_api           INFO \tFetching timing app data...\n",
      "req            INFO \tData has been written to cache!\n",
      "core           INFO \tProcessing timing data...\n",
      "req            INFO \tNo cached data found for weather_data. Loading data...\n",
      "_api           INFO \tFetching weather data...\n",
      "req            INFO \tData has been written to cache!\n",
      "req            INFO \tNo cached data found for race_control_messages. Loading data...\n",
      "_api           INFO \tFetching race control messages...\n",
      "req            INFO \tData has been written to cache!\n",
      "core           INFO \tFinished loading data for 20 drivers: ['63', '1', '4', '81', '3', '14', '44', '22', '18', '23', '16', '55', '2', '20', '10', '11', '27', '31', '77', '24']\n"
     ]
    },
    {
     "name": "stdout",
     "output_type": "stream",
     "text": [
      "{'Meeting': {'Key': 1237, 'Name': 'Canadian Grand Prix', 'OfficialName': 'FORMULA 1 AWS GRAND PRIX DU CANADA 2024', 'Location': 'Montréal', 'Country': {'Key': 46, 'Code': 'CAN', 'Name': 'Canada'}, 'Circuit': {'Key': 23, 'ShortName': 'Montreal'}}, 'ArchiveStatus': {'Status': 'Generating'}, 'Key': 9531, 'Type': 'Race', 'Name': 'Race', 'StartDate': datetime.datetime(2024, 6, 9, 14, 0), 'EndDate': datetime.datetime(2024, 6, 9, 16, 0), 'GmtOffset': datetime.timedelta(days=-1, seconds=72000), 'Path': '2024/2024-06-09_Canadian_Grand_Prix/2024-06-09_Race/'}\n"
     ]
    },
    {
     "name": "stderr",
     "output_type": "stream",
     "text": [
      "core           INFO \tLoading data for Spanish Grand Prix - Race [v3.4.4]\n",
      "req            INFO \tNo cached data found for session_info. Loading data...\n",
      "_api           INFO \tFetching session info data...\n",
      "req            INFO \tData has been written to cache!\n",
      "req            INFO \tNo cached data found for driver_info. Loading data...\n",
      "_api           INFO \tFetching driver list...\n",
      "req            INFO \tData has been written to cache!\n",
      "req            INFO \tNo cached data found for session_status_data. Loading data...\n",
      "_api           INFO \tFetching session status data...\n",
      "req            INFO \tData has been written to cache!\n",
      "req            INFO \tNo cached data found for lap_count. Loading data...\n",
      "_api           INFO \tFetching lap count data...\n",
      "req            INFO \tData has been written to cache!\n",
      "req            INFO \tNo cached data found for track_status_data. Loading data...\n",
      "_api           INFO \tFetching track status data...\n",
      "req            INFO \tData has been written to cache!\n",
      "req            INFO \tNo cached data found for _extended_timing_data. Loading data...\n",
      "_api           INFO \tFetching timing data...\n",
      "_api           INFO \tParsing timing data...\n",
      "req            INFO \tData has been written to cache!\n",
      "req            INFO \tNo cached data found for timing_app_data. Loading data...\n",
      "_api           INFO \tFetching timing app data...\n",
      "req            INFO \tData has been written to cache!\n",
      "core           INFO \tProcessing timing data...\n",
      "req            INFO \tNo cached data found for weather_data. Loading data...\n",
      "_api           INFO \tFetching weather data...\n",
      "req            INFO \tData has been written to cache!\n",
      "req            INFO \tNo cached data found for race_control_messages. Loading data...\n",
      "_api           INFO \tFetching race control messages...\n",
      "req            INFO \tData has been written to cache!\n",
      "core           INFO \tFinished loading data for 20 drivers: ['1', '4', '44', '63', '16', '55', '81', '11', '10', '31', '27', '14', '24', '18', '3', '77', '20', '23', '22', '2']\n"
     ]
    },
    {
     "name": "stdout",
     "output_type": "stream",
     "text": [
      "{'Meeting': {'Key': 1238, 'Name': 'Spanish Grand Prix', 'OfficialName': 'FORMULA 1 ARAMCO GRAN PREMIO DE ESPAÑA 2024', 'Location': 'Barcelona', 'Country': {'Key': 1, 'Code': 'ESP', 'Name': 'Spain'}, 'Circuit': {'Key': 15, 'ShortName': 'Catalunya'}}, 'ArchiveStatus': {'Status': 'Generating'}, 'Key': 9539, 'Type': 'Race', 'Name': 'Race', 'StartDate': datetime.datetime(2024, 6, 23, 15, 0), 'EndDate': datetime.datetime(2024, 6, 23, 17, 0), 'GmtOffset': datetime.timedelta(seconds=7200), 'Path': '2024/2024-06-23_Spanish_Grand_Prix/2024-06-23_Race/'}\n"
     ]
    },
    {
     "name": "stderr",
     "output_type": "stream",
     "text": [
      "core           INFO \tLoading data for Austrian Grand Prix - Race [v3.4.4]\n",
      "req            INFO \tNo cached data found for session_info. Loading data...\n",
      "_api           INFO \tFetching session info data...\n",
      "req            INFO \tData has been written to cache!\n",
      "req            INFO \tNo cached data found for driver_info. Loading data...\n",
      "_api           INFO \tFetching driver list...\n",
      "req            INFO \tData has been written to cache!\n",
      "logger      WARNING \tFailed to load result data from Ergast!\n",
      "core        WARNING \tNo result data for this session available on Ergast! (This is expected for recent sessions)\n",
      "req            INFO \tNo cached data found for session_status_data. Loading data...\n",
      "_api           INFO \tFetching session status data...\n",
      "req            INFO \tData has been written to cache!\n",
      "req            INFO \tNo cached data found for lap_count. Loading data...\n",
      "_api           INFO \tFetching lap count data...\n",
      "req            INFO \tData has been written to cache!\n",
      "req            INFO \tNo cached data found for track_status_data. Loading data...\n",
      "_api           INFO \tFetching track status data...\n",
      "req            INFO \tData has been written to cache!\n",
      "req            INFO \tNo cached data found for _extended_timing_data. Loading data...\n",
      "_api           INFO \tFetching timing data...\n",
      "_api           INFO \tParsing timing data...\n",
      "req            INFO \tData has been written to cache!\n",
      "req            INFO \tNo cached data found for timing_app_data. Loading data...\n",
      "_api           INFO \tFetching timing app data...\n",
      "req            INFO \tData has been written to cache!\n",
      "core           INFO \tProcessing timing data...\n",
      "req            INFO \tNo cached data found for weather_data. Loading data...\n",
      "_api           INFO \tFetching weather data...\n",
      "req            INFO \tData has been written to cache!\n",
      "req            INFO \tNo cached data found for race_control_messages. Loading data...\n",
      "_api           INFO \tFetching race control messages...\n",
      "req            INFO \tData has been written to cache!\n",
      "core           INFO \tFinished loading data for 20 drivers: ['1', '4', '63', '55', '44', '16', '81', '11', '27', '31', '3', '20', '10', '22', '14', '23', '18', '77', '2', '24']\n"
     ]
    },
    {
     "name": "stdout",
     "output_type": "stream",
     "text": [
      "{'Meeting': {'Key': 1239, 'Name': 'Austrian Grand Prix', 'OfficialName': 'FORMULA 1 QATAR AIRWAYS AUSTRIAN GRAND PRIX 2024', 'Location': 'Spielberg', 'Country': {'Key': 17, 'Code': 'AUT', 'Name': 'Austria'}, 'Circuit': {'Key': 19, 'ShortName': 'Spielberg'}}, 'ArchiveStatus': {'Status': 'Generating'}, 'Key': 9550, 'Type': 'Race', 'Name': 'Race', 'StartDate': datetime.datetime(2024, 6, 30, 15, 0), 'EndDate': datetime.datetime(2024, 6, 30, 17, 0), 'GmtOffset': datetime.timedelta(seconds=7200), 'Path': '2024/2024-06-30_Austrian_Grand_Prix/2024-06-30_Race/'}\n"
     ]
    },
    {
     "name": "stderr",
     "output_type": "stream",
     "text": [
      "core           INFO \tLoading data for British Grand Prix - Race [v3.4.4]\n",
      "req            INFO \tNo cached data found for session_info. Loading data...\n",
      "_api           INFO \tFetching session info data...\n",
      "req            INFO \tData has been written to cache!\n",
      "req            INFO \tNo cached data found for driver_info. Loading data...\n",
      "_api           INFO \tFetching driver list...\n",
      "req            INFO \tData has been written to cache!\n",
      "req            INFO \tNo cached data found for session_status_data. Loading data...\n",
      "_api           INFO \tFetching session status data...\n",
      "req            INFO \tData has been written to cache!\n",
      "req            INFO \tNo cached data found for lap_count. Loading data...\n",
      "_api           INFO \tFetching lap count data...\n",
      "req            INFO \tData has been written to cache!\n",
      "req            INFO \tNo cached data found for track_status_data. Loading data...\n",
      "_api           INFO \tFetching track status data...\n",
      "req            INFO \tData has been written to cache!\n",
      "req            INFO \tNo cached data found for _extended_timing_data. Loading data...\n",
      "_api           INFO \tFetching timing data...\n",
      "_api           INFO \tParsing timing data...\n",
      "req            INFO \tData has been written to cache!\n",
      "req            INFO \tNo cached data found for timing_app_data. Loading data...\n",
      "_api           INFO \tFetching timing app data...\n",
      "req            INFO \tData has been written to cache!\n",
      "core           INFO \tProcessing timing data...\n",
      "req            INFO \tNo cached data found for weather_data. Loading data...\n",
      "_api           INFO \tFetching weather data...\n",
      "req            INFO \tData has been written to cache!\n",
      "req            INFO \tNo cached data found for race_control_messages. Loading data...\n",
      "_api           INFO \tFetching race control messages...\n",
      "req            INFO \tData has been written to cache!\n",
      "core           INFO \tFinished loading data for 20 drivers: ['44', '1', '4', '81', '55', '27', '18', '14', '23', '22', '2', '20', '3', '16', '77', '31', '11', '24', '63', '10']\n"
     ]
    },
    {
     "name": "stdout",
     "output_type": "stream",
     "text": [
      "{'Meeting': {'Key': 1240, 'Name': 'British Grand Prix', 'OfficialName': 'FORMULA 1 QATAR AIRWAYS BRITISH GRAND PRIX 2024', 'Location': 'Silverstone', 'Country': {'Key': 2, 'Code': 'GBR', 'Name': 'Great Britain'}, 'Circuit': {'Key': 2, 'ShortName': 'Silverstone'}}, 'ArchiveStatus': {'Status': 'Generating'}, 'Key': 9558, 'Type': 'Race', 'Name': 'Race', 'StartDate': datetime.datetime(2024, 7, 7, 15, 0), 'EndDate': datetime.datetime(2024, 7, 7, 17, 0), 'GmtOffset': datetime.timedelta(seconds=3600), 'Path': '2024/2024-07-07_British_Grand_Prix/2024-07-07_Race/'}\n"
     ]
    },
    {
     "name": "stderr",
     "output_type": "stream",
     "text": [
      "core           INFO \tLoading data for Hungarian Grand Prix - Race [v3.4.4]\n",
      "req            INFO \tNo cached data found for session_info. Loading data...\n",
      "_api           INFO \tFetching session info data...\n",
      "req            INFO \tData has been written to cache!\n",
      "req            INFO \tNo cached data found for driver_info. Loading data...\n",
      "_api           INFO \tFetching driver list...\n",
      "req            INFO \tData has been written to cache!\n",
      "req            INFO \tNo cached data found for session_status_data. Loading data...\n",
      "_api           INFO \tFetching session status data...\n",
      "req            INFO \tData has been written to cache!\n",
      "req            INFO \tNo cached data found for lap_count. Loading data...\n",
      "_api           INFO \tFetching lap count data...\n",
      "req            INFO \tData has been written to cache!\n",
      "req            INFO \tNo cached data found for track_status_data. Loading data...\n",
      "_api           INFO \tFetching track status data...\n",
      "req            INFO \tData has been written to cache!\n",
      "req            INFO \tNo cached data found for _extended_timing_data. Loading data...\n",
      "_api           INFO \tFetching timing data...\n",
      "_api           INFO \tParsing timing data...\n",
      "req            INFO \tData has been written to cache!\n",
      "req            INFO \tNo cached data found for timing_app_data. Loading data...\n",
      "_api           INFO \tFetching timing app data...\n",
      "req            INFO \tData has been written to cache!\n",
      "core           INFO \tProcessing timing data...\n",
      "req            INFO \tNo cached data found for weather_data. Loading data...\n",
      "_api           INFO \tFetching weather data...\n",
      "req            INFO \tData has been written to cache!\n",
      "req            INFO \tNo cached data found for race_control_messages. Loading data...\n",
      "_api           INFO \tFetching race control messages...\n",
      "req            INFO \tData has been written to cache!\n",
      "core           INFO \tFinished loading data for 20 drivers: ['81', '4', '44', '16', '1', '55', '11', '63', '22', '18', '14', '3', '27', '23', '20', '77', '2', '31', '24', '10']\n"
     ]
    },
    {
     "name": "stdout",
     "output_type": "stream",
     "text": [
      "{'Meeting': {'Key': 1241, 'Name': 'Hungarian Grand Prix', 'OfficialName': 'FORMULA 1 HUNGARIAN GRAND PRIX 2024', 'Location': 'Budapest', 'Country': {'Key': 14, 'Code': 'HUN', 'Name': 'Hungary'}, 'Circuit': {'Key': 4, 'ShortName': 'Hungaroring'}}, 'ArchiveStatus': {'Status': 'Generating'}, 'Key': 9566, 'Type': 'Race', 'Name': 'Race', 'StartDate': datetime.datetime(2024, 7, 21, 15, 0), 'EndDate': datetime.datetime(2024, 7, 21, 17, 0), 'GmtOffset': datetime.timedelta(seconds=7200), 'Path': '2024/2024-07-21_Hungarian_Grand_Prix/2024-07-21_Race/'}\n"
     ]
    },
    {
     "name": "stderr",
     "output_type": "stream",
     "text": [
      "core           INFO \tLoading data for Belgian Grand Prix - Race [v3.4.4]\n",
      "req            INFO \tNo cached data found for session_info. Loading data...\n",
      "_api           INFO \tFetching session info data...\n",
      "req            INFO \tData has been written to cache!\n",
      "req            INFO \tNo cached data found for driver_info. Loading data...\n",
      "_api           INFO \tFetching driver list...\n",
      "req            INFO \tData has been written to cache!\n",
      "req            INFO \tNo cached data found for session_status_data. Loading data...\n",
      "_api           INFO \tFetching session status data...\n",
      "req            INFO \tData has been written to cache!\n",
      "req            INFO \tNo cached data found for lap_count. Loading data...\n",
      "_api           INFO \tFetching lap count data...\n",
      "req            INFO \tData has been written to cache!\n",
      "req            INFO \tNo cached data found for track_status_data. Loading data...\n",
      "_api           INFO \tFetching track status data...\n",
      "req            INFO \tData has been written to cache!\n",
      "req            INFO \tNo cached data found for _extended_timing_data. Loading data...\n",
      "_api           INFO \tFetching timing data...\n",
      "_api           INFO \tParsing timing data...\n",
      "req            INFO \tData has been written to cache!\n",
      "req            INFO \tNo cached data found for timing_app_data. Loading data...\n",
      "_api           INFO \tFetching timing app data...\n",
      "req            INFO \tData has been written to cache!\n",
      "core           INFO \tProcessing timing data...\n",
      "req            INFO \tNo cached data found for weather_data. Loading data...\n",
      "_api           INFO \tFetching weather data...\n",
      "req            INFO \tData has been written to cache!\n",
      "req            INFO \tNo cached data found for race_control_messages. Loading data...\n",
      "_api           INFO \tFetching race control messages...\n",
      "req            INFO \tData has been written to cache!\n",
      "core           INFO \tFinished loading data for 20 drivers: ['44', '81', '16', '1', '4', '55', '11', '14', '31', '3', '18', '23', '10', '20', '77', '22', '2', '27', '24', '63']\n"
     ]
    },
    {
     "name": "stdout",
     "output_type": "stream",
     "text": [
      "{'Meeting': {'Key': 1242, 'Name': 'Belgian Grand Prix', 'OfficialName': 'FORMULA 1 ROLEX BELGIAN GRAND PRIX 2024', 'Location': 'Spa-Francorchamps', 'Country': {'Key': 16, 'Code': 'BEL', 'Name': 'Belgium'}, 'Circuit': {'Key': 7, 'ShortName': 'Spa-Francorchamps'}}, 'ArchiveStatus': {'Status': 'Generating'}, 'Key': 9574, 'Type': 'Race', 'Name': 'Race', 'StartDate': datetime.datetime(2024, 7, 28, 15, 0), 'EndDate': datetime.datetime(2024, 7, 28, 17, 0), 'GmtOffset': datetime.timedelta(seconds=7200), 'Path': '2024/2024-07-28_Belgian_Grand_Prix/2024-07-28_Race/'}\n"
     ]
    },
    {
     "name": "stderr",
     "output_type": "stream",
     "text": [
      "core           INFO \tLoading data for Dutch Grand Prix - Race [v3.4.4]\n",
      "req            INFO \tNo cached data found for session_info. Loading data...\n",
      "_api           INFO \tFetching session info data...\n",
      "req            INFO \tData has been written to cache!\n",
      "req            INFO \tNo cached data found for driver_info. Loading data...\n",
      "_api           INFO \tFetching driver list...\n",
      "req            INFO \tData has been written to cache!\n",
      "req            INFO \tNo cached data found for session_status_data. Loading data...\n",
      "_api           INFO \tFetching session status data...\n",
      "req            INFO \tData has been written to cache!\n",
      "req            INFO \tNo cached data found for lap_count. Loading data...\n",
      "_api           INFO \tFetching lap count data...\n",
      "req            INFO \tData has been written to cache!\n",
      "req            INFO \tNo cached data found for track_status_data. Loading data...\n",
      "_api           INFO \tFetching track status data...\n",
      "req            INFO \tData has been written to cache!\n",
      "req            INFO \tNo cached data found for _extended_timing_data. Loading data...\n",
      "_api           INFO \tFetching timing data...\n",
      "_api           INFO \tParsing timing data...\n",
      "req            INFO \tData has been written to cache!\n",
      "req            INFO \tNo cached data found for timing_app_data. Loading data...\n",
      "_api           INFO \tFetching timing app data...\n",
      "req            INFO \tData has been written to cache!\n",
      "core           INFO \tProcessing timing data...\n",
      "req            INFO \tNo cached data found for weather_data. Loading data...\n",
      "_api           INFO \tFetching weather data...\n",
      "req            INFO \tData has been written to cache!\n",
      "req            INFO \tNo cached data found for race_control_messages. Loading data...\n",
      "_api           INFO \tFetching race control messages...\n",
      "req            INFO \tData has been written to cache!\n",
      "core           INFO \tFinished loading data for 20 drivers: ['4', '1', '16', '81', '55', '11', '63', '44', '10', '14', '27', '3', '18', '23', '31', '2', '22', '20', '77', '24']\n"
     ]
    },
    {
     "name": "stdout",
     "output_type": "stream",
     "text": [
      "{'Meeting': {'Key': 1243, 'Name': 'Dutch Grand Prix', 'OfficialName': 'FORMULA 1 HEINEKEN DUTCH GRAND PRIX 2024', 'Location': 'Zandvoort', 'Country': {'Key': 133, 'Code': 'NED', 'Name': 'Netherlands'}, 'Circuit': {'Key': 55, 'ShortName': 'Zandvoort'}}, 'ArchiveStatus': {'Status': 'Generating'}, 'Key': 9582, 'Type': 'Race', 'Name': 'Race', 'StartDate': datetime.datetime(2024, 8, 25, 15, 0), 'EndDate': datetime.datetime(2024, 8, 25, 17, 0), 'GmtOffset': datetime.timedelta(seconds=7200), 'Path': '2024/2024-08-25_Dutch_Grand_Prix/2024-08-25_Race/'}\n"
     ]
    },
    {
     "name": "stderr",
     "output_type": "stream",
     "text": [
      "core           INFO \tLoading data for Italian Grand Prix - Race [v3.4.4]\n",
      "req            INFO \tNo cached data found for session_info. Loading data...\n",
      "_api           INFO \tFetching session info data...\n",
      "req            INFO \tData has been written to cache!\n",
      "req            INFO \tNo cached data found for driver_info. Loading data...\n",
      "_api           INFO \tFetching driver list...\n",
      "req            INFO \tData has been written to cache!\n",
      "logger      WARNING \tFailed to load result data from Ergast!\n",
      "core        WARNING \tNo result data for this session available on Ergast! (This is expected for recent sessions)\n",
      "req            INFO \tNo cached data found for session_status_data. Loading data...\n",
      "_api           INFO \tFetching session status data...\n",
      "req            INFO \tData has been written to cache!\n",
      "req            INFO \tNo cached data found for lap_count. Loading data...\n",
      "_api           INFO \tFetching lap count data...\n",
      "req            INFO \tData has been written to cache!\n",
      "req            INFO \tNo cached data found for track_status_data. Loading data...\n",
      "_api           INFO \tFetching track status data...\n",
      "req            INFO \tData has been written to cache!\n",
      "req            INFO \tNo cached data found for _extended_timing_data. Loading data...\n",
      "_api           INFO \tFetching timing data...\n",
      "_api           INFO \tParsing timing data...\n",
      "req            INFO \tData has been written to cache!\n",
      "req            INFO \tNo cached data found for timing_app_data. Loading data...\n",
      "_api           INFO \tFetching timing app data...\n",
      "req            INFO \tData has been written to cache!\n",
      "core           INFO \tProcessing timing data...\n",
      "req            INFO \tNo cached data found for weather_data. Loading data...\n",
      "_api           INFO \tFetching weather data...\n",
      "req            INFO \tData has been written to cache!\n",
      "req            INFO \tNo cached data found for race_control_messages. Loading data...\n",
      "_api           INFO \tFetching race control messages...\n",
      "req            INFO \tData has been written to cache!\n",
      "core           INFO \tFinished loading data for 20 drivers: ['4', '81', '63', '16', '55', '44', '1', '11', '23', '27', '14', '3', '20', '10', '31', '22', '18', '43', '77', '24']\n"
     ]
    },
    {
     "name": "stdout",
     "output_type": "stream",
     "text": [
      "{'Meeting': {'Key': 1244, 'Name': 'Italian Grand Prix', 'OfficialName': 'FORMULA 1 PIRELLI GRAN PREMIO D’ITALIA 2024', 'Location': 'Monza', 'Country': {'Key': 13, 'Code': 'ITA', 'Name': 'Italy'}, 'Circuit': {'Key': 39, 'ShortName': 'Monza'}}, 'ArchiveStatus': {'Status': 'Generating'}, 'Key': 9590, 'Type': 'Race', 'Name': 'Race', 'StartDate': datetime.datetime(2024, 9, 1, 15, 0), 'EndDate': datetime.datetime(2024, 9, 1, 17, 0), 'GmtOffset': datetime.timedelta(seconds=7200), 'Path': '2024/2024-09-01_Italian_Grand_Prix/2024-09-01_Race/'}\n"
     ]
    },
    {
     "name": "stderr",
     "output_type": "stream",
     "text": [
      "core           INFO \tLoading data for Azerbaijan Grand Prix - Race [v3.4.4]\n",
      "req            INFO \tNo cached data found for session_info. Loading data...\n",
      "_api           INFO \tFetching session info data...\n",
      "req            INFO \tData has been written to cache!\n",
      "req            INFO \tNo cached data found for driver_info. Loading data...\n",
      "_api           INFO \tFetching driver list...\n",
      "req            INFO \tData has been written to cache!\n",
      "req            INFO \tNo cached data found for session_status_data. Loading data...\n",
      "_api           INFO \tFetching session status data...\n",
      "req            INFO \tData has been written to cache!\n",
      "req            INFO \tNo cached data found for lap_count. Loading data...\n",
      "_api           INFO \tFetching lap count data...\n",
      "req            INFO \tData has been written to cache!\n",
      "req            INFO \tNo cached data found for track_status_data. Loading data...\n",
      "_api           INFO \tFetching track status data...\n",
      "req            INFO \tData has been written to cache!\n",
      "req            INFO \tNo cached data found for _extended_timing_data. Loading data...\n",
      "_api           INFO \tFetching timing data...\n",
      "_api           INFO \tParsing timing data...\n",
      "req            INFO \tData has been written to cache!\n",
      "req            INFO \tNo cached data found for timing_app_data. Loading data...\n",
      "_api           INFO \tFetching timing app data...\n",
      "req            INFO \tData has been written to cache!\n",
      "core           INFO \tProcessing timing data...\n",
      "req            INFO \tNo cached data found for weather_data. Loading data...\n",
      "_api           INFO \tFetching weather data...\n",
      "req            INFO \tData has been written to cache!\n",
      "req            INFO \tNo cached data found for race_control_messages. Loading data...\n",
      "_api           INFO \tFetching race control messages...\n",
      "req            INFO \tData has been written to cache!\n",
      "core           INFO \tFinished loading data for 20 drivers: ['81', '16', '63', '4', '1', '14', '23', '43', '44', '50', '27', '10', '3', '24', '31', '77', '11', '55', '18', '22']\n"
     ]
    },
    {
     "name": "stdout",
     "output_type": "stream",
     "text": [
      "{'Meeting': {'Key': 1245, 'Name': 'Azerbaijan Grand Prix', 'OfficialName': 'FORMULA 1 QATAR AIRWAYS AZERBAIJAN GRAND PRIX 2024', 'Location': 'Baku', 'Country': {'Key': 30, 'Code': 'AZE', 'Name': 'Azerbaijan'}, 'Circuit': {'Key': 144, 'ShortName': 'Baku'}}, 'ArchiveStatus': {'Status': 'Generating'}, 'Key': 9598, 'Type': 'Race', 'Name': 'Race', 'StartDate': datetime.datetime(2024, 9, 15, 15, 0), 'EndDate': datetime.datetime(2024, 9, 15, 17, 0), 'GmtOffset': datetime.timedelta(seconds=14400), 'Path': '2024/2024-09-15_Azerbaijan_Grand_Prix/2024-09-15_Race/'}\n"
     ]
    },
    {
     "name": "stderr",
     "output_type": "stream",
     "text": [
      "core           INFO \tLoading data for Singapore Grand Prix - Race [v3.4.4]\n",
      "req            INFO \tNo cached data found for session_info. Loading data...\n",
      "_api           INFO \tFetching session info data...\n",
      "req            INFO \tData has been written to cache!\n",
      "req            INFO \tNo cached data found for driver_info. Loading data...\n",
      "_api           INFO \tFetching driver list...\n",
      "req            INFO \tData has been written to cache!\n",
      "req            INFO \tNo cached data found for session_status_data. Loading data...\n",
      "_api           INFO \tFetching session status data...\n",
      "req            INFO \tData has been written to cache!\n",
      "req            INFO \tNo cached data found for lap_count. Loading data...\n",
      "_api           INFO \tFetching lap count data...\n",
      "req            INFO \tData has been written to cache!\n",
      "req            INFO \tNo cached data found for track_status_data. Loading data...\n",
      "_api           INFO \tFetching track status data...\n",
      "req            INFO \tData has been written to cache!\n",
      "req            INFO \tNo cached data found for _extended_timing_data. Loading data...\n",
      "_api           INFO \tFetching timing data...\n",
      "_api           INFO \tParsing timing data...\n",
      "req            INFO \tData has been written to cache!\n",
      "req            INFO \tNo cached data found for timing_app_data. Loading data...\n",
      "_api           INFO \tFetching timing app data...\n",
      "req            INFO \tData has been written to cache!\n",
      "core           INFO \tProcessing timing data...\n",
      "req            INFO \tNo cached data found for weather_data. Loading data...\n",
      "_api           INFO \tFetching weather data...\n",
      "req            INFO \tData has been written to cache!\n",
      "req            INFO \tNo cached data found for race_control_messages. Loading data...\n",
      "_api           INFO \tFetching race control messages...\n",
      "req            INFO \tData has been written to cache!\n",
      "core           INFO \tFinished loading data for 20 drivers: ['4', '1', '81', '63', '16', '44', '55', '14', '27', '11', '43', '22', '31', '18', '24', '77', '10', '3', '20', '23']\n"
     ]
    },
    {
     "name": "stdout",
     "output_type": "stream",
     "text": [
      "{'Meeting': {'Key': 1246, 'Name': 'Singapore Grand Prix', 'OfficialName': 'FORMULA 1 SINGAPORE AIRLINES SINGAPORE GRAND PRIX 2024', 'Location': 'Marina Bay', 'Country': {'Key': 157, 'Code': 'SGP', 'Name': 'Singapore'}, 'Circuit': {'Key': 61, 'ShortName': 'Singapore'}}, 'ArchiveStatus': {'Status': 'Generating'}, 'Key': 9606, 'Type': 'Race', 'Name': 'Race', 'StartDate': datetime.datetime(2024, 9, 22, 20, 0), 'EndDate': datetime.datetime(2024, 9, 22, 22, 0), 'GmtOffset': datetime.timedelta(seconds=28800), 'Path': '2024/2024-09-22_Singapore_Grand_Prix/2024-09-22_Race/'}\n"
     ]
    },
    {
     "name": "stderr",
     "output_type": "stream",
     "text": [
      "core           INFO \tLoading data for United States Grand Prix - Race [v3.4.4]\n",
      "req            INFO \tNo cached data found for session_info. Loading data...\n",
      "_api           INFO \tFetching session info data...\n",
      "req            INFO \tData has been written to cache!\n",
      "req            INFO \tNo cached data found for driver_info. Loading data...\n",
      "_api           INFO \tFetching driver list...\n",
      "req            INFO \tData has been written to cache!\n",
      "req            INFO \tNo cached data found for session_status_data. Loading data...\n",
      "_api           INFO \tFetching session status data...\n",
      "req            INFO \tData has been written to cache!\n",
      "req            INFO \tNo cached data found for lap_count. Loading data...\n",
      "_api           INFO \tFetching lap count data...\n",
      "req            INFO \tData has been written to cache!\n",
      "req            INFO \tNo cached data found for track_status_data. Loading data...\n",
      "_api           INFO \tFetching track status data...\n",
      "req            INFO \tData has been written to cache!\n",
      "req            INFO \tNo cached data found for _extended_timing_data. Loading data...\n",
      "_api           INFO \tFetching timing data...\n",
      "_api           INFO \tParsing timing data...\n",
      "_api        WARNING \tSkipping lap alignment (no suitable lap)!\n",
      "req            INFO \tData has been written to cache!\n",
      "req            INFO \tNo cached data found for timing_app_data. Loading data...\n",
      "_api           INFO \tFetching timing app data...\n",
      "req            INFO \tData has been written to cache!\n",
      "core           INFO \tProcessing timing data...\n",
      "req            INFO \tNo cached data found for weather_data. Loading data...\n",
      "_api           INFO \tFetching weather data...\n",
      "req            INFO \tData has been written to cache!\n",
      "req            INFO \tNo cached data found for race_control_messages. Loading data...\n",
      "_api           INFO \tFetching race control messages...\n",
      "req            INFO \tData has been written to cache!\n",
      "core           INFO \tFinished loading data for 20 drivers: ['16', '55', '1', '4', '81', '63', '11', '27', '30', '43', '20', '10', '14', '22', '18', '23', '77', '31', '24', '44']\n"
     ]
    },
    {
     "name": "stdout",
     "output_type": "stream",
     "text": [
      "{'Meeting': {'Key': 1247, 'Name': 'United States Grand Prix', 'OfficialName': 'FORMULA 1 PIRELLI UNITED STATES GRAND PRIX 2024', 'Location': 'Austin', 'Number': 19, 'Country': {'Key': 19, 'Code': 'USA', 'Name': 'United States'}, 'Circuit': {'Key': 9, 'ShortName': 'Austin'}}, 'ArchiveStatus': {'Status': 'Generating'}, 'Key': 9617, 'Type': 'Race', 'Name': 'Race', 'StartDate': datetime.datetime(2024, 10, 20, 14, 0), 'EndDate': datetime.datetime(2024, 10, 20, 16, 0), 'GmtOffset': datetime.timedelta(days=-1, seconds=68400), 'Path': '2024/2024-10-20_United_States_Grand_Prix/2024-10-20_Race/'}\n"
     ]
    },
    {
     "name": "stderr",
     "output_type": "stream",
     "text": [
      "core           INFO \tLoading data for Mexico City Grand Prix - Race [v3.4.4]\n",
      "req            INFO \tNo cached data found for session_info. Loading data...\n",
      "_api           INFO \tFetching session info data...\n",
      "req            INFO \tData has been written to cache!\n",
      "req            INFO \tNo cached data found for driver_info. Loading data...\n",
      "_api           INFO \tFetching driver list...\n",
      "req            INFO \tData has been written to cache!\n",
      "req            INFO \tNo cached data found for session_status_data. Loading data...\n",
      "_api           INFO \tFetching session status data...\n",
      "req            INFO \tData has been written to cache!\n",
      "req            INFO \tNo cached data found for lap_count. Loading data...\n",
      "_api           INFO \tFetching lap count data...\n",
      "req            INFO \tData has been written to cache!\n",
      "req            INFO \tNo cached data found for track_status_data. Loading data...\n",
      "_api           INFO \tFetching track status data...\n",
      "req            INFO \tData has been written to cache!\n",
      "req            INFO \tNo cached data found for _extended_timing_data. Loading data...\n",
      "_api           INFO \tFetching timing data...\n",
      "_api           INFO \tParsing timing data...\n",
      "req            INFO \tData has been written to cache!\n",
      "req            INFO \tNo cached data found for timing_app_data. Loading data...\n",
      "_api           INFO \tFetching timing app data...\n",
      "req            INFO \tData has been written to cache!\n",
      "core           INFO \tProcessing timing data...\n",
      "req            INFO \tNo cached data found for weather_data. Loading data...\n",
      "_api           INFO \tFetching weather data...\n",
      "req            INFO \tData has been written to cache!\n",
      "req            INFO \tNo cached data found for race_control_messages. Loading data...\n",
      "_api           INFO \tFetching race control messages...\n",
      "req            INFO \tData has been written to cache!\n",
      "core           INFO \tFinished loading data for 20 drivers: ['55', '4', '16', '44', '63', '1', '20', '81', '27', '10', '18', '43', '31', '77', '24', '30', '11', '14', '23', '22']\n"
     ]
    },
    {
     "name": "stdout",
     "output_type": "stream",
     "text": [
      "{'Meeting': {'Key': 1248, 'Name': 'Mexico City Grand Prix', 'OfficialName': 'FORMULA 1 GRAN PREMIO DE LA CIUDAD DE MÉXICO 2024', 'Location': 'Mexico City', 'Number': 20, 'Country': {'Key': 8, 'Code': 'MEX', 'Name': 'Mexico'}, 'Circuit': {'Key': 65, 'ShortName': 'Mexico City'}}, 'ArchiveStatus': {'Status': 'Generating'}, 'Key': 9625, 'Type': 'Race', 'Name': 'Race', 'StartDate': datetime.datetime(2024, 10, 27, 14, 0), 'EndDate': datetime.datetime(2024, 10, 27, 16, 0), 'GmtOffset': datetime.timedelta(days=-1, seconds=64800), 'Path': '2024/2024-10-27_Mexico_City_Grand_Prix/2024-10-27_Race/'}\n"
     ]
    },
    {
     "name": "stderr",
     "output_type": "stream",
     "text": [
      "core           INFO \tLoading data for São Paulo Grand Prix - Race [v3.4.4]\n",
      "req            INFO \tNo cached data found for session_info. Loading data...\n",
      "_api           INFO \tFetching session info data...\n",
      "req            INFO \tData has been written to cache!\n",
      "req            INFO \tNo cached data found for driver_info. Loading data...\n",
      "_api           INFO \tFetching driver list...\n",
      "req            INFO \tData has been written to cache!\n",
      "req            INFO \tNo cached data found for session_status_data. Loading data...\n",
      "_api           INFO \tFetching session status data...\n",
      "req            INFO \tData has been written to cache!\n",
      "req            INFO \tNo cached data found for lap_count. Loading data...\n",
      "_api           INFO \tFetching lap count data...\n",
      "req            INFO \tData has been written to cache!\n",
      "req            INFO \tNo cached data found for track_status_data. Loading data...\n",
      "_api           INFO \tFetching track status data...\n",
      "req            INFO \tData has been written to cache!\n",
      "req            INFO \tNo cached data found for _extended_timing_data. Loading data...\n",
      "_api           INFO \tFetching timing data...\n",
      "_api           INFO \tParsing timing data...\n",
      "req            INFO \tData has been written to cache!\n",
      "req            INFO \tNo cached data found for timing_app_data. Loading data...\n",
      "_api           INFO \tFetching timing app data...\n",
      "req            INFO \tData has been written to cache!\n",
      "core           INFO \tProcessing timing data...\n",
      "core        WARNING \tNo lap data for driver 23\n",
      "core        WARNING \tFailed to perform lap accuracy check - all laps marked as inaccurate (driver 23)\n",
      "logger      WARNING \tFailed to add first lap time from Ergast!\n",
      "req            INFO \tNo cached data found for weather_data. Loading data...\n",
      "_api           INFO \tFetching weather data...\n",
      "req            INFO \tData has been written to cache!\n",
      "req            INFO \tNo cached data found for race_control_messages. Loading data...\n",
      "_api           INFO \tFetching race control messages...\n",
      "req            INFO \tData has been written to cache!\n",
      "core           INFO \tFinished loading data for 20 drivers: ['1', '31', '10', '63', '16', '4', '22', '81', '30', '44', '11', '50', '77', '14', '24', '55', '43', '23', '18', '27']\n"
     ]
    },
    {
     "name": "stdout",
     "output_type": "stream",
     "text": [
      "{'Meeting': {'Key': 1249, 'Name': 'São Paulo Grand Prix', 'OfficialName': 'FORMULA 1 LENOVO GRANDE PRÊMIO DE SÃO PAULO 2024', 'Location': 'São Paulo', 'Number': 21, 'Country': {'Key': 10, 'Code': 'BRA', 'Name': 'Brazil'}, 'Circuit': {'Key': 14, 'ShortName': 'Interlagos'}}, 'ArchiveStatus': {'Status': 'Generating'}, 'Key': 9636, 'Type': 'Race', 'Name': 'Race', 'StartDate': datetime.datetime(2024, 11, 3, 12, 30), 'EndDate': datetime.datetime(2024, 11, 3, 14, 30), 'GmtOffset': datetime.timedelta(days=-1, seconds=75600), 'Path': '2024/2024-11-03_São_Paulo_Grand_Prix/2024-11-03_Race/'}\n"
     ]
    },
    {
     "name": "stderr",
     "output_type": "stream",
     "text": [
      "core           INFO \tLoading data for Las Vegas Grand Prix - Race [v3.4.4]\n",
      "req            INFO \tNo cached data found for session_info. Loading data...\n",
      "_api           INFO \tFetching session info data...\n",
      "req            INFO \tData has been written to cache!\n",
      "req            INFO \tNo cached data found for driver_info. Loading data...\n",
      "_api           INFO \tFetching driver list...\n",
      "req            INFO \tData has been written to cache!\n",
      "logger      WARNING \tFailed to load result data from Ergast!\n",
      "core        WARNING \tNo result data for this session available on Ergast! (This is expected for recent sessions)\n",
      "req            INFO \tNo cached data found for session_status_data. Loading data...\n",
      "_api           INFO \tFetching session status data...\n",
      "req            INFO \tData has been written to cache!\n",
      "req            INFO \tNo cached data found for lap_count. Loading data...\n",
      "_api           INFO \tFetching lap count data...\n",
      "req            INFO \tData has been written to cache!\n",
      "req            INFO \tNo cached data found for track_status_data. Loading data...\n",
      "_api           INFO \tFetching track status data...\n",
      "req            INFO \tData has been written to cache!\n",
      "req            INFO \tNo cached data found for _extended_timing_data. Loading data...\n",
      "_api           INFO \tFetching timing data...\n",
      "_api           INFO \tParsing timing data...\n",
      "req            INFO \tData has been written to cache!\n",
      "req            INFO \tNo cached data found for timing_app_data. Loading data...\n",
      "_api           INFO \tFetching timing app data...\n",
      "req            INFO \tData has been written to cache!\n",
      "core           INFO \tProcessing timing data...\n",
      "core        WARNING \tDriver 63: Lap timing integrity check failed for 2 lap(s)\n",
      "core        WARNING \tDriver 55: Lap timing integrity check failed for 1 lap(s)\n",
      "core        WARNING \tDriver 16: Lap timing integrity check failed for 2 lap(s)\n",
      "core        WARNING \tDriver  1: Lap timing integrity check failed for 1 lap(s)\n",
      "core        WARNING \tDriver  4: Lap timing integrity check failed for 1 lap(s)\n",
      "core        WARNING \tDriver 81: Lap timing integrity check failed for 1 lap(s)\n",
      "core        WARNING \tDriver 44: Lap timing integrity check failed for 1 lap(s)\n",
      "core        WARNING \tDriver 30: Lap timing integrity check failed for 2 lap(s)\n",
      "core        WARNING \tDriver 77: Lap timing integrity check failed for 2 lap(s)\n",
      "logger      WARNING \tFailed to add first lap time from Ergast!\n",
      "req            INFO \tNo cached data found for weather_data. Loading data...\n",
      "_api           INFO \tFetching weather data...\n",
      "req            INFO \tData has been written to cache!\n",
      "req            INFO \tNo cached data found for race_control_messages. Loading data...\n",
      "_api           INFO \tFetching race control messages...\n",
      "logger      WARNING \tFailed to load race control messages!\n",
      "core           INFO \tFinished loading data for 20 drivers: ['63', '55', '10', '16', '1', '4', '22', '81', '27', '44', '31', '20', '24', '30', '11', '14', '23', '18', '77', '43']\n"
     ]
    },
    {
     "name": "stdout",
     "output_type": "stream",
     "text": [
      "{'Meeting': {'Key': 1250, 'Name': 'Las Vegas Grand Prix', 'OfficialName': 'FORMULA 1 HEINEKEN SILVER LAS VEGAS GRAND PRIX 2024', 'Location': 'Las Vegas', 'Number': 22, 'Country': {'Key': 19, 'Code': 'USA', 'Name': 'United States'}, 'Circuit': {'Key': 152, 'ShortName': 'Las Vegas'}}, 'ArchiveStatus': {'Status': 'Generating'}, 'Key': 9644, 'Type': 'Race', 'Name': 'Race', 'StartDate': datetime.datetime(2024, 11, 23, 22, 0), 'EndDate': datetime.datetime(2024, 11, 24, 0, 0), 'GmtOffset': datetime.timedelta(days=-1, seconds=57600), 'Path': '2024/2024-11-23_Las_Vegas_Grand_Prix/2024-11-23_Race/'}\n"
     ]
    },
    {
     "name": "stderr",
     "output_type": "stream",
     "text": [
      "core           INFO \tLoading data for Qatar Grand Prix - Race [v3.4.4]\n",
      "req            INFO \tUsing cached data for session_info\n",
      "req            INFO \tUsing cached data for driver_info\n",
      "Request for URL https://ergast.com/api/f1/2024/23/results.json failed; using cached response\n",
      "Traceback (most recent call last):\n",
      "  File \"C:\\Users\\abhir\\py312-venv\\Lib\\site-packages\\requests_cache\\session.py\", line 286, in _resend\n",
      "    response = self._send_and_cache(request, actions, cached_response, **kwargs)\n",
      "               ^^^^^^^^^^^^^^^^^^^^^^^^^^^^^^^^^^^^^^^^^^^^^^^^^^^^^^^^^^^^^^^^^\n",
      "  File \"C:\\Users\\abhir\\py312-venv\\Lib\\site-packages\\requests_cache\\session.py\", line 254, in _send_and_cache\n",
      "    response = super().send(request, **kwargs)\n",
      "               ^^^^^^^^^^^^^^^^^^^^^^^^^^^^^^^\n",
      "  File \"C:\\Users\\abhir\\py312-venv\\Lib\\site-packages\\fastf1\\req.py\", line 134, in send\n",
      "    lim.limit()\n",
      "  File \"C:\\Users\\abhir\\py312-venv\\Lib\\site-packages\\fastf1\\req.py\", line 104, in limit\n",
      "    raise RateLimitExceededError(self._info)\n",
      "fastf1.req.RateLimitExceededError: ergast.com: 200 calls/h\n",
      "req            INFO \tUsing cached data for session_status_data\n",
      "req            INFO \tUsing cached data for lap_count\n",
      "req            INFO \tUsing cached data for track_status_data\n",
      "req            INFO \tUsing cached data for _extended_timing_data\n",
      "req            INFO \tUsing cached data for timing_app_data\n",
      "core           INFO \tProcessing timing data...\n",
      "Request for URL https://ergast.com/api/f1/2024/23/laps/1.json failed; using cached response\n",
      "Traceback (most recent call last):\n",
      "  File \"C:\\Users\\abhir\\py312-venv\\Lib\\site-packages\\requests_cache\\session.py\", line 286, in _resend\n",
      "    response = self._send_and_cache(request, actions, cached_response, **kwargs)\n",
      "               ^^^^^^^^^^^^^^^^^^^^^^^^^^^^^^^^^^^^^^^^^^^^^^^^^^^^^^^^^^^^^^^^^\n",
      "  File \"C:\\Users\\abhir\\py312-venv\\Lib\\site-packages\\requests_cache\\session.py\", line 254, in _send_and_cache\n",
      "    response = super().send(request, **kwargs)\n",
      "               ^^^^^^^^^^^^^^^^^^^^^^^^^^^^^^^\n",
      "  File \"C:\\Users\\abhir\\py312-venv\\Lib\\site-packages\\fastf1\\req.py\", line 134, in send\n",
      "    lim.limit()\n",
      "  File \"C:\\Users\\abhir\\py312-venv\\Lib\\site-packages\\fastf1\\req.py\", line 104, in limit\n",
      "    raise RateLimitExceededError(self._info)\n",
      "fastf1.req.RateLimitExceededError: ergast.com: 200 calls/h\n",
      "req            INFO \tUsing cached data for weather_data\n",
      "req            INFO \tUsing cached data for race_control_messages\n",
      "core           INFO \tFinished loading data for 20 drivers: ['1', '16', '81', '63', '10', '55', '14', '24', '20', '4', '77', '44', '22', '30', '23', '27', '11', '18', '43', '31']\n"
     ]
    },
    {
     "name": "stdout",
     "output_type": "stream",
     "text": [
      "{'Meeting': {'Key': 1251, 'Name': 'Qatar Grand Prix', 'OfficialName': 'FORMULA 1 QATAR AIRWAYS QATAR GRAND PRIX 2024', 'Location': 'Lusail', 'Number': 23, 'Country': {'Key': 149, 'Code': 'QAT', 'Name': 'Qatar'}, 'Circuit': {'Key': 150, 'ShortName': 'Lusail'}}, 'ArchiveStatus': {'Status': 'Generating'}, 'Key': 9655, 'Type': 'Race', 'Name': 'Race', 'StartDate': datetime.datetime(2024, 12, 1, 19, 0), 'EndDate': datetime.datetime(2024, 12, 1, 21, 0), 'GmtOffset': datetime.timedelta(seconds=10800), 'Path': '2024/2024-12-01_Qatar_Grand_Prix/2024-12-01_Race/'}\n"
     ]
    }
   ],
   "source": [
    "# Define the range of years\n",
    "years = [2020, 2021, 2022, 2023, 2024]\n",
    "num_races_in_year = [17, 22, 22, 22, 24]\n",
    "years_dict = {years[i]: num_races_in_year[i] for i in range(len(years))}\n",
    "races = []\n",
    "for year, num_races in years_dict.items():\n",
    "    year_data = pd.concat(get_race_data(year, num_races))\n",
    "    year_data_cleaned = clean_data(year_data)\n",
    "    races.append(year_data_cleaned)\n",
    "races_data = pd.concat(races)"
   ]
  },
  {
   "cell_type": "code",
   "execution_count": 7,
   "id": "3c8630fc-58d1-4fd6-80dc-42f78a28b17c",
   "metadata": {},
   "outputs": [],
   "source": [
    "races_data_copy = races_data"
   ]
  },
  {
   "cell_type": "code",
   "execution_count": 12,
   "id": "c54d4c7b-b222-402e-85e1-c55589b9404c",
   "metadata": {},
   "outputs": [
    {
     "data": {
      "text/html": [
       "<div>\n",
       "<style scoped>\n",
       "    .dataframe tbody tr th:only-of-type {\n",
       "        vertical-align: middle;\n",
       "    }\n",
       "\n",
       "    .dataframe tbody tr th {\n",
       "        vertical-align: top;\n",
       "    }\n",
       "\n",
       "    .dataframe thead th {\n",
       "        text-align: right;\n",
       "    }\n",
       "</style>\n",
       "<table border=\"1\" class=\"dataframe\">\n",
       "  <thead>\n",
       "    <tr style=\"text-align: right;\">\n",
       "      <th></th>\n",
       "      <th>Time</th>\n",
       "      <th>Driver</th>\n",
       "      <th>DriverNumber</th>\n",
       "      <th>LapTime</th>\n",
       "      <th>LapNumber</th>\n",
       "      <th>Stint</th>\n",
       "      <th>Sector1Time</th>\n",
       "      <th>Sector2Time</th>\n",
       "      <th>Sector3Time</th>\n",
       "      <th>SpeedI1</th>\n",
       "      <th>...</th>\n",
       "      <th>Position</th>\n",
       "      <th>AirTemp</th>\n",
       "      <th>Humidity</th>\n",
       "      <th>Pressure</th>\n",
       "      <th>Rainfall</th>\n",
       "      <th>TrackTemp</th>\n",
       "      <th>WindDirection</th>\n",
       "      <th>WindSpeed</th>\n",
       "      <th>Year</th>\n",
       "      <th>Event</th>\n",
       "    </tr>\n",
       "  </thead>\n",
       "  <tbody>\n",
       "    <tr>\n",
       "      <th>1</th>\n",
       "      <td>2118.765</td>\n",
       "      <td>GAS</td>\n",
       "      <td>10</td>\n",
       "      <td>72.412</td>\n",
       "      <td>2.0</td>\n",
       "      <td>1.0</td>\n",
       "      <td>17.960</td>\n",
       "      <td>32.228</td>\n",
       "      <td>22.224</td>\n",
       "      <td>282.0</td>\n",
       "      <td>...</td>\n",
       "      <td>12.0</td>\n",
       "      <td>27.7</td>\n",
       "      <td>35.5</td>\n",
       "      <td>939.0</td>\n",
       "      <td>False</td>\n",
       "      <td>54.1</td>\n",
       "      <td>276</td>\n",
       "      <td>0.7</td>\n",
       "      <td>2020</td>\n",
       "      <td>Austrian Grand Prix</td>\n",
       "    </tr>\n",
       "    <tr>\n",
       "      <th>2</th>\n",
       "      <td>2190.076</td>\n",
       "      <td>GAS</td>\n",
       "      <td>10</td>\n",
       "      <td>71.311</td>\n",
       "      <td>3.0</td>\n",
       "      <td>1.0</td>\n",
       "      <td>17.513</td>\n",
       "      <td>31.717</td>\n",
       "      <td>22.081</td>\n",
       "      <td>307.0</td>\n",
       "      <td>...</td>\n",
       "      <td>12.0</td>\n",
       "      <td>28.1</td>\n",
       "      <td>35.6</td>\n",
       "      <td>939.0</td>\n",
       "      <td>False</td>\n",
       "      <td>54.0</td>\n",
       "      <td>156</td>\n",
       "      <td>1.7</td>\n",
       "      <td>2020</td>\n",
       "      <td>Austrian Grand Prix</td>\n",
       "    </tr>\n",
       "    <tr>\n",
       "      <th>3</th>\n",
       "      <td>2260.801</td>\n",
       "      <td>GAS</td>\n",
       "      <td>10</td>\n",
       "      <td>70.725</td>\n",
       "      <td>4.0</td>\n",
       "      <td>1.0</td>\n",
       "      <td>17.410</td>\n",
       "      <td>31.510</td>\n",
       "      <td>21.805</td>\n",
       "      <td>309.0</td>\n",
       "      <td>...</td>\n",
       "      <td>12.0</td>\n",
       "      <td>28.6</td>\n",
       "      <td>33.7</td>\n",
       "      <td>939.0</td>\n",
       "      <td>False</td>\n",
       "      <td>54.1</td>\n",
       "      <td>90</td>\n",
       "      <td>2.0</td>\n",
       "      <td>2020</td>\n",
       "      <td>Austrian Grand Prix</td>\n",
       "    </tr>\n",
       "    <tr>\n",
       "      <th>4</th>\n",
       "      <td>2332.312</td>\n",
       "      <td>GAS</td>\n",
       "      <td>10</td>\n",
       "      <td>71.511</td>\n",
       "      <td>5.0</td>\n",
       "      <td>1.0</td>\n",
       "      <td>17.464</td>\n",
       "      <td>31.827</td>\n",
       "      <td>22.220</td>\n",
       "      <td>303.0</td>\n",
       "      <td>...</td>\n",
       "      <td>12.0</td>\n",
       "      <td>28.9</td>\n",
       "      <td>32.8</td>\n",
       "      <td>938.9</td>\n",
       "      <td>False</td>\n",
       "      <td>54.7</td>\n",
       "      <td>87</td>\n",
       "      <td>3.1</td>\n",
       "      <td>2020</td>\n",
       "      <td>Austrian Grand Prix</td>\n",
       "    </tr>\n",
       "    <tr>\n",
       "      <th>5</th>\n",
       "      <td>2404.340</td>\n",
       "      <td>GAS</td>\n",
       "      <td>10</td>\n",
       "      <td>72.028</td>\n",
       "      <td>6.0</td>\n",
       "      <td>1.0</td>\n",
       "      <td>17.944</td>\n",
       "      <td>31.741</td>\n",
       "      <td>22.343</td>\n",
       "      <td>273.0</td>\n",
       "      <td>...</td>\n",
       "      <td>12.0</td>\n",
       "      <td>28.3</td>\n",
       "      <td>34.0</td>\n",
       "      <td>938.9</td>\n",
       "      <td>False</td>\n",
       "      <td>53.6</td>\n",
       "      <td>72</td>\n",
       "      <td>2.9</td>\n",
       "      <td>2020</td>\n",
       "      <td>Austrian Grand Prix</td>\n",
       "    </tr>\n",
       "    <tr>\n",
       "      <th>...</th>\n",
       "      <td>...</td>\n",
       "      <td>...</td>\n",
       "      <td>...</td>\n",
       "      <td>...</td>\n",
       "      <td>...</td>\n",
       "      <td>...</td>\n",
       "      <td>...</td>\n",
       "      <td>...</td>\n",
       "      <td>...</td>\n",
       "      <td>...</td>\n",
       "      <td>...</td>\n",
       "      <td>...</td>\n",
       "      <td>...</td>\n",
       "      <td>...</td>\n",
       "      <td>...</td>\n",
       "      <td>...</td>\n",
       "      <td>...</td>\n",
       "      <td>...</td>\n",
       "      <td>...</td>\n",
       "      <td>...</td>\n",
       "      <td>...</td>\n",
       "    </tr>\n",
       "    <tr>\n",
       "      <th>918</th>\n",
       "      <td>6320.318</td>\n",
       "      <td>PIA</td>\n",
       "      <td>81</td>\n",
       "      <td>85.284</td>\n",
       "      <td>33.0</td>\n",
       "      <td>1.0</td>\n",
       "      <td>31.705</td>\n",
       "      <td>28.931</td>\n",
       "      <td>24.648</td>\n",
       "      <td>238.0</td>\n",
       "      <td>...</td>\n",
       "      <td>3.0</td>\n",
       "      <td>18.6</td>\n",
       "      <td>57.0</td>\n",
       "      <td>1015.7</td>\n",
       "      <td>False</td>\n",
       "      <td>22.3</td>\n",
       "      <td>11</td>\n",
       "      <td>1.4</td>\n",
       "      <td>2024</td>\n",
       "      <td>Qatar Grand Prix</td>\n",
       "    </tr>\n",
       "    <tr>\n",
       "      <th>928</th>\n",
       "      <td>7592.320</td>\n",
       "      <td>PIA</td>\n",
       "      <td>81</td>\n",
       "      <td>86.116</td>\n",
       "      <td>43.0</td>\n",
       "      <td>4.0</td>\n",
       "      <td>32.589</td>\n",
       "      <td>28.879</td>\n",
       "      <td>24.648</td>\n",
       "      <td>238.0</td>\n",
       "      <td>...</td>\n",
       "      <td>4.0</td>\n",
       "      <td>18.4</td>\n",
       "      <td>61.0</td>\n",
       "      <td>1015.6</td>\n",
       "      <td>False</td>\n",
       "      <td>22.0</td>\n",
       "      <td>334</td>\n",
       "      <td>1.1</td>\n",
       "      <td>2024</td>\n",
       "      <td>Qatar Grand Prix</td>\n",
       "    </tr>\n",
       "    <tr>\n",
       "      <th>929</th>\n",
       "      <td>7676.621</td>\n",
       "      <td>PIA</td>\n",
       "      <td>81</td>\n",
       "      <td>84.301</td>\n",
       "      <td>44.0</td>\n",
       "      <td>4.0</td>\n",
       "      <td>31.523</td>\n",
       "      <td>28.442</td>\n",
       "      <td>24.336</td>\n",
       "      <td>240.0</td>\n",
       "      <td>...</td>\n",
       "      <td>4.0</td>\n",
       "      <td>18.3</td>\n",
       "      <td>62.0</td>\n",
       "      <td>1015.6</td>\n",
       "      <td>False</td>\n",
       "      <td>22.0</td>\n",
       "      <td>14</td>\n",
       "      <td>1.7</td>\n",
       "      <td>2024</td>\n",
       "      <td>Qatar Grand Prix</td>\n",
       "    </tr>\n",
       "    <tr>\n",
       "      <th>930</th>\n",
       "      <td>7760.601</td>\n",
       "      <td>PIA</td>\n",
       "      <td>81</td>\n",
       "      <td>83.980</td>\n",
       "      <td>45.0</td>\n",
       "      <td>4.0</td>\n",
       "      <td>31.390</td>\n",
       "      <td>28.358</td>\n",
       "      <td>24.232</td>\n",
       "      <td>239.0</td>\n",
       "      <td>...</td>\n",
       "      <td>3.0</td>\n",
       "      <td>18.3</td>\n",
       "      <td>62.0</td>\n",
       "      <td>1015.6</td>\n",
       "      <td>False</td>\n",
       "      <td>22.0</td>\n",
       "      <td>31</td>\n",
       "      <td>1.4</td>\n",
       "      <td>2024</td>\n",
       "      <td>Qatar Grand Prix</td>\n",
       "    </tr>\n",
       "    <tr>\n",
       "      <th>936</th>\n",
       "      <td>8262.168</td>\n",
       "      <td>PIA</td>\n",
       "      <td>81</td>\n",
       "      <td>83.218</td>\n",
       "      <td>51.0</td>\n",
       "      <td>4.0</td>\n",
       "      <td>31.026</td>\n",
       "      <td>28.232</td>\n",
       "      <td>23.960</td>\n",
       "      <td>240.0</td>\n",
       "      <td>...</td>\n",
       "      <td>3.0</td>\n",
       "      <td>18.3</td>\n",
       "      <td>64.0</td>\n",
       "      <td>1015.5</td>\n",
       "      <td>False</td>\n",
       "      <td>21.9</td>\n",
       "      <td>325</td>\n",
       "      <td>1.2</td>\n",
       "      <td>2024</td>\n",
       "      <td>Qatar Grand Prix</td>\n",
       "    </tr>\n",
       "  </tbody>\n",
       "</table>\n",
       "<p>72596 rows × 29 columns</p>\n",
       "</div>"
      ],
      "text/plain": [
       "         Time Driver DriverNumber  LapTime  LapNumber  Stint  Sector1Time  \\\n",
       "1    2118.765    GAS           10   72.412        2.0    1.0       17.960   \n",
       "2    2190.076    GAS           10   71.311        3.0    1.0       17.513   \n",
       "3    2260.801    GAS           10   70.725        4.0    1.0       17.410   \n",
       "4    2332.312    GAS           10   71.511        5.0    1.0       17.464   \n",
       "5    2404.340    GAS           10   72.028        6.0    1.0       17.944   \n",
       "..        ...    ...          ...      ...        ...    ...          ...   \n",
       "918  6320.318    PIA           81   85.284       33.0    1.0       31.705   \n",
       "928  7592.320    PIA           81   86.116       43.0    4.0       32.589   \n",
       "929  7676.621    PIA           81   84.301       44.0    4.0       31.523   \n",
       "930  7760.601    PIA           81   83.980       45.0    4.0       31.390   \n",
       "936  8262.168    PIA           81   83.218       51.0    4.0       31.026   \n",
       "\n",
       "     Sector2Time  Sector3Time  SpeedI1  ...  Position  AirTemp  Humidity  \\\n",
       "1         32.228       22.224    282.0  ...      12.0     27.7      35.5   \n",
       "2         31.717       22.081    307.0  ...      12.0     28.1      35.6   \n",
       "3         31.510       21.805    309.0  ...      12.0     28.6      33.7   \n",
       "4         31.827       22.220    303.0  ...      12.0     28.9      32.8   \n",
       "5         31.741       22.343    273.0  ...      12.0     28.3      34.0   \n",
       "..           ...          ...      ...  ...       ...      ...       ...   \n",
       "918       28.931       24.648    238.0  ...       3.0     18.6      57.0   \n",
       "928       28.879       24.648    238.0  ...       4.0     18.4      61.0   \n",
       "929       28.442       24.336    240.0  ...       4.0     18.3      62.0   \n",
       "930       28.358       24.232    239.0  ...       3.0     18.3      62.0   \n",
       "936       28.232       23.960    240.0  ...       3.0     18.3      64.0   \n",
       "\n",
       "    Pressure Rainfall  TrackTemp  WindDirection WindSpeed  Year  \\\n",
       "1      939.0    False       54.1            276       0.7  2020   \n",
       "2      939.0    False       54.0            156       1.7  2020   \n",
       "3      939.0    False       54.1             90       2.0  2020   \n",
       "4      938.9    False       54.7             87       3.1  2020   \n",
       "5      938.9    False       53.6             72       2.9  2020   \n",
       "..       ...      ...        ...            ...       ...   ...   \n",
       "918   1015.7    False       22.3             11       1.4  2024   \n",
       "928   1015.6    False       22.0            334       1.1  2024   \n",
       "929   1015.6    False       22.0             14       1.7  2024   \n",
       "930   1015.6    False       22.0             31       1.4  2024   \n",
       "936   1015.5    False       21.9            325       1.2  2024   \n",
       "\n",
       "                   Event  \n",
       "1    Austrian Grand Prix  \n",
       "2    Austrian Grand Prix  \n",
       "3    Austrian Grand Prix  \n",
       "4    Austrian Grand Prix  \n",
       "5    Austrian Grand Prix  \n",
       "..                   ...  \n",
       "918     Qatar Grand Prix  \n",
       "928     Qatar Grand Prix  \n",
       "929     Qatar Grand Prix  \n",
       "930     Qatar Grand Prix  \n",
       "936     Qatar Grand Prix  \n",
       "\n",
       "[72596 rows x 29 columns]"
      ]
     },
     "execution_count": 12,
     "metadata": {},
     "output_type": "execute_result"
    }
   ],
   "source": [
    "races_data.head(-1)"
   ]
  },
  {
   "cell_type": "code",
   "execution_count": 10,
   "id": "21137420-9e56-4d47-bc5e-657b0e96fe2d",
   "metadata": {},
   "outputs": [],
   "source": [
    "races_data.to_csv('f1races.csv')"
   ]
  },
  {
   "cell_type": "code",
   "execution_count": 11,
   "id": "185c8c2d-4f1a-433c-8162-07a48d23aa4d",
   "metadata": {},
   "outputs": [
    {
     "data": {
      "text/plain": [
       "Index(['Time', 'Driver', 'DriverNumber', 'LapTime', 'LapNumber', 'Stint',\n",
       "       'Sector1Time', 'Sector2Time', 'Sector3Time', 'SpeedI1', 'SpeedI2',\n",
       "       'SpeedFL', 'SpeedST', 'IsPersonalBest', 'Compound', 'TyreLife',\n",
       "       'FreshTyre', 'Team', 'TrackStatus', 'Position', 'AirTemp', 'Humidity',\n",
       "       'Pressure', 'Rainfall', 'TrackTemp', 'WindDirection', 'WindSpeed',\n",
       "       'Year', 'Event'],\n",
       "      dtype='object')"
      ]
     },
     "execution_count": 11,
     "metadata": {},
     "output_type": "execute_result"
    }
   ],
   "source": [
    "races_data.columns"
   ]
  }
 ],
 "metadata": {
  "kernelspec": {
   "display_name": "Python 3 (ipykernel)",
   "language": "python",
   "name": "python3"
  },
  "language_info": {
   "codemirror_mode": {
    "name": "ipython",
    "version": 3
   },
   "file_extension": ".py",
   "mimetype": "text/x-python",
   "name": "python",
   "nbconvert_exporter": "python",
   "pygments_lexer": "ipython3",
   "version": "3.12.1"
  }
 },
 "nbformat": 4,
 "nbformat_minor": 5
}
